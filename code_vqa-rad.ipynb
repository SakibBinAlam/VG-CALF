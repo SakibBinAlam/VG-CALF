{
 "cells": [
  {
   "cell_type": "markdown",
   "metadata": {
    "id": "khS2F5jUqb6-"
   },
   "source": [
    "# Vision-Guided Cross-Attention and Late-Fusion Network"
   ]
  },
  {
   "cell_type": "code",
   "execution_count": 1,
   "metadata": {},
   "outputs": [],
   "source": [
    "import os\n",
    "os.environ['http_proxy'] = \"http://192.41.170.23:3128\" \n",
    "os.environ['https_proxy'] = \"http://192.41.170.23:3128\""
   ]
  },
  {
   "cell_type": "markdown",
   "metadata": {
    "id": "VdPX51W6qb7C"
   },
   "source": [
    "### Import Necessary Libraries and Environment Setup"
   ]
  },
  {
   "cell_type": "code",
   "execution_count": 3,
   "metadata": {
    "id": "ejrV_a0XEe0m"
   },
   "outputs": [],
   "source": [
    "#!pip uninstall -y transformers tokenizers\n",
    "#!pip install transformers==4.9.0 tokenizers==0.10.1"
   ]
  },
  {
   "cell_type": "code",
   "execution_count": 4,
   "metadata": {
    "id": "A-ZAFVN1qb7D"
   },
   "outputs": [],
   "source": [
    "import os\n",
    "from copy import deepcopy\n",
    "from dataclasses import dataclass\n",
    "from typing import Dict, List, Optional, Tuple\n",
    "from datasets import load_dataset, set_caching_enabled\n",
    "import numpy as np\n",
    "from PIL import Image\n",
    "import torch\n",
    "import torch.nn as nn\n",
    "from transformers import (\n",
    "    # Preprocessing / Common\n",
    "    AutoTokenizer, AutoFeatureExtractor,\n",
    "    # Text & Image Models (Now, image transformers like ViTModel, DeiTModel, BEiT can also be loaded using AutoModel)\n",
    "    AutoModel,\n",
    "    # Training / Evaluation\n",
    "    TrainingArguments, Trainer,\n",
    "    # Misc\n",
    "    logging\n",
    ")\n",
    "\n",
    "# import nltk\n",
    "# nltk.download('wordnet')\n",
    "from nltk.corpus import wordnet\n",
    "\n",
    "from sklearn.metrics import accuracy_score, f1_score"
   ]
  },
  {
   "cell_type": "code",
   "execution_count": 5,
   "metadata": {
    "colab": {
     "base_uri": "https://localhost:8080/"
    },
    "id": "MAcHyJ6tqb7E",
    "outputId": "a7ba3da3-32eb-4b96-c8b5-dc4a61d396e3"
   },
   "outputs": [
    {
     "name": "stderr",
     "output_type": "stream",
     "text": [
      "/tmp/ipykernel_1657991/965404445.py:6: FutureWarning: set_caching_enabled is deprecated and will be removed in the next major version of datasets. Use datasets.enable_caching() or datasets.disable_caching() instead. This function will be removed in a future version of datasets.\n",
      "  set_caching_enabled(True)\n"
     ]
    }
   ],
   "source": [
    "# SET CACHE FOR HUGGINGFACE TRANSFORMERS + DATASETS\n",
    "os.environ['HF_HOME'] = os.path.join(\".\", \"cache\")\n",
    "# SET ONLY 1 GPU DEVICE\n",
    "# os.environ['CUDA_VISIBLE_DEVICES'] = '1'\n",
    "\n",
    "set_caching_enabled(True)\n",
    "logging.set_verbosity_error()"
   ]
  },
  {
   "cell_type": "code",
   "execution_count": 6,
   "metadata": {
    "colab": {
     "base_uri": "https://localhost:8080/"
    },
    "id": "io4v5TBJqb7F",
    "outputId": "f969821e-9117-4820-f97e-212868ecb54e"
   },
   "outputs": [
    {
     "name": "stdout",
     "output_type": "stream",
     "text": [
      "cuda:0\n",
      "NVIDIA RTX A6000\n"
     ]
    }
   ],
   "source": [
    "device = torch.device('cuda:0' if torch.cuda.is_available() else 'cpu')\n",
    "print(device)\n",
    "\n",
    "#Additional Info when using cuda\n",
    "if device.type == 'cuda':\n",
    "    print(torch.cuda.get_device_name(0))\n",
    "#     print('Memory Usage:')\n",
    "#     print('Allocated:', round(torch.cuda.memory_allocated(0)/1024**3,1), 'GB')\n",
    "#     print('Cached:   ', round(torch.cuda.memory_reserved(0)/1024**3,1), 'GB')"
   ]
  },
  {
   "cell_type": "markdown",
   "metadata": {
    "id": "Kp7_dUoQqb7G"
   },
   "source": [
    "### Load the Dataset"
   ]
  },
  {
   "cell_type": "code",
   "execution_count": 7,
   "metadata": {
    "colab": {
     "base_uri": "https://localhost:8080/"
    },
    "id": "Oyun-gfarFbE",
    "outputId": "0e8a8496-0245-4396-c2b7-209d6f069d5e"
   },
   "outputs": [],
   "source": [
    "# from google.colab import drive\n",
    "# drive.mount('/content/drive')"
   ]
  },
  {
   "cell_type": "code",
   "execution_count": 8,
   "metadata": {
    "colab": {
     "base_uri": "https://localhost:8080/",
     "height": 219,
     "referenced_widgets": [
      "89d3d046d0e84af5afa3db82339b0002",
      "7629138a25494d318269598c244838a4",
      "e6e596653d25482490c041771e5256ab",
      "645a398d7fc44dfaa29ce82799b3f3c4",
      "6a882346dda74616936d9dc41779e5cf",
      "08b335536ce04f61951a660f25fd3d0b",
      "41132cf2d3f04824aa2101a31069ca97",
      "24b1d8b6bc314470bfd496c89ad72c19",
      "824504c950ca411396483a37362adad1",
      "23ab7f9f5d8b429a85c984eebd49a285",
      "de0d3875807648b09bb7884c6c4d7c4e",
      "cfa88dc71ee04ee3a1505bd25ef1e31d",
      "6b1cc6721a144d62a431cb2d440f6a0f",
      "92386998a9844a8993ef54aff00a80f4",
      "496e826396844df89d653f05a69dd916",
      "e97d8c94cdb44d4bb97b94c20cfb242e",
      "f0723e0cf3f64d93a9d48e9a8a0d4497",
      "4f0703ef37ea4c97a884b5968dbb81f5",
      "54c40db23f9442e4ad08216769e9b251",
      "40e483ac52a649f5b9981dc6fc19416f",
      "052bde9ad6e8416e9892f2f127753b70",
      "069535f01ab24500b2ae48918f20253b"
     ]
    },
    "id": "ckTSUe8UTxhV",
    "outputId": "4434baab-17b9-48bc-f3cc-f16fa3264569"
   },
   "outputs": [
    {
     "name": "stdout",
     "output_type": "stream",
     "text": [
      "Downloading and preparing dataset csv/default to /home/aimanl/.cache/huggingface/datasets/csv/default-3648b1b5d43ea17b/0.0.0/6954658bab30a358235fa864b05cf819af0e179325c740e4bc853bcc7ec513e1...\n"
     ]
    },
    {
     "data": {
      "application/vnd.jupyter.widget-view+json": {
       "model_id": "d96b2a67ae57423ba5c93180a36a6f47",
       "version_major": 2,
       "version_minor": 0
      },
      "text/plain": [
       "Downloading data files:   0%|          | 0/1 [00:00<?, ?it/s]"
      ]
     },
     "metadata": {},
     "output_type": "display_data"
    },
    {
     "data": {
      "application/vnd.jupyter.widget-view+json": {
       "model_id": "083d3f31cc004020b16a29e95414cd85",
       "version_major": 2,
       "version_minor": 0
      },
      "text/plain": [
       "Extracting data files:   0%|          | 0/1 [00:00<?, ?it/s]"
      ]
     },
     "metadata": {},
     "output_type": "display_data"
    },
    {
     "data": {
      "application/vnd.jupyter.widget-view+json": {
       "model_id": "",
       "version_major": 2,
       "version_minor": 0
      },
      "text/plain": [
       "Generating train split: 0 examples [00:00, ? examples/s]"
      ]
     },
     "metadata": {},
     "output_type": "display_data"
    },
    {
     "name": "stdout",
     "output_type": "stream",
     "text": [
      "Dataset csv downloaded and prepared to /home/aimanl/.cache/huggingface/datasets/csv/default-3648b1b5d43ea17b/0.0.0/6954658bab30a358235fa864b05cf819af0e179325c740e4bc853bcc7ec513e1. Subsequent calls will reuse this data.\n",
      "Downloading and preparing dataset csv/default to /home/aimanl/.cache/huggingface/datasets/csv/default-76aaa204fa58a3db/0.0.0/6954658bab30a358235fa864b05cf819af0e179325c740e4bc853bcc7ec513e1...\n"
     ]
    },
    {
     "data": {
      "application/vnd.jupyter.widget-view+json": {
       "model_id": "d87ef018147f488ea8ade8dca0ebcfdb",
       "version_major": 2,
       "version_minor": 0
      },
      "text/plain": [
       "Downloading data files:   0%|          | 0/1 [00:00<?, ?it/s]"
      ]
     },
     "metadata": {},
     "output_type": "display_data"
    },
    {
     "data": {
      "application/vnd.jupyter.widget-view+json": {
       "model_id": "d08cbe1e459b4a18aea0f1c88fa32aa6",
       "version_major": 2,
       "version_minor": 0
      },
      "text/plain": [
       "Extracting data files:   0%|          | 0/1 [00:00<?, ?it/s]"
      ]
     },
     "metadata": {},
     "output_type": "display_data"
    },
    {
     "data": {
      "application/vnd.jupyter.widget-view+json": {
       "model_id": "",
       "version_major": 2,
       "version_minor": 0
      },
      "text/plain": [
       "Generating train split: 0 examples [00:00, ? examples/s]"
      ]
     },
     "metadata": {},
     "output_type": "display_data"
    },
    {
     "name": "stdout",
     "output_type": "stream",
     "text": [
      "Dataset csv downloaded and prepared to /home/aimanl/.cache/huggingface/datasets/csv/default-76aaa204fa58a3db/0.0.0/6954658bab30a358235fa864b05cf819af0e179325c740e4bc853bcc7ec513e1. Subsequent calls will reuse this data.\n"
     ]
    },
    {
     "data": {
      "application/vnd.jupyter.widget-view+json": {
       "model_id": "",
       "version_major": 2,
       "version_minor": 0
      },
      "text/plain": [
       "Map:   0%|          | 0/3064 [00:00<?, ? examples/s]"
      ]
     },
     "metadata": {},
     "output_type": "display_data"
    },
    {
     "data": {
      "application/vnd.jupyter.widget-view+json": {
       "model_id": "",
       "version_major": 2,
       "version_minor": 0
      },
      "text/plain": [
       "Map:   0%|          | 0/226 [00:00<?, ? examples/s]"
      ]
     },
     "metadata": {},
     "output_type": "display_data"
    },
    {
     "name": "stdout",
     "output_type": "stream",
     "text": [
      "Dataset({\n",
      "    features: ['record', 'qid', 'image_name', 'image_organ', 'answer', 'answer_type', 'question_type', 'question', 'phrase_type', 'label'],\n",
      "    num_rows: 3064\n",
      "})\n",
      "Dataset({\n",
      "    features: ['image_name', 'category', 'question', 'answer_type', 'answer', 'mode', 'label'],\n",
      "    num_rows: 226\n",
      "})\n"
     ]
    }
   ],
   "source": [
    "import os\n",
    "import pandas as pd\n",
    "from datasets import load_dataset\n",
    "\n",
    "# Define the path to the train.csv and val.csv files\n",
    "train_file = \"mrad-train.csv\"\n",
    "val_file = \"mrad-valid.csv\"\n",
    "\n",
    "# Load the train and val datasets\n",
    "train_dataset = load_dataset(\"csv\", data_files=train_file, split=\"train\")\n",
    "val_dataset = load_dataset(\"csv\", data_files=val_file, split=\"train\")\n",
    "\n",
    "# Extract the answers from the datasets\n",
    "train_answers = train_dataset[\"answer\"]\n",
    "val_answers = val_dataset[\"answer\"]\n",
    "\n",
    "# Build the answer space\n",
    "answer_space = set(train_answers + val_answers)\n",
    "answer_space = list(answer_space)\n",
    "\n",
    "# Map the answers to label indices\n",
    "def map_to_label(example):\n",
    "    labels = [\n",
    "        answer_space.index(answer) if answer in answer_space else -1\n",
    "        for answer in example[\"answer\"]\n",
    "    ]\n",
    "    return {\"label\": labels}\n",
    "\n",
    "# Apply the mapping function to the train and val datasets\n",
    "train_dataset = train_dataset.map(map_to_label, batched=True)\n",
    "val_dataset = val_dataset.map(map_to_label, batched=True)\n",
    "\n",
    "# Print the updated datasets\n",
    "print(train_dataset)\n",
    "print(val_dataset)\n"
   ]
  },
  {
   "cell_type": "markdown",
   "metadata": {
    "id": "rJD0PdAjqb7H"
   },
   "source": [
    "### Check VQA Sample"
   ]
  },
  {
   "cell_type": "code",
   "execution_count": 9,
   "metadata": {
    "id": "PULIWCh4Wuvx"
   },
   "outputs": [
    {
     "data": {
      "text/plain": [
       "459"
      ]
     },
     "execution_count": 9,
     "metadata": {},
     "output_type": "execute_result"
    }
   ],
   "source": [
    "len(answer_space)"
   ]
  },
  {
   "cell_type": "code",
   "execution_count": 10,
   "metadata": {},
   "outputs": [],
   "source": [
    "# len(set(train_answers))\n",
    "# print(sorted(set(train_answers)))"
   ]
  },
  {
   "cell_type": "code",
   "execution_count": 11,
   "metadata": {},
   "outputs": [],
   "source": [
    "# print(sorted(set(val_answers)))"
   ]
  },
  {
   "cell_type": "code",
   "execution_count": 12,
   "metadata": {
    "id": "lvqZiRUoqb7I"
   },
   "outputs": [],
   "source": [
    "from PIL import Image\n",
    "import os\n",
    "import numpy as np\n",
    "from IPython.display import display\n",
    "\n",
    "def preprocess_images(image_ids):\n",
    "    image_folder = \"VQA_RAD Image Folder\"\n",
    "    images = []\n",
    "    for image_id in image_ids:\n",
    "        image_path = os.path.join(image_folder, image_id)\n",
    "        image = Image.open(image_path).convert('RGB')\n",
    "        images.append(image)\n",
    "    return images\n",
    "\n",
    "def showExample(train=True, example_id=None):\n",
    "    if train:\n",
    "        dataset = train_dataset\n",
    "    else:\n",
    "        dataset = val_dataset\n",
    "    if example_id is None:\n",
    "        example_id = np.random.randint(len(dataset))\n",
    "\n",
    "    image_id = dataset[example_id][\"image_name\"]\n",
    "    image = Image.open(os.path.join(\"VQA_RAD Image Folder\", image_id))\n",
    "    display(image.reduce(2))\n",
    "\n",
    "    print(\"Question:\\t\", dataset[example_id][\"question\"])\n",
    "    print(\"Answer:\\t\\t\", dataset[example_id][\"answer\"], \"(Label: {0})\".format(dataset[example_id][\"label\"]))\n"
   ]
  },
  {
   "cell_type": "code",
   "execution_count": 13,
   "metadata": {
    "colab": {
     "base_uri": "https://localhost:8080/",
     "height": 606
    },
    "id": "_3u2ITcjqb7I",
    "outputId": "8aad7e1b-c39b-4ed7-fd6b-4b1f59f6bb51"
   },
   "outputs": [
    {
     "data": {
      "image/png": "[encoded data removed]",
      "text/plain": [
       "<PIL.Image.Image image mode=RGB size=512x327>"
      ]
     },
     "metadata": {},
     "output_type": "display_data"
    },
    {
     "name": "stdout",
     "output_type": "stream",
     "text": [
      "Question:\t What is the location of the mass?\n",
      "Answer:\t\t right kidney (Label: 188)\n"
     ]
    }
   ],
   "source": [
    "showExample(train=True)"
   ]
  },
  {
   "cell_type": "markdown",
   "metadata": {
    "id": "d1JdGfBuqb7I"
   },
   "source": [
    "### Create a Multimodal Collator"
   ]
  },
  {
   "cell_type": "markdown",
   "metadata": {
    "id": "tSNvlXVmqb7I"
   },
   "source": [
    "This will be used in the `Trainer()` to automatically create the `Dataloader` from the dataset to pass inputs to the model\n",
    "\n",
    "The collator will process the **question (text)** & the **image**, and return the **tokenized text** along with the **featurized image**. These will be fed into our multimodal transformer model for VQA."
   ]
  },
  {
   "cell_type": "code",
   "execution_count": 14,
   "metadata": {
    "id": "g7cC413Sqb7I"
   },
   "outputs": [],
   "source": [
    "@dataclass\n",
    "class MultimodalCollator:\n",
    "    tokenizer: AutoTokenizer\n",
    "    preprocessor: AutoFeatureExtractor\n",
    "\n",
    "    def tokenize_text(self, texts: List[str]):\n",
    "        encoded_text = self.tokenizer(\n",
    "            text=texts,\n",
    "            padding='longest',\n",
    "            max_length=24,\n",
    "            truncation=True,\n",
    "            return_tensors='pt',\n",
    "            return_token_type_ids=True,\n",
    "            return_attention_mask=True,\n",
    "        )\n",
    "        return {\n",
    "            \"input_ids\": encoded_text['input_ids'].squeeze(),\n",
    "            \"token_type_ids\": encoded_text['token_type_ids'].squeeze(),\n",
    "            \"attention_mask\": encoded_text['attention_mask'].squeeze(),\n",
    "        }\n",
    "\n",
    "    def preprocess_images(self, images: List[str]):\n",
    "        processed_images = self.preprocessor(\n",
    "            images=[Image.open(os.path.join(\"VQA_RAD Image Folder\", image_id)).convert('RGB') for image_id in images],\n",
    "            return_tensors=\"pt\",\n",
    "        )\n",
    "        return {\n",
    "            \"pixel_values\": processed_images['pixel_values'].squeeze(),\n",
    "        }\n",
    "\n",
    "    def __call__(self, raw_batch_dict):\n",
    "        return {\n",
    "            **self.tokenize_text(\n",
    "                raw_batch_dict['question']\n",
    "                if isinstance(raw_batch_dict, dict) else\n",
    "                [i['question'] for i in raw_batch_dict]\n",
    "            ),\n",
    "            **self.preprocess_images(\n",
    "                raw_batch_dict['image_name']\n",
    "                if isinstance(raw_batch_dict, dict) else\n",
    "                [i['image_name'] for i in raw_batch_dict]\n",
    "            ),\n",
    "            'labels': torch.tensor(\n",
    "                raw_batch_dict['label']\n",
    "                if isinstance(raw_batch_dict, dict) else\n",
    "                [i['label'] for i in raw_batch_dict],\n",
    "                dtype=torch.int64\n",
    "            ),\n",
    "        }"
   ]
  },
  {
   "cell_type": "markdown",
   "metadata": {
    "id": "2hNv6HElqb7J"
   },
   "source": [
    "### Define VG-CALF Model Architecture"
   ]
  },
  {
   "cell_type": "markdown",
   "metadata": {
    "id": "bYz0nZ2Zqb7J"
   },
   "source": [
    "Multimodal models can be of various forms to capture information from the text & image modalities, along with some cross-modal interaction as well.\n",
    "Here, we implemented **\"Vision-Guided Cross-Attention\"** and **\"Fusion\"** modules, to enhance inter-modality relationship between the text encoder & image encoder to perform VQA with radiology images.\n",
    "\n",
    "The text encoder can be a text-based transformer model like BERT, while the image encoder could be an image transformer, such as ViT. After passing the tokenized question through the text-based transformer & the image features through the image transformer, these modules are applied and the outputs are passed through fully-connected linear layers."
   ]
  },
  {
   "cell_type": "code",
   "execution_count": 15,
   "metadata": {
    "id": "aYqGSjn1qb7J"
   },
   "outputs": [],
   "source": [
    "import torch\n",
    "import torch.nn as nn\n",
    "from transformers import AutoModel\n",
    "from typing import Optional\n",
    "\n",
    "import torch\n",
    "import torch.nn as nn\n",
    "from transformers import AutoModel\n",
    "from typing import Optional\n",
    "\n",
    "import torch\n",
    "import torch.nn as nn\n",
    "from transformers import AutoModel\n",
    "from typing import Optional\n",
    "\n",
    "class MultimodalVQAModel(nn.Module):\n",
    "    def __init__(\n",
    "            self,\n",
    "            num_labels: int = len(answer_space),\n",
    "            intermediate_dim: int = 768,\n",
    "            pretrained_text_name: str = 'bert-base-uncased',\n",
    "            pretrained_image_name: str = 'google/vit-base-patch16-224'):\n",
    "\n",
    "        super(MultimodalVQAModel, self).__init__()\n",
    "        self.num_labels = num_labels\n",
    "        self.pretrained_text_name = pretrained_text_name\n",
    "        self.pretrained_image_name = pretrained_image_name\n",
    "\n",
    "        self.text_encoder = AutoModel.from_pretrained(self.pretrained_text_name)\n",
    "        self.image_encoder = AutoModel.from_pretrained(self.pretrained_image_name)\n",
    "\n",
    "        # Vision-Guided Cross-Attention module\n",
    "        self.cross_attention = nn.MultiheadAttention(\n",
    "            embed_dim=self.text_encoder.config.hidden_size,\n",
    "            num_heads=16,  # Adjust as needed\n",
    "        )\n",
    "\n",
    "        # Late-Fusion module\n",
    "        self.fusion = nn.Sequential(\n",
    "            nn.Linear(1536, 1024),\n",
    "            nn.LayerNorm(1024),\n",
    "            nn.ReLU(),\n",
    "            nn.Linear(1024, intermediate_dim),  # Add text features\n",
    "            nn.LayerNorm(intermediate_dim),\n",
    "            nn.ReLU(),\n",
    "            nn.Dropout(0.2),\n",
    "        ) \n",
    "\n",
    "        self.classifier = nn.Linear(intermediate_dim, self.num_labels)\n",
    "\n",
    "        self.criterion = nn.CrossEntropyLoss()\n",
    "\n",
    "    def forward(\n",
    "            self,\n",
    "            input_ids: torch.LongTensor,\n",
    "            pixel_values: torch.FloatTensor,\n",
    "            attention_mask: Optional[torch.LongTensor] = None,\n",
    "            token_type_ids: Optional[torch.LongTensor] = None,\n",
    "            labels: Optional[torch.LongTensor] = None):\n",
    "\n",
    "        encoded_text = self.text_encoder(\n",
    "            input_ids=input_ids,\n",
    "            attention_mask=attention_mask,\n",
    "            token_type_ids=token_type_ids,\n",
    "            return_dict=True,\n",
    "        )\n",
    "        encoded_image = self.image_encoder(\n",
    "            pixel_values=pixel_values,\n",
    "            return_dict=True,\n",
    "        )\n",
    "\n",
    "        # Apply cross-attention (image attends to text)\n",
    "        attended_image_features, _ = self.cross_attention(\n",
    "            query=encoded_image['pooler_output'],\n",
    "            key=encoded_text['pooler_output'],\n",
    "            value=encoded_text['pooler_output'],\n",
    "        )\n",
    "\n",
    "        # Concatenate attended image features with text features\n",
    "        fused_features = torch.cat(\n",
    "            [encoded_text['pooler_output'], attended_image_features],\n",
    "            dim=1\n",
    "        )\n",
    "\n",
    "        # Apply late fusion module\n",
    "        fused_output = self.fusion(fused_features)\n",
    "\n",
    "        logits = self.classifier(fused_output)\n",
    "\n",
    "        out = {\n",
    "            \"logits\": logits\n",
    "        }\n",
    "        if labels is not None:\n",
    "            loss = self.criterion(logits, labels)\n",
    "            out[\"loss\"] = loss\n",
    "\n",
    "        return out             \n",
    "                "
   ]
  },
  {
   "cell_type": "markdown",
   "metadata": {
    "id": "2lbjDnvcqb7J"
   },
   "source": [
    "### Define a Function for the Model and the Collator"
   ]
  },
  {
   "cell_type": "markdown",
   "metadata": {
    "id": "Rgtxa9pvqb7K"
   },
   "source": [
    "We plan to experiment with pretrained text & image encoders for our model. So, we will have to create the corresponding collators along with the model (tokenizers, featurizers & models need to be loaded from same pretrained checkpoints)."
   ]
  },
  {
   "cell_type": "code",
   "execution_count": 16,
   "metadata": {
    "id": "nqgmw3IXqb7K"
   },
   "outputs": [],
   "source": [
    "def createMultimodalVQACollatorAndModel(text='bert-base-uncased', image='google/vit-base-patch16-224'):\n",
    "    tokenizer = AutoTokenizer.from_pretrained(text)\n",
    "    preprocessor = AutoFeatureExtractor.from_pretrained(image)\n",
    "\n",
    "    multi_collator = MultimodalCollator(\n",
    "        tokenizer=tokenizer,\n",
    "        preprocessor=preprocessor,\n",
    "    )\n",
    "\n",
    "\n",
    "    multi_model = MultimodalVQAModel(pretrained_text_name=text, pretrained_image_name=image).to(device)\n",
    "    return multi_collator, multi_model"
   ]
  },
  {
   "cell_type": "markdown",
   "metadata": {
    "id": "4NlppIzyqb7K"
   },
   "source": [
    "### Performance Metrics"
   ]
  },
  {
   "cell_type": "code",
   "execution_count": 21,
   "metadata": {
    "colab": {
     "base_uri": "https://localhost:8080/"
    },
    "id": "gQYdi5lH_941",
    "outputId": "622bf361-dc78-46b4-92b6-220723c4f1de"
   },
   "outputs": [
    {
     "name": "stderr",
     "output_type": "stream",
     "text": [
      "[nltk_data] Downloading package wordnet to /home/aimanl/nltk_data...\n"
     ]
    }
   ],
   "source": [
    "import nltk\n",
    "nltk.download('wordnet')\n",
    "from nltk.corpus import wordnet"
   ]
  },
  {
   "cell_type": "code",
   "execution_count": 25,
   "metadata": {
    "id": "yQy-qoe0qb7L"
   },
   "outputs": [],
   "source": [
    "from nltk.translate.bleu_score import sentence_bleu, SmoothingFunction\n",
    "import numpy as np\n",
    "from typing import Tuple, Dict\n",
    "\n",
    "def compute_metrics(eval_tuple: Tuple[np.ndarray, np.ndarray]) -> Dict[str, float]:\n",
    "    logits, labels = eval_tuple\n",
    "    preds = logits.argmax(axis=-1)\n",
    "    \n",
    "    # Convert labels and preds to lists of strings\n",
    "    reference = [str(label) for label in labels]\n",
    "    candidate = [str(pred) for pred in preds]\n",
    "\n",
    "    # Calculate BLEU-1 score\n",
    "    bleu_score = sentence_bleu([reference], candidate)\n",
    "\n",
    "    return {\n",
    "        # \"wups\": batch_wup_measure(labels, preds),\n",
    "        \"bleu\": bleu_score,\n",
    "        \"acc\": accuracy_score(labels, preds),\n",
    "        \"f1\": f1_score(labels, preds, average='macro')\n",
    "    }"
   ]
  },
  {
   "cell_type": "markdown",
   "metadata": {
    "id": "MHGJdX0Oqb7L"
   },
   "source": [
    "### Model Training and Evaluation"
   ]
  },
  {
   "cell_type": "code",
   "execution_count": 27,
   "metadata": {
    "id": "znvWQVYfA1-1"
   },
   "outputs": [],
   "source": [
    "# !pip install transformers==4.8.2"
   ]
  },
  {
   "cell_type": "code",
   "execution_count": 33,
   "metadata": {
    "id": "iWykvqO3qb7L"
   },
   "outputs": [],
   "source": [
    "args = TrainingArguments(\n",
    "    output_dir=\"check\",\n",
    "    seed=12345,\n",
    "    evaluation_strategy=\"steps\",\n",
    "    eval_steps=96,\n",
    "    logging_strategy=\"steps\",\n",
    "    logging_steps=96,\n",
    "    save_strategy=\"steps\",\n",
    "    save_steps=96,\n",
    "    save_total_limit=5,             # Save only the last 3 checkpoints at any given time while training\n",
    "    metric_for_best_model='acc',\n",
    "    per_device_train_batch_size=16,\n",
    "    per_device_eval_batch_size=16,\n",
    "    remove_unused_columns=False,\n",
    "    num_train_epochs=200,\n",
    "    fp16=True,\n",
    "    # warmup_ratio=0.01,\n",
    "    # learning_rate=5e-4,\n",
    "    # weight_decay=1e-4,\n",
    "    # gradient_accumulation_steps=2,\n",
    "    dataloader_num_workers=8,\n",
    "    load_best_model_at_end=True,\n",
    ") "
   ]
  },
  {
   "cell_type": "code",
   "execution_count": 34,
   "metadata": {
    "id": "a7TPDK-Cqb7L"
   },
   "outputs": [],
   "source": [
    "def createAndTrainModel(dataset, args, text_model='bert-base-uncased', image_model='google/vit-base-patch16-224', multimodal_model='med-flamingo/med-flamingo'):\n",
    "    collator, model = createMultimodalVQACollatorAndModel(text_model, image_model)\n",
    "\n",
    "    multi_args = deepcopy(args)\n",
    "    multi_args.output_dir = os.path.join(\"check\")\n",
    "        \n",
    "       \n",
    "    multi_trainer = Trainer(\n",
    "        model,\n",
    "        multi_args,\n",
    "        train_dataset=dataset['train'],\n",
    "        eval_dataset=dataset['test'],\n",
    "        data_collator=collator,\n",
    "        compute_metrics=compute_metrics\n",
    "    )\n",
    "\n",
    "    train_multi_metrics = multi_trainer.train()\n",
    "    eval_multi_metrics = multi_trainer.evaluate()\n",
    "\n",
    "    # Save the best model at the end of training without specifying the filename\n",
    "    # multi_trainer.save_model(output_dir=os.path.join(\"check\"), push_to_hub=False)\n",
    "\n",
    "    return collator, model, train_multi_metrics, eval_multi_metrics"
   ]
  },
  {
   "cell_type": "code",
   "execution_count": null,
   "metadata": {
    "colab": {
     "base_uri": "https://localhost:8080/",
     "height": 583,
     "referenced_widgets": [
      "0eb233031b104439ae4020418b3b1afe",
      "956be174f82848609a4680a9d13a3422",
      "6d637839d6aa4422a55305901bf9347f",
      "b58c10ce254f46f086a3b73e8a6d8922",
      "eb59e2b2e38a49009ab74afea3719a25",
      "9d54b474ad564553b515c57217d8438c",
      "c04e1d83626e433a9fd398911d63b652",
      "9928691ffd884406be261d63afb4645a",
      "24a09b1022ee447c97e45c742ecaf13a",
      "32b8e58716794cef901720c0aef37347",
      "7620edd16156458d9609810fcd197900",
      "db9d081b980e4546bddd2ac6daa827f6",
      "78c0d24dee154f87af2426fbcbeedf68",
      "cef3be96825749e7bbb19f0573d646b8",
      "799e7e2544504a97a5490f49d1550234",
      "bd77205e5b6e4cc08c041b2f2bd35ed1",
      "3c8cb8d1b09f4dc9adf977938f17069a",
      "e29dd501d8c2441a86028d71a88bac97",
      "4320efeed9a04e26b688388d4fafd3d9",
      "a67ee830e4d445d7b2abb47f91e8d40c",
      "e3b2d522bddb4c91ae2b0a12b1b07010",
      "c62305c919b44ed094a65ea8fab1b7d9",
      "2ce66bd8242a47c8a8c29749d8e2f282",
      "c2f4b679ec66433782348a678cd368fa",
      "c0f8f4847a2f43b89acfaaced9c5a154",
      "559ef49441cb45cbb5f5d021b234edf2",
      "d98a5d984db24548aeb37e2402656b3d",
      "66f5b53a886045b3a9c30abe19a88ee1",
      "d09e0bc349b046999ac96911edde9f36",
      "f9d07ebf1f0545d3929a1c34fb00828c",
      "6bfd0bc63c1d4df48df6fe5cdaffed57",
      "9a009d9c20d04505a4b2898f931effea",
      "4791c18a237445b1ac65abf2e206e7e6",
      "1615a50ae93248ebb890e913b00d9c3c",
      "0948ec1729bb42c5ba6667d05682057e",
      "935c5289e1614fa587fce62d9a3bbabc",
      "44668b6e7bbf464a89d8e2ac175ce947",
      "ea50aace82194f20955f9ee7997f0492",
      "a7e6a2b63770482f96d62d4aed15a1cc",
      "675388de64f1401583f847d9208fe1bf",
      "ea8e9cf23bd64c2db87fddf870200e5a",
      "18f3e38e2de24ce9a1448f98e9527f71",
      "0ba105228e3f44ba83b89adbffb73416",
      "0c27a8a33d214652ac887f486929ae53",
      "cba608aaab1b4ab5be8365a6b73447de",
      "56d4d3e0f74b420c97a0fd6b55694a03",
      "4071b8170eb94088b43f54ff9912e0e7",
      "3ff6b3d880114b579ffc911d124a95c9",
      "a749ce76042c4084a84a6d6b2793ff34",
      "fe9db109853c4514b658cc60d83c78de",
      "4222b2f4dbbc47fc966fca6ecf7b4999",
      "d6985bb1700d456cb734207e0c8c9f7a",
      "47c570c0135c434ab3198f63e0909f92",
      "7c26d915971f453c84cee16ba3926e34",
      "f7ce56ae76424487814f0ad488667852",
      "4a44be602dba4013bbcf0d3f314b0f86",
      "c88e15c3f5214641a9c71a570d7a6d43",
      "f54076dcc0d64cb3af04b32bc8c006bb",
      "82c6583ec30448b49c581aa9a6b74d37",
      "a87c087af92a44768cb72ba49213dc94",
      "59b20046d10040da97cd32cf93a30e79",
      "eb64ff00360b42cd9e18e0dd2c24f074",
      "cc40caae010348919642fcfb45fb816f",
      "0013f78632f74ff9b7e969d28969e1f4",
      "e88b62af3a984a769585180080e8ceac",
      "9999f4a8d615419a9590b7c67d47ecb6",
      "775fb67a82a949c0b805a805525763af",
      "de755fd2b241437584fcddc78cd6b6ae",
      "29789d8f183c45a690a248a71d9a2bba",
      "91ad421823384ff08428f0eb453987c0",
      "bb535af350ae442f996f43ba846b4cbb",
      "b8471904b1c64c78b794238a1a5373c2",
      "c4928c205a9446c8a5592f57034b0b71",
      "4305d20fc2cd4f75883e3d7bc5c38953",
      "d330aa040a6545d28ff5603180190e90",
      "9a05a4bf815349578c253e8d6ef2ffbb",
      "c0a1644a71164de89b1d9c770e5231aa",
      "b14c80bc26ef4c43a359d0fe616a5f47",
      "2c1eb9b260524b5c88b63f1dae76030c",
      "7b88177f435c401ebd97234aa6698ee8",
      "6f3a2e1c9a8a4ee692bc81750ab72170",
      "10e06e848f424eb3905bb5e23902be87",
      "7d030b3c9ff1440b847592463c3c24a6",
      "e46cad7dcba641a4a279badd6309cdd1",
      "8fa8ac8e30494a979255a1213bba8ac5",
      "78c647855fe44125ba2a33fa02e019c9",
      "1e631f60c5aa41bbabb38b678aa3c35e",
      "8ce02214645f4fe1b5cbc58ed9427186"
     ]
    },
    "id": "3AnN5xtyN3FP",
    "outputId": "48ee9482-55b2-4e15-f778-0169838b15fd"
   },
   "outputs": [
    {
     "data": {
      "application/vnd.jupyter.widget-view+json": {
       "model_id": "5908b908319d4580ae5561e7071a8834",
       "version_major": 2,
       "version_minor": 0
      },
      "text/plain": [
       "Downloading tokenizer_config.json:   0%|          | 0.00/28.0 [00:00<?, ?B/s]"
      ]
     },
     "metadata": {},
     "output_type": "display_data"
    },
    {
     "data": {
      "application/vnd.jupyter.widget-view+json": {
       "model_id": "69a600da494e46719a7d57a3808b85ce",
       "version_major": 2,
       "version_minor": 0
      },
      "text/plain": [
       "Downloading config.json:   0%|          | 0.00/570 [00:00<?, ?B/s]"
      ]
     },
     "metadata": {},
     "output_type": "display_data"
    },
    {
     "data": {
      "application/vnd.jupyter.widget-view+json": {
       "model_id": "fadd8f483e5b410db10e981866da39f6",
       "version_major": 2,
       "version_minor": 0
      },
      "text/plain": [
       "Downloading vocab.txt:   0%|          | 0.00/232k [00:00<?, ?B/s]"
      ]
     },
     "metadata": {},
     "output_type": "display_data"
    },
    {
     "data": {
      "application/vnd.jupyter.widget-view+json": {
       "model_id": "7b7826c2e4df4dc9947a266ea7d416ea",
       "version_major": 2,
       "version_minor": 0
      },
      "text/plain": [
       "Downloading tokenizer.json:   0%|          | 0.00/466k [00:00<?, ?B/s]"
      ]
     },
     "metadata": {},
     "output_type": "display_data"
    },
    {
     "data": {
      "application/vnd.jupyter.widget-view+json": {
       "model_id": "65334aea732a4d709320e765a40d45cd",
       "version_major": 2,
       "version_minor": 0
      },
      "text/plain": [
       "Downloading (…)rocessor_config.json:   0%|          | 0.00/160 [00:00<?, ?B/s]"
      ]
     },
     "metadata": {},
     "output_type": "display_data"
    },
    {
     "data": {
      "application/vnd.jupyter.widget-view+json": {
       "model_id": "06d95bbd7dae4058be7c4dbab57814a5",
       "version_major": 2,
       "version_minor": 0
      },
      "text/plain": [
       "Downloading config.json:   0%|          | 0.00/69.7k [00:00<?, ?B/s]"
      ]
     },
     "metadata": {},
     "output_type": "display_data"
    },
    {
     "name": "stderr",
     "output_type": "stream",
     "text": [
      "/usr/local/lib/python3.10/dist-packages/transformers/models/vit/feature_extraction_vit.py:28: FutureWarning: The class ViTFeatureExtractor is deprecated and will be removed in version 5 of Transformers. Please use ViTImageProcessor instead.\n",
      "  warnings.warn(\n"
     ]
    },
    {
     "data": {
      "application/vnd.jupyter.widget-view+json": {
       "model_id": "83d5c8dfafd847cd9ba39373ae6205af",
       "version_major": 2,
       "version_minor": 0
      },
      "text/plain": [
       "Downloading model.safetensors:   0%|          | 0.00/440M [00:00<?, ?B/s]"
      ]
     },
     "metadata": {},
     "output_type": "display_data"
    },
    {
     "data": {
      "application/vnd.jupyter.widget-view+json": {
       "model_id": "e75701217f3541cdb55ed288901a910e",
       "version_major": 2,
       "version_minor": 0
      },
      "text/plain": [
       "Downloading model.safetensors:   0%|          | 0.00/346M [00:00<?, ?B/s]"
      ]
     },
     "metadata": {},
     "output_type": "display_data"
    },
    {
     "name": "stderr",
     "output_type": "stream",
     "text": [
      "/usr/local/lib/python3.10/dist-packages/transformers/optimization.py:391: FutureWarning: This implementation of AdamW is deprecated and will be removed in a future version. Use the PyTorch implementation torch.optim.AdamW instead, or set `no_deprecation_warning=True` to disable this warning\n",
      "  warnings.warn(\n",
      "Failed to detect the name of this notebook, you can set it manually with the WANDB_NOTEBOOK_NAME environment variable to enable code saving.\n",
      "\u001b[34m\u001b[1mwandb\u001b[0m: Logging into wandb.ai. (Learn how to deploy a W&B server locally: https://wandb.me/wandb-server)\n",
      "\u001b[34m\u001b[1mwandb\u001b[0m: You can find your API key in your browser here: https://wandb.ai/authorize\n",
      "\u001b[34m\u001b[1mwandb\u001b[0m: Paste an API key from your profile and hit enter, or press ctrl+c to quit:"
     ]
    },
    {
     "name": "stdout",
     "output_type": "stream",
     "text": [
      "  ········\n"
     ]
    },
    {
     "name": "stderr",
     "output_type": "stream",
     "text": [
      "\u001b[34m\u001b[1mwandb\u001b[0m: Appending key for api.wandb.ai to your netrc file: /home/aimanl/.netrc\n"
     ]
    },
    {
     "data": {
      "application/vnd.jupyter.widget-view+json": {
       "model_id": "9cd66855a1924dd8bd324147b9e6b629",
       "version_major": 2,
       "version_minor": 0
      },
      "text/plain": [
       "VBox(children=(Label(value='Waiting for wandb.init()...\\r'), FloatProgress(value=0.016668160151069363, max=1.0…"
      ]
     },
     "metadata": {},
     "output_type": "display_data"
    },
    {
     "data": {
      "text/html": [
       "wandb version 0.16.1 is available!  To upgrade, please run:\n",
       " $ pip install wandb --upgrade"
      ],
      "text/plain": [
       "<IPython.core.display.HTML object>"
      ]
     },
     "metadata": {},
     "output_type": "display_data"
    },
    {
     "data": {
      "text/html": [
       "Tracking run with wandb version 0.15.3"
      ],
      "text/plain": [
       "<IPython.core.display.HTML object>"
      ]
     },
     "metadata": {},
     "output_type": "display_data"
    },
    {
     "data": {
      "text/html": [
       "Run data is saved locally in <code>/home/aimanl/work/Thesis/VQA_RAD/exp-1/wandb/run-20231208_062546-fww55h8z</code>"
      ],
      "text/plain": [
       "<IPython.core.display.HTML object>"
      ]
     },
     "metadata": {},
     "output_type": "display_data"
    },
    {
     "data": {
      "text/html": [
       "Syncing run <strong><a href='https://wandb.ai/medvqa/huggingface/runs/fww55h8z' target=\"_blank\">smart-wildflower-580</a></strong> to <a href='https://wandb.ai/medvqa/huggingface' target=\"_blank\">Weights & Biases</a> (<a href='https://wandb.me/run' target=\"_blank\">docs</a>)<br/>"
      ],
      "text/plain": [
       "<IPython.core.display.HTML object>"
      ]
     },
     "metadata": {},
     "output_type": "display_data"
    },
    {
     "data": {
      "text/html": [
       " View project at <a href='https://wandb.ai/medvqa/huggingface' target=\"_blank\">https://wandb.ai/medvqa/huggingface</a>"
      ],
      "text/plain": [
       "<IPython.core.display.HTML object>"
      ]
     },
     "metadata": {},
     "output_type": "display_data"
    },
    {
     "data": {
      "text/html": [
       " View run at <a href='https://wandb.ai/medvqa/huggingface/runs/fww55h8z' target=\"_blank\">https://wandb.ai/medvqa/huggingface/runs/fww55h8z</a>"
      ],
      "text/plain": [
       "<IPython.core.display.HTML object>"
      ]
     },
     "metadata": {},
     "output_type": "display_data"
    },
    {
     "name": "stderr",
     "output_type": "stream",
     "text": [
      "/usr/local/lib/python3.10/dist-packages/torch/nn/parallel/_functions.py:68: UserWarning: Was asked to gather along dimension 0, but all input tensors were scalars; will instead unsqueeze and return a vector.\n",
      "  warnings.warn('Was asked to gather along dimension 0, but all '\n"
     ]
    },
    {
     "name": "stdout",
     "output_type": "stream",
     "text": [
      "{'loss': 3.5105, 'learning_rate': 4.975260416666667e-05, 'epoch': 1.0}\n",
      "{'eval_loss': 3.3734703063964844, 'eval_bleu': 0.1991030761056182, 'eval_acc': 0.415929203539823, 'eval_f1': 0.021252525870022205, 'eval_runtime': 9.9182, 'eval_samples_per_second': 22.786, 'eval_steps_per_second': 0.807, 'epoch': 1.0}\n"
     ]
    },
    {
     "name": "stderr",
     "output_type": "stream",
     "text": [
      "/usr/local/lib/python3.10/dist-packages/torch/nn/parallel/_functions.py:68: UserWarning: Was asked to gather along dimension 0, but all input tensors were scalars; will instead unsqueeze and return a vector.\n",
      "  warnings.warn('Was asked to gather along dimension 0, but all '\n"
     ]
    },
    {
     "name": "stdout",
     "output_type": "stream",
     "text": [
      "{'loss': 2.9428, 'learning_rate': 4.950260416666667e-05, 'epoch': 2.0}\n",
      "{'eval_loss': 3.2435243129730225, 'eval_bleu': 0.18669898683452116, 'eval_acc': 0.42920353982300885, 'eval_f1': 0.024183009891713615, 'eval_runtime': 9.6543, 'eval_samples_per_second': 23.409, 'eval_steps_per_second': 0.829, 'epoch': 2.0}\n"
     ]
    },
    {
     "name": "stderr",
     "output_type": "stream",
     "text": [
      "/usr/local/lib/python3.10/dist-packages/torch/nn/parallel/_functions.py:68: UserWarning: Was asked to gather along dimension 0, but all input tensors were scalars; will instead unsqueeze and return a vector.\n",
      "  warnings.warn('Was asked to gather along dimension 0, but all '\n"
     ]
    },
    {
     "name": "stdout",
     "output_type": "stream",
     "text": [
      "{'loss': 2.6914, 'learning_rate': 4.925260416666667e-05, 'epoch': 3.0}\n",
      "{'eval_loss': 3.1741840839385986, 'eval_bleu': 0.18952658783940649, 'eval_acc': 0.4336283185840708, 'eval_f1': 0.027029353024810306, 'eval_runtime': 6.7215, 'eval_samples_per_second': 33.624, 'eval_steps_per_second': 1.19, 'epoch': 3.0}\n"
     ]
    },
    {
     "name": "stderr",
     "output_type": "stream",
     "text": [
      "/usr/local/lib/python3.10/dist-packages/torch/nn/parallel/_functions.py:68: UserWarning: Was asked to gather along dimension 0, but all input tensors were scalars; will instead unsqueeze and return a vector.\n",
      "  warnings.warn('Was asked to gather along dimension 0, but all '\n"
     ]
    },
    {
     "name": "stdout",
     "output_type": "stream",
     "text": [
      "{'loss': 2.4342, 'learning_rate': 4.900260416666667e-05, 'epoch': 4.0}\n",
      "{'eval_loss': 3.0000128746032715, 'eval_bleu': 0.19893486884904918, 'eval_acc': 0.4646017699115044, 'eval_f1': 0.024163264782459826, 'eval_runtime': 2.0379, 'eval_samples_per_second': 110.898, 'eval_steps_per_second': 3.926, 'epoch': 4.0}\n"
     ]
    },
    {
     "name": "stderr",
     "output_type": "stream",
     "text": [
      "/usr/local/lib/python3.10/dist-packages/torch/nn/parallel/_functions.py:68: UserWarning: Was asked to gather along dimension 0, but all input tensors were scalars; will instead unsqueeze and return a vector.\n",
      "  warnings.warn('Was asked to gather along dimension 0, but all '\n"
     ]
    },
    {
     "name": "stdout",
     "output_type": "stream",
     "text": [
      "{'loss': 2.1805, 'learning_rate': 4.875260416666667e-05, 'epoch': 5.0}\n",
      "{'eval_loss': 2.9088032245635986, 'eval_bleu': 0.21430241850470383, 'eval_acc': 0.4823008849557522, 'eval_f1': 0.04720503951556874, 'eval_runtime': 3.7387, 'eval_samples_per_second': 60.449, 'eval_steps_per_second': 2.14, 'epoch': 5.0}\n"
     ]
    },
    {
     "name": "stderr",
     "output_type": "stream",
     "text": [
      "/usr/local/lib/python3.10/dist-packages/torch/nn/parallel/_functions.py:68: UserWarning: Was asked to gather along dimension 0, but all input tensors were scalars; will instead unsqueeze and return a vector.\n",
      "  warnings.warn('Was asked to gather along dimension 0, but all '\n"
     ]
    },
    {
     "name": "stdout",
     "output_type": "stream",
     "text": [
      "{'loss': 1.926, 'learning_rate': 4.850260416666667e-05, 'epoch': 6.0}\n",
      "{'eval_loss': 2.7715022563934326, 'eval_bleu': 0.22732358403204947, 'eval_acc': 0.4823008849557522, 'eval_f1': 0.05258462305152029, 'eval_runtime': 2.0289, 'eval_samples_per_second': 111.389, 'eval_steps_per_second': 3.943, 'epoch': 6.0}\n"
     ]
    },
    {
     "name": "stderr",
     "output_type": "stream",
     "text": [
      "/usr/local/lib/python3.10/dist-packages/torch/nn/parallel/_functions.py:68: UserWarning: Was asked to gather along dimension 0, but all input tensors were scalars; will instead unsqueeze and return a vector.\n",
      "  warnings.warn('Was asked to gather along dimension 0, but all '\n"
     ]
    },
    {
     "name": "stdout",
     "output_type": "stream",
     "text": [
      "{'loss': 1.7102, 'learning_rate': 4.825260416666667e-05, 'epoch': 7.0}\n",
      "{'eval_loss': 2.711496114730835, 'eval_bleu': 0.25275307616471804, 'eval_acc': 0.5132743362831859, 'eval_f1': 0.08371244916699462, 'eval_runtime': 19.6855, 'eval_samples_per_second': 11.481, 'eval_steps_per_second': 0.406, 'epoch': 7.0}\n"
     ]
    },
    {
     "name": "stderr",
     "output_type": "stream",
     "text": [
      "/usr/local/lib/python3.10/dist-packages/torch/nn/parallel/_functions.py:68: UserWarning: Was asked to gather along dimension 0, but all input tensors were scalars; will instead unsqueeze and return a vector.\n",
      "  warnings.warn('Was asked to gather along dimension 0, but all '\n"
     ]
    },
    {
     "name": "stdout",
     "output_type": "stream",
     "text": [
      "{'loss': 1.5061, 'learning_rate': 4.800260416666667e-05, 'epoch': 8.0}\n",
      "{'eval_loss': 2.6572487354278564, 'eval_bleu': 0.25305244074972016, 'eval_acc': 0.5132743362831859, 'eval_f1': 0.07671702825554871, 'eval_runtime': 8.5504, 'eval_samples_per_second': 26.431, 'eval_steps_per_second': 0.936, 'epoch': 8.0}\n"
     ]
    },
    {
     "name": "stderr",
     "output_type": "stream",
     "text": [
      "/usr/local/lib/python3.10/dist-packages/torch/nn/parallel/_functions.py:68: UserWarning: Was asked to gather along dimension 0, but all input tensors were scalars; will instead unsqueeze and return a vector.\n",
      "  warnings.warn('Was asked to gather along dimension 0, but all '\n"
     ]
    },
    {
     "name": "stdout",
     "output_type": "stream",
     "text": [
      "{'loss': 1.3055, 'learning_rate': 4.7752604166666673e-05, 'epoch': 9.0}\n",
      "{'eval_loss': 2.5400853157043457, 'eval_bleu': 0.2744314855922343, 'eval_acc': 0.5398230088495575, 'eval_f1': 0.09730819301470911, 'eval_runtime': 9.4951, 'eval_samples_per_second': 23.802, 'eval_steps_per_second': 0.843, 'epoch': 9.0}\n"
     ]
    },
    {
     "name": "stderr",
     "output_type": "stream",
     "text": [
      "/usr/local/lib/python3.10/dist-packages/torch/nn/parallel/_functions.py:68: UserWarning: Was asked to gather along dimension 0, but all input tensors were scalars; will instead unsqueeze and return a vector.\n",
      "  warnings.warn('Was asked to gather along dimension 0, but all '\n"
     ]
    },
    {
     "name": "stdout",
     "output_type": "stream",
     "text": [
      "{'loss': 1.1355, 'learning_rate': 4.750260416666667e-05, 'epoch': 10.0}\n",
      "{'eval_loss': 2.449004888534546, 'eval_bleu': 0.28934195484512, 'eval_acc': 0.5619469026548672, 'eval_f1': 0.10617981211078478, 'eval_runtime': 7.512, 'eval_samples_per_second': 30.085, 'eval_steps_per_second': 1.065, 'epoch': 10.0}\n"
     ]
    },
    {
     "name": "stderr",
     "output_type": "stream",
     "text": [
      "/usr/local/lib/python3.10/dist-packages/torch/nn/parallel/_functions.py:68: UserWarning: Was asked to gather along dimension 0, but all input tensors were scalars; will instead unsqueeze and return a vector.\n",
      "  warnings.warn('Was asked to gather along dimension 0, but all '\n"
     ]
    },
    {
     "name": "stdout",
     "output_type": "stream",
     "text": [
      "{'loss': 0.9865, 'learning_rate': 4.725260416666667e-05, 'epoch': 11.0}\n",
      "{'eval_loss': 2.4644455909729004, 'eval_bleu': 0.33379877817561704, 'eval_acc': 0.5973451327433629, 'eval_f1': 0.15553147128923525, 'eval_runtime': 7.7008, 'eval_samples_per_second': 29.348, 'eval_steps_per_second': 1.039, 'epoch': 11.0}\n"
     ]
    },
    {
     "name": "stderr",
     "output_type": "stream",
     "text": [
      "/usr/local/lib/python3.10/dist-packages/torch/nn/parallel/_functions.py:68: UserWarning: Was asked to gather along dimension 0, but all input tensors were scalars; will instead unsqueeze and return a vector.\n",
      "  warnings.warn('Was asked to gather along dimension 0, but all '\n"
     ]
    },
    {
     "name": "stdout",
     "output_type": "stream",
     "text": [
      "{'loss': 0.8547, 'learning_rate': 4.700260416666667e-05, 'epoch': 12.0}\n",
      "{'eval_loss': 2.4357035160064697, 'eval_bleu': 0.3344953101176395, 'eval_acc': 0.588495575221239, 'eval_f1': 0.1820957331600606, 'eval_runtime': 2.609, 'eval_samples_per_second': 86.623, 'eval_steps_per_second': 3.066, 'epoch': 12.0}\n"
     ]
    },
    {
     "name": "stderr",
     "output_type": "stream",
     "text": [
      "/usr/local/lib/python3.10/dist-packages/torch/nn/parallel/_functions.py:68: UserWarning: Was asked to gather along dimension 0, but all input tensors were scalars; will instead unsqueeze and return a vector.\n",
      "  warnings.warn('Was asked to gather along dimension 0, but all '\n"
     ]
    },
    {
     "name": "stdout",
     "output_type": "stream",
     "text": [
      "{'loss': 0.7384, 'learning_rate': 4.675260416666667e-05, 'epoch': 13.0}\n",
      "{'eval_loss': 2.420396089553833, 'eval_bleu': 0.37933482139648367, 'eval_acc': 0.6194690265486725, 'eval_f1': 0.21836381836381838, 'eval_runtime': 5.1698, 'eval_samples_per_second': 43.715, 'eval_steps_per_second': 1.547, 'epoch': 13.0}\n"
     ]
    },
    {
     "name": "stderr",
     "output_type": "stream",
     "text": [
      "/usr/local/lib/python3.10/dist-packages/torch/nn/parallel/_functions.py:68: UserWarning: Was asked to gather along dimension 0, but all input tensors were scalars; will instead unsqueeze and return a vector.\n",
      "  warnings.warn('Was asked to gather along dimension 0, but all '\n"
     ]
    },
    {
     "name": "stdout",
     "output_type": "stream",
     "text": [
      "{'loss': 0.6425, 'learning_rate': 4.650260416666667e-05, 'epoch': 14.0}\n",
      "{'eval_loss': 2.335587501525879, 'eval_bleu': 0.3559666416147556, 'eval_acc': 0.6194690265486725, 'eval_f1': 0.19783384301732926, 'eval_runtime': 1.9626, 'eval_samples_per_second': 115.154, 'eval_steps_per_second': 4.076, 'epoch': 14.0}\n"
     ]
    },
    {
     "name": "stderr",
     "output_type": "stream",
     "text": [
      "/usr/local/lib/python3.10/dist-packages/torch/nn/parallel/_functions.py:68: UserWarning: Was asked to gather along dimension 0, but all input tensors were scalars; will instead unsqueeze and return a vector.\n",
      "  warnings.warn('Was asked to gather along dimension 0, but all '\n"
     ]
    },
    {
     "name": "stdout",
     "output_type": "stream",
     "text": [
      "{'loss': 0.5664, 'learning_rate': 4.625260416666667e-05, 'epoch': 15.0}\n",
      "{'eval_loss': 2.306652545928955, 'eval_bleu': 0.4165640916572885, 'eval_acc': 0.6504424778761062, 'eval_f1': 0.25417201734494965, 'eval_runtime': 11.2204, 'eval_samples_per_second': 20.142, 'eval_steps_per_second': 0.713, 'epoch': 15.0}\n"
     ]
    },
    {
     "name": "stderr",
     "output_type": "stream",
     "text": [
      "/usr/local/lib/python3.10/dist-packages/torch/nn/parallel/_functions.py:68: UserWarning: Was asked to gather along dimension 0, but all input tensors were scalars; will instead unsqueeze and return a vector.\n",
      "  warnings.warn('Was asked to gather along dimension 0, but all '\n"
     ]
    },
    {
     "name": "stdout",
     "output_type": "stream",
     "text": [
      "{'loss': 0.49, 'learning_rate': 4.600260416666667e-05, 'epoch': 16.0}\n",
      "{'eval_loss': 2.322655439376831, 'eval_bleu': 0.4169039402690496, 'eval_acc': 0.6460176991150443, 'eval_f1': 0.28700437177085103, 'eval_runtime': 11.8091, 'eval_samples_per_second': 19.138, 'eval_steps_per_second': 0.677, 'epoch': 16.0}\n"
     ]
    },
    {
     "name": "stderr",
     "output_type": "stream",
     "text": [
      "/usr/local/lib/python3.10/dist-packages/torch/nn/parallel/_functions.py:68: UserWarning: Was asked to gather along dimension 0, but all input tensors were scalars; will instead unsqueeze and return a vector.\n",
      "  warnings.warn('Was asked to gather along dimension 0, but all '\n"
     ]
    },
    {
     "name": "stdout",
     "output_type": "stream",
     "text": [
      "{'loss': 0.4246, 'learning_rate': 4.5752604166666665e-05, 'epoch': 17.0}\n",
      "{'eval_loss': 2.2457668781280518, 'eval_bleu': 0.41392287640006403, 'eval_acc': 0.6592920353982301, 'eval_f1': 0.2933016145280296, 'eval_runtime': 13.8864, 'eval_samples_per_second': 16.275, 'eval_steps_per_second': 0.576, 'epoch': 17.0}\n"
     ]
    },
    {
     "name": "stderr",
     "output_type": "stream",
     "text": [
      "/usr/local/lib/python3.10/dist-packages/torch/nn/parallel/_functions.py:68: UserWarning: Was asked to gather along dimension 0, but all input tensors were scalars; will instead unsqueeze and return a vector.\n",
      "  warnings.warn('Was asked to gather along dimension 0, but all '\n"
     ]
    },
    {
     "name": "stdout",
     "output_type": "stream",
     "text": [
      "{'loss': 0.3765, 'learning_rate': 4.5502604166666666e-05, 'epoch': 18.0}\n",
      "{'eval_loss': 2.2379086017608643, 'eval_bleu': 0.44996491622497525, 'eval_acc': 0.6858407079646017, 'eval_f1': 0.3313378684807256, 'eval_runtime': 14.8076, 'eval_samples_per_second': 15.262, 'eval_steps_per_second': 0.54, 'epoch': 18.0}\n"
     ]
    },
    {
     "name": "stderr",
     "output_type": "stream",
     "text": [
      "/usr/local/lib/python3.10/dist-packages/torch/nn/parallel/_functions.py:68: UserWarning: Was asked to gather along dimension 0, but all input tensors were scalars; will instead unsqueeze and return a vector.\n",
      "  warnings.warn('Was asked to gather along dimension 0, but all '\n"
     ]
    },
    {
     "name": "stdout",
     "output_type": "stream",
     "text": [
      "{'loss': 0.3265, 'learning_rate': 4.525260416666667e-05, 'epoch': 19.0}\n",
      "{'eval_loss': 2.1891884803771973, 'eval_bleu': 0.4879962262882472, 'eval_acc': 0.7079646017699115, 'eval_f1': 0.3454096540439458, 'eval_runtime': 7.807, 'eval_samples_per_second': 28.948, 'eval_steps_per_second': 1.025, 'epoch': 19.0}\n"
     ]
    },
    {
     "name": "stderr",
     "output_type": "stream",
     "text": [
      "/usr/local/lib/python3.10/dist-packages/torch/nn/parallel/_functions.py:68: UserWarning: Was asked to gather along dimension 0, but all input tensors were scalars; will instead unsqueeze and return a vector.\n",
      "  warnings.warn('Was asked to gather along dimension 0, but all '\n"
     ]
    },
    {
     "name": "stdout",
     "output_type": "stream",
     "text": [
      "{'loss': 0.2826, 'learning_rate': 4.500260416666667e-05, 'epoch': 20.0}\n",
      "{'eval_loss': 2.2207388877868652, 'eval_bleu': 0.4791259088769296, 'eval_acc': 0.6991150442477876, 'eval_f1': 0.3555946920902021, 'eval_runtime': 8.9928, 'eval_samples_per_second': 25.131, 'eval_steps_per_second': 0.89, 'epoch': 20.0}\n"
     ]
    },
    {
     "name": "stderr",
     "output_type": "stream",
     "text": [
      "/usr/local/lib/python3.10/dist-packages/torch/nn/parallel/_functions.py:68: UserWarning: Was asked to gather along dimension 0, but all input tensors were scalars; will instead unsqueeze and return a vector.\n",
      "  warnings.warn('Was asked to gather along dimension 0, but all '\n"
     ]
    },
    {
     "name": "stdout",
     "output_type": "stream",
     "text": [
      "{'loss': 0.2545, 'learning_rate': 4.475260416666667e-05, 'epoch': 21.0}\n",
      "{'eval_loss': 2.292118549346924, 'eval_bleu': 0.4592693382872989, 'eval_acc': 0.6902654867256637, 'eval_f1': 0.3765070909735752, 'eval_runtime': 14.5991, 'eval_samples_per_second': 15.48, 'eval_steps_per_second': 0.548, 'epoch': 21.0}\n"
     ]
    },
    {
     "name": "stderr",
     "output_type": "stream",
     "text": [
      "/usr/local/lib/python3.10/dist-packages/torch/nn/parallel/_functions.py:68: UserWarning: Was asked to gather along dimension 0, but all input tensors were scalars; will instead unsqueeze and return a vector.\n",
      "  warnings.warn('Was asked to gather along dimension 0, but all '\n"
     ]
    },
    {
     "name": "stdout",
     "output_type": "stream",
     "text": [
      "{'loss': 0.2174, 'learning_rate': 4.450260416666667e-05, 'epoch': 22.0}\n",
      "{'eval_loss': 2.219560146331787, 'eval_bleu': 0.520300329063799, 'eval_acc': 0.7300884955752213, 'eval_f1': 0.4103110757504322, 'eval_runtime': 13.262, 'eval_samples_per_second': 17.041, 'eval_steps_per_second': 0.603, 'epoch': 22.0}\n"
     ]
    },
    {
     "name": "stderr",
     "output_type": "stream",
     "text": [
      "/usr/local/lib/python3.10/dist-packages/torch/nn/parallel/_functions.py:68: UserWarning: Was asked to gather along dimension 0, but all input tensors were scalars; will instead unsqueeze and return a vector.\n",
      "  warnings.warn('Was asked to gather along dimension 0, but all '\n"
     ]
    },
    {
     "name": "stdout",
     "output_type": "stream",
     "text": [
      "{'loss': 0.1917, 'learning_rate': 4.425260416666667e-05, 'epoch': 23.0}\n",
      "{'eval_loss': 2.183459520339966, 'eval_bleu': 0.4917210292867535, 'eval_acc': 0.7212389380530974, 'eval_f1': 0.4165527451682296, 'eval_runtime': 7.4185, 'eval_samples_per_second': 30.464, 'eval_steps_per_second': 1.078, 'epoch': 23.0}\n"
     ]
    },
    {
     "name": "stderr",
     "output_type": "stream",
     "text": [
      "/usr/local/lib/python3.10/dist-packages/torch/nn/parallel/_functions.py:68: UserWarning: Was asked to gather along dimension 0, but all input tensors were scalars; will instead unsqueeze and return a vector.\n",
      "  warnings.warn('Was asked to gather along dimension 0, but all '\n"
     ]
    },
    {
     "name": "stdout",
     "output_type": "stream",
     "text": [
      "{'loss': 0.1751, 'learning_rate': 4.4002604166666664e-05, 'epoch': 24.0}\n",
      "{'eval_loss': 2.188321828842163, 'eval_bleu': 0.5267025656030848, 'eval_acc': 0.7389380530973452, 'eval_f1': 0.4160651770102108, 'eval_runtime': 17.1225, 'eval_samples_per_second': 13.199, 'eval_steps_per_second': 0.467, 'epoch': 24.0}\n"
     ]
    },
    {
     "name": "stderr",
     "output_type": "stream",
     "text": [
      "/usr/local/lib/python3.10/dist-packages/torch/nn/parallel/_functions.py:68: UserWarning: Was asked to gather along dimension 0, but all input tensors were scalars; will instead unsqueeze and return a vector.\n",
      "  warnings.warn('Was asked to gather along dimension 0, but all '\n"
     ]
    },
    {
     "name": "stdout",
     "output_type": "stream",
     "text": [
      "{'loss': 0.1644, 'learning_rate': 4.3752604166666664e-05, 'epoch': 25.0}\n",
      "{'eval_loss': 2.2704825401306152, 'eval_bleu': 0.4799517201926894, 'eval_acc': 0.7079646017699115, 'eval_f1': 0.40459410303160304, 'eval_runtime': 12.1384, 'eval_samples_per_second': 18.619, 'eval_steps_per_second': 0.659, 'epoch': 25.0}\n"
     ]
    },
    {
     "name": "stderr",
     "output_type": "stream",
     "text": [
      "/usr/local/lib/python3.10/dist-packages/torch/nn/parallel/_functions.py:68: UserWarning: Was asked to gather along dimension 0, but all input tensors were scalars; will instead unsqueeze and return a vector.\n",
      "  warnings.warn('Was asked to gather along dimension 0, but all '\n"
     ]
    },
    {
     "name": "stdout",
     "output_type": "stream",
     "text": [
      "{'loss': 0.1424, 'learning_rate': 4.3505208333333337e-05, 'epoch': 26.0}\n",
      "{'eval_loss': 2.184810161590576, 'eval_bleu': 0.4853221737259673, 'eval_acc': 0.7212389380530974, 'eval_f1': 0.41518151815181514, 'eval_runtime': 10.9602, 'eval_samples_per_second': 20.62, 'eval_steps_per_second': 0.73, 'epoch': 26.0}\n"
     ]
    },
    {
     "name": "stderr",
     "output_type": "stream",
     "text": [
      "/usr/local/lib/python3.10/dist-packages/torch/nn/parallel/_functions.py:68: UserWarning: Was asked to gather along dimension 0, but all input tensors were scalars; will instead unsqueeze and return a vector.\n",
      "  warnings.warn('Was asked to gather along dimension 0, but all '\n"
     ]
    },
    {
     "name": "stdout",
     "output_type": "stream",
     "text": [
      "{'loss': 0.1217, 'learning_rate': 4.325520833333334e-05, 'epoch': 27.0}\n",
      "{'eval_loss': 2.153562545776367, 'eval_bleu': 0.48473543762255494, 'eval_acc': 0.7256637168141593, 'eval_f1': 0.3996326997125958, 'eval_runtime': 13.4249, 'eval_samples_per_second': 16.834, 'eval_steps_per_second': 0.596, 'epoch': 27.0}\n"
     ]
    },
    {
     "name": "stderr",
     "output_type": "stream",
     "text": [
      "/usr/local/lib/python3.10/dist-packages/torch/nn/parallel/_functions.py:68: UserWarning: Was asked to gather along dimension 0, but all input tensors were scalars; will instead unsqueeze and return a vector.\n",
      "  warnings.warn('Was asked to gather along dimension 0, but all '\n"
     ]
    },
    {
     "name": "stdout",
     "output_type": "stream",
     "text": [
      "{'loss': 0.1196, 'learning_rate': 4.300520833333334e-05, 'epoch': 28.0}\n",
      "{'eval_loss': 2.331989288330078, 'eval_bleu': 0.4883751950543981, 'eval_acc': 0.7035398230088495, 'eval_f1': 0.40357802294358736, 'eval_runtime': 10.2062, 'eval_samples_per_second': 22.143, 'eval_steps_per_second': 0.784, 'epoch': 28.0}\n"
     ]
    },
    {
     "name": "stderr",
     "output_type": "stream",
     "text": [
      "/usr/local/lib/python3.10/dist-packages/torch/nn/parallel/_functions.py:68: UserWarning: Was asked to gather along dimension 0, but all input tensors were scalars; will instead unsqueeze and return a vector.\n",
      "  warnings.warn('Was asked to gather along dimension 0, but all '\n"
     ]
    },
    {
     "name": "stdout",
     "output_type": "stream",
     "text": [
      "{'loss': 0.1071, 'learning_rate': 4.275520833333334e-05, 'epoch': 29.0}\n",
      "{'eval_loss': 2.191784143447876, 'eval_bleu': 0.527877238145317, 'eval_acc': 0.7433628318584071, 'eval_f1': 0.4372692346402543, 'eval_runtime': 6.7334, 'eval_samples_per_second': 33.564, 'eval_steps_per_second': 1.188, 'epoch': 29.0}\n"
     ]
    },
    {
     "name": "stderr",
     "output_type": "stream",
     "text": [
      "/usr/local/lib/python3.10/dist-packages/torch/nn/parallel/_functions.py:68: UserWarning: Was asked to gather along dimension 0, but all input tensors were scalars; will instead unsqueeze and return a vector.\n",
      "  warnings.warn('Was asked to gather along dimension 0, but all '\n"
     ]
    },
    {
     "name": "stdout",
     "output_type": "stream",
     "text": [
      "{'loss': 0.095, 'learning_rate': 4.250520833333333e-05, 'epoch': 30.0}\n",
      "{'eval_loss': 2.2423667907714844, 'eval_bleu': 0.5089539113262679, 'eval_acc': 0.7345132743362832, 'eval_f1': 0.4156646319811304, 'eval_runtime': 19.6095, 'eval_samples_per_second': 11.525, 'eval_steps_per_second': 0.408, 'epoch': 30.0}\n"
     ]
    },
    {
     "name": "stderr",
     "output_type": "stream",
     "text": [
      "/usr/local/lib/python3.10/dist-packages/torch/nn/parallel/_functions.py:68: UserWarning: Was asked to gather along dimension 0, but all input tensors were scalars; will instead unsqueeze and return a vector.\n",
      "  warnings.warn('Was asked to gather along dimension 0, but all '\n"
     ]
    },
    {
     "name": "stdout",
     "output_type": "stream",
     "text": [
      "{'loss': 0.0962, 'learning_rate': 4.2257812500000005e-05, 'epoch': 31.0}\n",
      "{'eval_loss': 2.3135457038879395, 'eval_bleu': 0.50079899325521, 'eval_acc': 0.7168141592920354, 'eval_f1': 0.3913837231144924, 'eval_runtime': 3.6395, 'eval_samples_per_second': 62.097, 'eval_steps_per_second': 2.198, 'epoch': 31.0}\n"
     ]
    },
    {
     "name": "stderr",
     "output_type": "stream",
     "text": [
      "/usr/local/lib/python3.10/dist-packages/torch/nn/parallel/_functions.py:68: UserWarning: Was asked to gather along dimension 0, but all input tensors were scalars; will instead unsqueeze and return a vector.\n",
      "  warnings.warn('Was asked to gather along dimension 0, but all '\n"
     ]
    },
    {
     "name": "stdout",
     "output_type": "stream",
     "text": [
      "{'loss': 0.0848, 'learning_rate': 4.2007812500000005e-05, 'epoch': 32.0}\n",
      "{'eval_loss': 2.1955158710479736, 'eval_bleu': 0.4992779582013899, 'eval_acc': 0.7212389380530974, 'eval_f1': 0.39184051398337116, 'eval_runtime': 1.8805, 'eval_samples_per_second': 120.18, 'eval_steps_per_second': 4.254, 'epoch': 32.0}\n"
     ]
    },
    {
     "name": "stderr",
     "output_type": "stream",
     "text": [
      "/usr/local/lib/python3.10/dist-packages/torch/nn/parallel/_functions.py:68: UserWarning: Was asked to gather along dimension 0, but all input tensors were scalars; will instead unsqueeze and return a vector.\n",
      "  warnings.warn('Was asked to gather along dimension 0, but all '\n"
     ]
    },
    {
     "name": "stdout",
     "output_type": "stream",
     "text": [
      "{'loss': 0.0735, 'learning_rate': 4.1757812500000006e-05, 'epoch': 33.0}\n",
      "{'eval_loss': 2.2718706130981445, 'eval_bleu': 0.47628462581616915, 'eval_acc': 0.7168141592920354, 'eval_f1': 0.39086008856736043, 'eval_runtime': 11.0324, 'eval_samples_per_second': 20.485, 'eval_steps_per_second': 0.725, 'epoch': 33.0}\n"
     ]
    },
    {
     "name": "stderr",
     "output_type": "stream",
     "text": [
      "/usr/local/lib/python3.10/dist-packages/torch/nn/parallel/_functions.py:68: UserWarning: Was asked to gather along dimension 0, but all input tensors were scalars; will instead unsqueeze and return a vector.\n",
      "  warnings.warn('Was asked to gather along dimension 0, but all '\n"
     ]
    },
    {
     "name": "stdout",
     "output_type": "stream",
     "text": [
      "{'loss': 0.0684, 'learning_rate': 4.150781250000001e-05, 'epoch': 34.0}\n",
      "{'eval_loss': 2.2702271938323975, 'eval_bleu': 0.5209185846476643, 'eval_acc': 0.7345132743362832, 'eval_f1': 0.42677166452166454, 'eval_runtime': 6.6634, 'eval_samples_per_second': 33.917, 'eval_steps_per_second': 1.201, 'epoch': 34.0}\n"
     ]
    },
    {
     "name": "stderr",
     "output_type": "stream",
     "text": [
      "/usr/local/lib/python3.10/dist-packages/torch/nn/parallel/_functions.py:68: UserWarning: Was asked to gather along dimension 0, but all input tensors were scalars; will instead unsqueeze and return a vector.\n",
      "  warnings.warn('Was asked to gather along dimension 0, but all '\n"
     ]
    },
    {
     "name": "stdout",
     "output_type": "stream",
     "text": [
      "{'loss': 0.0594, 'learning_rate': 4.12578125e-05, 'epoch': 35.0}\n",
      "{'eval_loss': 2.2689175605773926, 'eval_bleu': 0.5082112886358321, 'eval_acc': 0.7256637168141593, 'eval_f1': 0.43345102552299114, 'eval_runtime': 9.1516, 'eval_samples_per_second': 24.695, 'eval_steps_per_second': 0.874, 'epoch': 35.0}\n"
     ]
    },
    {
     "name": "stderr",
     "output_type": "stream",
     "text": [
      "/usr/local/lib/python3.10/dist-packages/torch/nn/parallel/_functions.py:68: UserWarning: Was asked to gather along dimension 0, but all input tensors were scalars; will instead unsqueeze and return a vector.\n",
      "  warnings.warn('Was asked to gather along dimension 0, but all '\n"
     ]
    },
    {
     "name": "stdout",
     "output_type": "stream",
     "text": [
      "{'loss': 0.0624, 'learning_rate': 4.10078125e-05, 'epoch': 36.0}\n",
      "{'eval_loss': 2.2314188480377197, 'eval_bleu': 0.5497201843454304, 'eval_acc': 0.7522123893805309, 'eval_f1': 0.4439029666063786, 'eval_runtime': 9.8559, 'eval_samples_per_second': 22.93, 'eval_steps_per_second': 0.812, 'epoch': 36.0}\n"
     ]
    },
    {
     "name": "stderr",
     "output_type": "stream",
     "text": [
      "/usr/local/lib/python3.10/dist-packages/torch/nn/parallel/_functions.py:68: UserWarning: Was asked to gather along dimension 0, but all input tensors were scalars; will instead unsqueeze and return a vector.\n",
      "  warnings.warn('Was asked to gather along dimension 0, but all '\n"
     ]
    },
    {
     "name": "stdout",
     "output_type": "stream",
     "text": [
      "{'loss': 0.0509, 'learning_rate': 4.07578125e-05, 'epoch': 37.0}\n",
      "{'eval_loss': 2.302673816680908, 'eval_bleu': 0.5393529258651455, 'eval_acc': 0.7477876106194691, 'eval_f1': 0.43137674912288704, 'eval_runtime': 9.1368, 'eval_samples_per_second': 24.735, 'eval_steps_per_second': 0.876, 'epoch': 37.0}\n"
     ]
    },
    {
     "name": "stderr",
     "output_type": "stream",
     "text": [
      "/usr/local/lib/python3.10/dist-packages/torch/nn/parallel/_functions.py:68: UserWarning: Was asked to gather along dimension 0, but all input tensors were scalars; will instead unsqueeze and return a vector.\n",
      "  warnings.warn('Was asked to gather along dimension 0, but all '\n"
     ]
    },
    {
     "name": "stdout",
     "output_type": "stream",
     "text": [
      "{'loss': 0.0519, 'learning_rate': 4.05078125e-05, 'epoch': 38.0}\n",
      "{'eval_loss': 2.295097589492798, 'eval_bleu': 0.5375957926905685, 'eval_acc': 0.7389380530973452, 'eval_f1': 0.441502636016307, 'eval_runtime': 8.0121, 'eval_samples_per_second': 28.207, 'eval_steps_per_second': 0.998, 'epoch': 38.0}\n"
     ]
    },
    {
     "name": "stderr",
     "output_type": "stream",
     "text": [
      "/usr/local/lib/python3.10/dist-packages/torch/nn/parallel/_functions.py:68: UserWarning: Was asked to gather along dimension 0, but all input tensors were scalars; will instead unsqueeze and return a vector.\n",
      "  warnings.warn('Was asked to gather along dimension 0, but all '\n"
     ]
    },
    {
     "name": "stdout",
     "output_type": "stream",
     "text": [
      "{'loss': 0.0484, 'learning_rate': 4.0257812500000004e-05, 'epoch': 39.0}\n",
      "{'eval_loss': 2.338993549346924, 'eval_bleu': 0.5251304663150284, 'eval_acc': 0.7433628318584071, 'eval_f1': 0.4500696175935005, 'eval_runtime': 4.3234, 'eval_samples_per_second': 52.273, 'eval_steps_per_second': 1.85, 'epoch': 39.0}\n"
     ]
    },
    {
     "name": "stderr",
     "output_type": "stream",
     "text": [
      "/usr/local/lib/python3.10/dist-packages/torch/nn/parallel/_functions.py:68: UserWarning: Was asked to gather along dimension 0, but all input tensors were scalars; will instead unsqueeze and return a vector.\n",
      "  warnings.warn('Was asked to gather along dimension 0, but all '\n"
     ]
    },
    {
     "name": "stdout",
     "output_type": "stream",
     "text": [
      "{'loss': 0.048, 'learning_rate': 4.0007812500000004e-05, 'epoch': 40.0}\n",
      "{'eval_loss': 2.2943320274353027, 'eval_bleu': 0.5486469440333561, 'eval_acc': 0.7477876106194691, 'eval_f1': 0.452426307992406, 'eval_runtime': 7.4999, 'eval_samples_per_second': 30.134, 'eval_steps_per_second': 1.067, 'epoch': 40.0}\n"
     ]
    },
    {
     "name": "stderr",
     "output_type": "stream",
     "text": [
      "/usr/local/lib/python3.10/dist-packages/torch/nn/parallel/_functions.py:68: UserWarning: Was asked to gather along dimension 0, but all input tensors were scalars; will instead unsqueeze and return a vector.\n",
      "  warnings.warn('Was asked to gather along dimension 0, but all '\n"
     ]
    },
    {
     "name": "stdout",
     "output_type": "stream",
     "text": [
      "{'loss': 0.0488, 'learning_rate': 3.9757812500000005e-05, 'epoch': 41.0}\n",
      "{'eval_loss': 2.4137141704559326, 'eval_bleu': 0.5031092946259821, 'eval_acc': 0.7212389380530974, 'eval_f1': 0.46250824058269496, 'eval_runtime': 5.9524, 'eval_samples_per_second': 37.968, 'eval_steps_per_second': 1.344, 'epoch': 41.0}\n"
     ]
    },
    {
     "name": "stderr",
     "output_type": "stream",
     "text": [
      "/usr/local/lib/python3.10/dist-packages/torch/nn/parallel/_functions.py:68: UserWarning: Was asked to gather along dimension 0, but all input tensors were scalars; will instead unsqueeze and return a vector.\n",
      "  warnings.warn('Was asked to gather along dimension 0, but all '\n"
     ]
    },
    {
     "name": "stdout",
     "output_type": "stream",
     "text": [
      "{'loss': 0.0412, 'learning_rate': 3.95078125e-05, 'epoch': 42.0}\n",
      "{'eval_loss': 2.2726657390594482, 'eval_bleu': 0.5752802665250142, 'eval_acc': 0.7610619469026548, 'eval_f1': 0.4706239557226399, 'eval_runtime': 1.8957, 'eval_samples_per_second': 119.216, 'eval_steps_per_second': 4.22, 'epoch': 42.0}\n"
     ]
    },
    {
     "name": "stderr",
     "output_type": "stream",
     "text": [
      "/usr/local/lib/python3.10/dist-packages/torch/nn/parallel/_functions.py:68: UserWarning: Was asked to gather along dimension 0, but all input tensors were scalars; will instead unsqueeze and return a vector.\n",
      "  warnings.warn('Was asked to gather along dimension 0, but all '\n"
     ]
    },
    {
     "name": "stdout",
     "output_type": "stream",
     "text": [
      "{'loss': 0.0469, 'learning_rate': 3.92578125e-05, 'epoch': 43.0}\n",
      "{'eval_loss': 2.407360553741455, 'eval_bleu': 0.5113288347798498, 'eval_acc': 0.7079646017699115, 'eval_f1': 0.4349201388888889, 'eval_runtime': 4.7155, 'eval_samples_per_second': 47.927, 'eval_steps_per_second': 1.697, 'epoch': 43.0}\n"
     ]
    },
    {
     "name": "stderr",
     "output_type": "stream",
     "text": [
      "/usr/local/lib/python3.10/dist-packages/torch/nn/parallel/_functions.py:68: UserWarning: Was asked to gather along dimension 0, but all input tensors were scalars; will instead unsqueeze and return a vector.\n",
      "  warnings.warn('Was asked to gather along dimension 0, but all '\n"
     ]
    },
    {
     "name": "stdout",
     "output_type": "stream",
     "text": [
      "{'loss': 0.0416, 'learning_rate': 3.90078125e-05, 'epoch': 44.0}\n",
      "{'eval_loss': 2.3265552520751953, 'eval_bleu': 0.5394620734829685, 'eval_acc': 0.7433628318584071, 'eval_f1': 0.44742048158340336, 'eval_runtime': 3.627, 'eval_samples_per_second': 62.311, 'eval_steps_per_second': 2.206, 'epoch': 44.0}\n"
     ]
    },
    {
     "name": "stderr",
     "output_type": "stream",
     "text": [
      "/usr/local/lib/python3.10/dist-packages/torch/nn/parallel/_functions.py:68: UserWarning: Was asked to gather along dimension 0, but all input tensors were scalars; will instead unsqueeze and return a vector.\n",
      "  warnings.warn('Was asked to gather along dimension 0, but all '\n"
     ]
    },
    {
     "name": "stdout",
     "output_type": "stream",
     "text": [
      "{'loss': 0.04, 'learning_rate': 3.87578125e-05, 'epoch': 45.0}\n",
      "{'eval_loss': 2.35347843170166, 'eval_bleu': 0.5560511134494873, 'eval_acc': 0.7522123893805309, 'eval_f1': 0.4576819984046547, 'eval_runtime': 2.0333, 'eval_samples_per_second': 111.148, 'eval_steps_per_second': 3.934, 'epoch': 45.0}\n"
     ]
    },
    {
     "name": "stderr",
     "output_type": "stream",
     "text": [
      "/usr/local/lib/python3.10/dist-packages/torch/nn/parallel/_functions.py:68: UserWarning: Was asked to gather along dimension 0, but all input tensors were scalars; will instead unsqueeze and return a vector.\n",
      "  warnings.warn('Was asked to gather along dimension 0, but all '\n"
     ]
    },
    {
     "name": "stdout",
     "output_type": "stream",
     "text": [
      "{'loss': 0.0368, 'learning_rate': 3.85078125e-05, 'epoch': 46.0}\n",
      "{'eval_loss': 2.294743061065674, 'eval_bleu': 0.5166716525904567, 'eval_acc': 0.7433628318584071, 'eval_f1': 0.4418444921828381, 'eval_runtime': 1.9136, 'eval_samples_per_second': 118.102, 'eval_steps_per_second': 4.181, 'epoch': 46.0}\n"
     ]
    },
    {
     "name": "stderr",
     "output_type": "stream",
     "text": [
      "/usr/local/lib/python3.10/dist-packages/torch/nn/parallel/_functions.py:68: UserWarning: Was asked to gather along dimension 0, but all input tensors were scalars; will instead unsqueeze and return a vector.\n",
      "  warnings.warn('Was asked to gather along dimension 0, but all '\n"
     ]
    },
    {
     "name": "stdout",
     "output_type": "stream",
     "text": [
      "{'loss': 0.0415, 'learning_rate': 3.82578125e-05, 'epoch': 47.0}\n",
      "{'eval_loss': 2.3205349445343018, 'eval_bleu': 0.5492265735386784, 'eval_acc': 0.7522123893805309, 'eval_f1': 0.47562386358051983, 'eval_runtime': 11.6581, 'eval_samples_per_second': 19.386, 'eval_steps_per_second': 0.686, 'epoch': 47.0}\n"
     ]
    },
    {
     "name": "stderr",
     "output_type": "stream",
     "text": [
      "/usr/local/lib/python3.10/dist-packages/torch/nn/parallel/_functions.py:68: UserWarning: Was asked to gather along dimension 0, but all input tensors were scalars; will instead unsqueeze and return a vector.\n",
      "  warnings.warn('Was asked to gather along dimension 0, but all '\n"
     ]
    },
    {
     "name": "stdout",
     "output_type": "stream",
     "text": [
      "{'loss': 0.0374, 'learning_rate': 3.80078125e-05, 'epoch': 48.0}\n",
      "{'eval_loss': 2.412764549255371, 'eval_bleu': 0.5490350385231433, 'eval_acc': 0.7433628318584071, 'eval_f1': 0.4464246031746032, 'eval_runtime': 11.8843, 'eval_samples_per_second': 19.017, 'eval_steps_per_second': 0.673, 'epoch': 48.0}\n"
     ]
    },
    {
     "name": "stderr",
     "output_type": "stream",
     "text": [
      "/usr/local/lib/python3.10/dist-packages/torch/nn/parallel/_functions.py:68: UserWarning: Was asked to gather along dimension 0, but all input tensors were scalars; will instead unsqueeze and return a vector.\n",
      "  warnings.warn('Was asked to gather along dimension 0, but all '\n"
     ]
    },
    {
     "name": "stdout",
     "output_type": "stream",
     "text": [
      "{'loss': 0.0404, 'learning_rate': 3.7757812500000004e-05, 'epoch': 49.0}\n",
      "{'eval_loss': 2.3409390449523926, 'eval_bleu': 0.5301086011898323, 'eval_acc': 0.7345132743362832, 'eval_f1': 0.43338082784346693, 'eval_runtime': 11.8929, 'eval_samples_per_second': 19.003, 'eval_steps_per_second': 0.673, 'epoch': 49.0}\n"
     ]
    },
    {
     "name": "stderr",
     "output_type": "stream",
     "text": [
      "/usr/local/lib/python3.10/dist-packages/torch/nn/parallel/_functions.py:68: UserWarning: Was asked to gather along dimension 0, but all input tensors were scalars; will instead unsqueeze and return a vector.\n",
      "  warnings.warn('Was asked to gather along dimension 0, but all '\n"
     ]
    },
    {
     "name": "stdout",
     "output_type": "stream",
     "text": [
      "{'loss': 0.0355, 'learning_rate': 3.75078125e-05, 'epoch': 50.0}\n",
      "{'eval_loss': 2.280428647994995, 'eval_bleu': 0.5515518046145585, 'eval_acc': 0.7477876106194691, 'eval_f1': 0.44889805485675693, 'eval_runtime': 8.5259, 'eval_samples_per_second': 26.508, 'eval_steps_per_second': 0.938, 'epoch': 50.0}\n"
     ]
    },
    {
     "name": "stderr",
     "output_type": "stream",
     "text": [
      "/usr/local/lib/python3.10/dist-packages/torch/nn/parallel/_functions.py:68: UserWarning: Was asked to gather along dimension 0, but all input tensors were scalars; will instead unsqueeze and return a vector.\n",
      "  warnings.warn('Was asked to gather along dimension 0, but all '\n"
     ]
    },
    {
     "name": "stdout",
     "output_type": "stream",
     "text": [
      "{'loss': 0.0394, 'learning_rate': 3.72578125e-05, 'epoch': 51.0}\n",
      "{'eval_loss': 2.2637622356414795, 'eval_bleu': 0.5426659357055742, 'eval_acc': 0.7610619469026548, 'eval_f1': 0.46132632044336536, 'eval_runtime': 2.7518, 'eval_samples_per_second': 82.128, 'eval_steps_per_second': 2.907, 'epoch': 51.0}\n"
     ]
    },
    {
     "name": "stderr",
     "output_type": "stream",
     "text": [
      "/usr/local/lib/python3.10/dist-packages/torch/nn/parallel/_functions.py:68: UserWarning: Was asked to gather along dimension 0, but all input tensors were scalars; will instead unsqueeze and return a vector.\n",
      "  warnings.warn('Was asked to gather along dimension 0, but all '\n"
     ]
    },
    {
     "name": "stdout",
     "output_type": "stream",
     "text": [
      "{'loss': 0.0361, 'learning_rate': 3.70078125e-05, 'epoch': 52.0}\n",
      "{'eval_loss': 2.3420698642730713, 'eval_bleu': 0.5170059758262135, 'eval_acc': 0.7212389380530974, 'eval_f1': 0.4166151381256963, 'eval_runtime': 3.4621, 'eval_samples_per_second': 65.278, 'eval_steps_per_second': 2.311, 'epoch': 52.0}\n"
     ]
    },
    {
     "name": "stderr",
     "output_type": "stream",
     "text": [
      "/usr/local/lib/python3.10/dist-packages/torch/nn/parallel/_functions.py:68: UserWarning: Was asked to gather along dimension 0, but all input tensors were scalars; will instead unsqueeze and return a vector.\n",
      "  warnings.warn('Was asked to gather along dimension 0, but all '\n"
     ]
    },
    {
     "name": "stdout",
     "output_type": "stream",
     "text": [
      "{'loss': 0.0377, 'learning_rate': 3.67578125e-05, 'epoch': 53.0}\n",
      "{'eval_loss': 2.4121434688568115, 'eval_bleu': 0.5405815079030428, 'eval_acc': 0.7433628318584071, 'eval_f1': 0.4463728368540399, 'eval_runtime': 2.1196, 'eval_samples_per_second': 106.623, 'eval_steps_per_second': 3.774, 'epoch': 53.0}\n"
     ]
    },
    {
     "name": "stderr",
     "output_type": "stream",
     "text": [
      "/usr/local/lib/python3.10/dist-packages/torch/nn/parallel/_functions.py:68: UserWarning: Was asked to gather along dimension 0, but all input tensors were scalars; will instead unsqueeze and return a vector.\n",
      "  warnings.warn('Was asked to gather along dimension 0, but all '\n"
     ]
    },
    {
     "name": "stdout",
     "output_type": "stream",
     "text": [
      "{'loss': 0.0398, 'learning_rate': 3.65078125e-05, 'epoch': 54.0}\n",
      "{'eval_loss': 2.3111720085144043, 'eval_bleu': 0.5365120546291385, 'eval_acc': 0.7477876106194691, 'eval_f1': 0.42634185876319936, 'eval_runtime': 8.3327, 'eval_samples_per_second': 27.122, 'eval_steps_per_second': 0.96, 'epoch': 54.0}\n"
     ]
    },
    {
     "name": "stderr",
     "output_type": "stream",
     "text": [
      "/usr/local/lib/python3.10/dist-packages/torch/nn/parallel/_functions.py:68: UserWarning: Was asked to gather along dimension 0, but all input tensors were scalars; will instead unsqueeze and return a vector.\n",
      "  warnings.warn('Was asked to gather along dimension 0, but all '\n"
     ]
    },
    {
     "name": "stdout",
     "output_type": "stream",
     "text": [
      "{'loss': 0.036, 'learning_rate': 3.62578125e-05, 'epoch': 55.0}\n",
      "{'eval_loss': 2.331164836883545, 'eval_bleu': 0.5213176565515083, 'eval_acc': 0.7433628318584071, 'eval_f1': 0.43501725674467007, 'eval_runtime': 14.4042, 'eval_samples_per_second': 15.69, 'eval_steps_per_second': 0.555, 'epoch': 55.0}\n"
     ]
    },
    {
     "name": "stderr",
     "output_type": "stream",
     "text": [
      "/usr/local/lib/python3.10/dist-packages/torch/nn/parallel/_functions.py:68: UserWarning: Was asked to gather along dimension 0, but all input tensors were scalars; will instead unsqueeze and return a vector.\n",
      "  warnings.warn('Was asked to gather along dimension 0, but all '\n"
     ]
    },
    {
     "name": "stdout",
     "output_type": "stream",
     "text": [
      "{'loss': 0.0309, 'learning_rate': 3.60078125e-05, 'epoch': 56.0}\n",
      "{'eval_loss': 2.338409185409546, 'eval_bleu': 0.5318997523852569, 'eval_acc': 0.7389380530973452, 'eval_f1': 0.43857618756876443, 'eval_runtime': 18.6943, 'eval_samples_per_second': 12.089, 'eval_steps_per_second': 0.428, 'epoch': 56.0}\n"
     ]
    },
    {
     "name": "stderr",
     "output_type": "stream",
     "text": [
      "/usr/local/lib/python3.10/dist-packages/torch/nn/parallel/_functions.py:68: UserWarning: Was asked to gather along dimension 0, but all input tensors were scalars; will instead unsqueeze and return a vector.\n",
      "  warnings.warn('Was asked to gather along dimension 0, but all '\n"
     ]
    },
    {
     "name": "stdout",
     "output_type": "stream",
     "text": [
      "{'loss': 0.0298, 'learning_rate': 3.57578125e-05, 'epoch': 57.0}\n",
      "{'eval_loss': 2.3600683212280273, 'eval_bleu': 0.5340639258881964, 'eval_acc': 0.7477876106194691, 'eval_f1': 0.44610183872720743, 'eval_runtime': 8.2024, 'eval_samples_per_second': 27.553, 'eval_steps_per_second': 0.975, 'epoch': 57.0}\n"
     ]
    },
    {
     "name": "stderr",
     "output_type": "stream",
     "text": [
      "/usr/local/lib/python3.10/dist-packages/torch/nn/parallel/_functions.py:68: UserWarning: Was asked to gather along dimension 0, but all input tensors were scalars; will instead unsqueeze and return a vector.\n",
      "  warnings.warn('Was asked to gather along dimension 0, but all '\n"
     ]
    },
    {
     "name": "stdout",
     "output_type": "stream",
     "text": [
      "{'loss': 0.0307, 'learning_rate': 3.55078125e-05, 'epoch': 58.0}\n",
      "{'eval_loss': 2.443291664123535, 'eval_bleu': 0.5299898481116446, 'eval_acc': 0.7477876106194691, 'eval_f1': 0.444396634318137, 'eval_runtime': 11.4415, 'eval_samples_per_second': 19.753, 'eval_steps_per_second': 0.699, 'epoch': 58.0}\n"
     ]
    },
    {
     "name": "stderr",
     "output_type": "stream",
     "text": [
      "/usr/local/lib/python3.10/dist-packages/torch/nn/parallel/_functions.py:68: UserWarning: Was asked to gather along dimension 0, but all input tensors were scalars; will instead unsqueeze and return a vector.\n",
      "  warnings.warn('Was asked to gather along dimension 0, but all '\n"
     ]
    },
    {
     "name": "stdout",
     "output_type": "stream",
     "text": [
      "{'loss': 0.0278, 'learning_rate': 3.5257812500000004e-05, 'epoch': 59.0}\n",
      "{'eval_loss': 2.4085121154785156, 'eval_bleu': 0.5557269752238666, 'eval_acc': 0.7566371681415929, 'eval_f1': 0.4627991196824081, 'eval_runtime': 10.4414, 'eval_samples_per_second': 21.645, 'eval_steps_per_second': 0.766, 'epoch': 59.0}\n"
     ]
    },
    {
     "name": "stderr",
     "output_type": "stream",
     "text": [
      "/usr/local/lib/python3.10/dist-packages/torch/nn/parallel/_functions.py:68: UserWarning: Was asked to gather along dimension 0, but all input tensors were scalars; will instead unsqueeze and return a vector.\n",
      "  warnings.warn('Was asked to gather along dimension 0, but all '\n"
     ]
    },
    {
     "name": "stdout",
     "output_type": "stream",
     "text": [
      "{'loss': 0.0314, 'learning_rate': 3.5007812500000005e-05, 'epoch': 60.0}\n",
      "{'eval_loss': 2.37884259223938, 'eval_bleu': 0.5608042097314656, 'eval_acc': 0.7566371681415929, 'eval_f1': 0.4544151396075262, 'eval_runtime': 11.4902, 'eval_samples_per_second': 19.669, 'eval_steps_per_second': 0.696, 'epoch': 60.0}\n"
     ]
    },
    {
     "name": "stderr",
     "output_type": "stream",
     "text": [
      "/usr/local/lib/python3.10/dist-packages/torch/nn/parallel/_functions.py:68: UserWarning: Was asked to gather along dimension 0, but all input tensors were scalars; will instead unsqueeze and return a vector.\n",
      "  warnings.warn('Was asked to gather along dimension 0, but all '\n"
     ]
    },
    {
     "name": "stdout",
     "output_type": "stream",
     "text": [
      "{'loss': 0.0264, 'learning_rate': 3.4757812500000005e-05, 'epoch': 61.0}\n",
      "{'eval_loss': 2.414963960647583, 'eval_bleu': 0.5554840288274251, 'eval_acc': 0.7477876106194691, 'eval_f1': 0.45457452644952645, 'eval_runtime': 8.0237, 'eval_samples_per_second': 28.167, 'eval_steps_per_second': 0.997, 'epoch': 61.0}\n"
     ]
    },
    {
     "name": "stderr",
     "output_type": "stream",
     "text": [
      "/usr/local/lib/python3.10/dist-packages/torch/nn/parallel/_functions.py:68: UserWarning: Was asked to gather along dimension 0, but all input tensors were scalars; will instead unsqueeze and return a vector.\n",
      "  warnings.warn('Was asked to gather along dimension 0, but all '\n"
     ]
    },
    {
     "name": "stdout",
     "output_type": "stream",
     "text": [
      "{'loss': 0.0275, 'learning_rate': 3.4507812500000006e-05, 'epoch': 62.0}\n",
      "{'eval_loss': 2.3889966011047363, 'eval_bleu': 0.563880379581927, 'eval_acc': 0.7610619469026548, 'eval_f1': 0.46856069808875933, 'eval_runtime': 9.6926, 'eval_samples_per_second': 23.317, 'eval_steps_per_second': 0.825, 'epoch': 62.0}\n"
     ]
    },
    {
     "name": "stderr",
     "output_type": "stream",
     "text": [
      "/usr/local/lib/python3.10/dist-packages/torch/nn/parallel/_functions.py:68: UserWarning: Was asked to gather along dimension 0, but all input tensors were scalars; will instead unsqueeze and return a vector.\n",
      "  warnings.warn('Was asked to gather along dimension 0, but all '\n"
     ]
    },
    {
     "name": "stdout",
     "output_type": "stream",
     "text": [
      "{'loss': 0.0269, 'learning_rate': 3.42578125e-05, 'epoch': 63.0}\n",
      "{'eval_loss': 2.4713432788848877, 'eval_bleu': 0.5315286587493246, 'eval_acc': 0.7433628318584071, 'eval_f1': 0.4564101191523333, 'eval_runtime': 10.1023, 'eval_samples_per_second': 22.371, 'eval_steps_per_second': 0.792, 'epoch': 63.0}\n"
     ]
    },
    {
     "name": "stderr",
     "output_type": "stream",
     "text": [
      "/usr/local/lib/python3.10/dist-packages/torch/nn/parallel/_functions.py:68: UserWarning: Was asked to gather along dimension 0, but all input tensors were scalars; will instead unsqueeze and return a vector.\n",
      "  warnings.warn('Was asked to gather along dimension 0, but all '\n"
     ]
    },
    {
     "name": "stdout",
     "output_type": "stream",
     "text": [
      "{'loss': 0.0267, 'learning_rate': 3.40078125e-05, 'epoch': 64.0}\n",
      "{'eval_loss': 2.3970158100128174, 'eval_bleu': 0.5177829243040758, 'eval_acc': 0.7433628318584071, 'eval_f1': 0.4364610653958497, 'eval_runtime': 6.4047, 'eval_samples_per_second': 35.286, 'eval_steps_per_second': 1.249, 'epoch': 64.0}\n"
     ]
    },
    {
     "name": "stderr",
     "output_type": "stream",
     "text": [
      "/usr/local/lib/python3.10/dist-packages/torch/nn/parallel/_functions.py:68: UserWarning: Was asked to gather along dimension 0, but all input tensors were scalars; will instead unsqueeze and return a vector.\n",
      "  warnings.warn('Was asked to gather along dimension 0, but all '\n"
     ]
    },
    {
     "name": "stdout",
     "output_type": "stream",
     "text": [
      "{'loss': 0.0249, 'learning_rate': 3.37578125e-05, 'epoch': 65.0}\n",
      "{'eval_loss': 2.4589216709136963, 'eval_bleu': 0.5293019948153973, 'eval_acc': 0.7389380530973452, 'eval_f1': 0.43066254814221155, 'eval_runtime': 6.2989, 'eval_samples_per_second': 35.879, 'eval_steps_per_second': 1.27, 'epoch': 65.0}\n"
     ]
    },
    {
     "name": "stderr",
     "output_type": "stream",
     "text": [
      "/usr/local/lib/python3.10/dist-packages/torch/nn/parallel/_functions.py:68: UserWarning: Was asked to gather along dimension 0, but all input tensors were scalars; will instead unsqueeze and return a vector.\n",
      "  warnings.warn('Was asked to gather along dimension 0, but all '\n"
     ]
    },
    {
     "name": "stdout",
     "output_type": "stream",
     "text": [
      "{'loss': 0.0257, 'learning_rate': 3.35078125e-05, 'epoch': 66.0}\n",
      "{'eval_loss': 2.4095802307128906, 'eval_bleu': 0.5214007156486792, 'eval_acc': 0.7389380530973452, 'eval_f1': 0.4297879777554574, 'eval_runtime': 5.2049, 'eval_samples_per_second': 43.421, 'eval_steps_per_second': 1.537, 'epoch': 66.0}\n"
     ]
    },
    {
     "name": "stderr",
     "output_type": "stream",
     "text": [
      "/usr/local/lib/python3.10/dist-packages/torch/nn/parallel/_functions.py:68: UserWarning: Was asked to gather along dimension 0, but all input tensors were scalars; will instead unsqueeze and return a vector.\n",
      "  warnings.warn('Was asked to gather along dimension 0, but all '\n"
     ]
    },
    {
     "name": "stdout",
     "output_type": "stream",
     "text": [
      "{'loss': 0.0299, 'learning_rate': 3.32578125e-05, 'epoch': 67.0}\n",
      "{'eval_loss': 2.4916834831237793, 'eval_bleu': 0.5212430895766612, 'eval_acc': 0.7300884955752213, 'eval_f1': 0.426727596629236, 'eval_runtime': 6.266, 'eval_samples_per_second': 36.067, 'eval_steps_per_second': 1.277, 'epoch': 67.0}\n"
     ]
    },
    {
     "name": "stderr",
     "output_type": "stream",
     "text": [
      "/usr/local/lib/python3.10/dist-packages/torch/nn/parallel/_functions.py:68: UserWarning: Was asked to gather along dimension 0, but all input tensors were scalars; will instead unsqueeze and return a vector.\n",
      "  warnings.warn('Was asked to gather along dimension 0, but all '\n"
     ]
    },
    {
     "name": "stdout",
     "output_type": "stream",
     "text": [
      "{'loss': 0.0278, 'learning_rate': 3.3007812500000004e-05, 'epoch': 68.0}\n",
      "{'eval_loss': 2.337123155593872, 'eval_bleu': 0.5582954941832667, 'eval_acc': 0.7610619469026548, 'eval_f1': 0.470806489629164, 'eval_runtime': 7.9145, 'eval_samples_per_second': 28.555, 'eval_steps_per_second': 1.011, 'epoch': 68.0}\n"
     ]
    },
    {
     "name": "stderr",
     "output_type": "stream",
     "text": [
      "/usr/local/lib/python3.10/dist-packages/torch/nn/parallel/_functions.py:68: UserWarning: Was asked to gather along dimension 0, but all input tensors were scalars; will instead unsqueeze and return a vector.\n",
      "  warnings.warn('Was asked to gather along dimension 0, but all '\n"
     ]
    },
    {
     "name": "stdout",
     "output_type": "stream",
     "text": [
      "{'loss': 0.0238, 'learning_rate': 3.2757812500000004e-05, 'epoch': 69.0}\n",
      "{'eval_loss': 2.4153058528900146, 'eval_bleu': 0.5582954941832667, 'eval_acc': 0.7610619469026548, 'eval_f1': 0.47475984114907, 'eval_runtime': 7.1524, 'eval_samples_per_second': 31.598, 'eval_steps_per_second': 1.119, 'epoch': 69.0}\n"
     ]
    },
    {
     "name": "stderr",
     "output_type": "stream",
     "text": [
      "/usr/local/lib/python3.10/dist-packages/torch/nn/parallel/_functions.py:68: UserWarning: Was asked to gather along dimension 0, but all input tensors were scalars; will instead unsqueeze and return a vector.\n",
      "  warnings.warn('Was asked to gather along dimension 0, but all '\n"
     ]
    },
    {
     "name": "stdout",
     "output_type": "stream",
     "text": [
      "{'loss': 0.0289, 'learning_rate': 3.25078125e-05, 'epoch': 70.0}\n",
      "{'eval_loss': 2.4046061038970947, 'eval_bleu': 0.5062508050535052, 'eval_acc': 0.7256637168141593, 'eval_f1': 0.41796429870985274, 'eval_runtime': 5.3218, 'eval_samples_per_second': 42.467, 'eval_steps_per_second': 1.503, 'epoch': 70.0}\n"
     ]
    },
    {
     "name": "stderr",
     "output_type": "stream",
     "text": [
      "/usr/local/lib/python3.10/dist-packages/torch/nn/parallel/_functions.py:68: UserWarning: Was asked to gather along dimension 0, but all input tensors were scalars; will instead unsqueeze and return a vector.\n",
      "  warnings.warn('Was asked to gather along dimension 0, but all '\n"
     ]
    },
    {
     "name": "stdout",
     "output_type": "stream",
     "text": [
      "{'loss': 0.0234, 'learning_rate': 3.22578125e-05, 'epoch': 71.0}\n",
      "{'eval_loss': 2.405029773712158, 'eval_bleu': 0.5220770953825651, 'eval_acc': 0.7389380530973452, 'eval_f1': 0.42557400880061574, 'eval_runtime': 24.3117, 'eval_samples_per_second': 9.296, 'eval_steps_per_second': 0.329, 'epoch': 71.0}\n"
     ]
    },
    {
     "name": "stderr",
     "output_type": "stream",
     "text": [
      "/usr/local/lib/python3.10/dist-packages/torch/nn/parallel/_functions.py:68: UserWarning: Was asked to gather along dimension 0, but all input tensors were scalars; will instead unsqueeze and return a vector.\n",
      "  warnings.warn('Was asked to gather along dimension 0, but all '\n"
     ]
    },
    {
     "name": "stdout",
     "output_type": "stream",
     "text": [
      "{'loss': 0.0264, 'learning_rate': 3.20078125e-05, 'epoch': 72.0}\n",
      "{'eval_loss': 2.364100694656372, 'eval_bleu': 0.5433018695124605, 'eval_acc': 0.7477876106194691, 'eval_f1': 0.43761751083221273, 'eval_runtime': 4.1661, 'eval_samples_per_second': 54.247, 'eval_steps_per_second': 1.92, 'epoch': 72.0}\n"
     ]
    },
    {
     "name": "stderr",
     "output_type": "stream",
     "text": [
      "/usr/local/lib/python3.10/dist-packages/torch/nn/parallel/_functions.py:68: UserWarning: Was asked to gather along dimension 0, but all input tensors were scalars; will instead unsqueeze and return a vector.\n",
      "  warnings.warn('Was asked to gather along dimension 0, but all '\n"
     ]
    },
    {
     "name": "stdout",
     "output_type": "stream",
     "text": [
      "{'loss': 0.0249, 'learning_rate': 3.17578125e-05, 'epoch': 73.0}\n",
      "{'eval_loss': 2.432237148284912, 'eval_bleu': 0.5510356266777103, 'eval_acc': 0.7477876106194691, 'eval_f1': 0.4455937061231935, 'eval_runtime': 3.4493, 'eval_samples_per_second': 65.521, 'eval_steps_per_second': 2.319, 'epoch': 73.0}\n"
     ]
    },
    {
     "name": "stderr",
     "output_type": "stream",
     "text": [
      "/usr/local/lib/python3.10/dist-packages/torch/nn/parallel/_functions.py:68: UserWarning: Was asked to gather along dimension 0, but all input tensors were scalars; will instead unsqueeze and return a vector.\n",
      "  warnings.warn('Was asked to gather along dimension 0, but all '\n"
     ]
    },
    {
     "name": "stdout",
     "output_type": "stream",
     "text": [
      "{'loss': 0.0291, 'learning_rate': 3.151041666666667e-05, 'epoch': 74.0}\n",
      "{'eval_loss': 2.380507230758667, 'eval_bleu': 0.5536014065004168, 'eval_acc': 0.7566371681415929, 'eval_f1': 0.4425031278523564, 'eval_runtime': 4.1497, 'eval_samples_per_second': 54.461, 'eval_steps_per_second': 1.928, 'epoch': 74.0}\n"
     ]
    },
    {
     "name": "stderr",
     "output_type": "stream",
     "text": [
      "/usr/local/lib/python3.10/dist-packages/torch/nn/parallel/_functions.py:68: UserWarning: Was asked to gather along dimension 0, but all input tensors were scalars; will instead unsqueeze and return a vector.\n",
      "  warnings.warn('Was asked to gather along dimension 0, but all '\n"
     ]
    },
    {
     "name": "stdout",
     "output_type": "stream",
     "text": [
      "{'loss': 0.0252, 'learning_rate': 3.1260416666666666e-05, 'epoch': 75.0}\n",
      "{'eval_loss': 2.4523708820343018, 'eval_bleu': 0.5372592765238914, 'eval_acc': 0.7477876106194691, 'eval_f1': 0.4396089586276989, 'eval_runtime': 5.0093, 'eval_samples_per_second': 45.116, 'eval_steps_per_second': 1.597, 'epoch': 75.0}\n"
     ]
    },
    {
     "name": "stderr",
     "output_type": "stream",
     "text": [
      "/usr/local/lib/python3.10/dist-packages/torch/nn/parallel/_functions.py:68: UserWarning: Was asked to gather along dimension 0, but all input tensors were scalars; will instead unsqueeze and return a vector.\n",
      "  warnings.warn('Was asked to gather along dimension 0, but all '\n"
     ]
    },
    {
     "name": "stdout",
     "output_type": "stream",
     "text": [
      "{'loss': 0.0271, 'learning_rate': 3.101041666666667e-05, 'epoch': 76.0}\n",
      "{'eval_loss': 2.486262321472168, 'eval_bleu': 0.537508957250911, 'eval_acc': 0.7477876106194691, 'eval_f1': 0.44039995324918185, 'eval_runtime': 1.9015, 'eval_samples_per_second': 118.851, 'eval_steps_per_second': 4.207, 'epoch': 76.0}\n"
     ]
    },
    {
     "name": "stderr",
     "output_type": "stream",
     "text": [
      "/usr/local/lib/python3.10/dist-packages/torch/nn/parallel/_functions.py:68: UserWarning: Was asked to gather along dimension 0, but all input tensors were scalars; will instead unsqueeze and return a vector.\n",
      "  warnings.warn('Was asked to gather along dimension 0, but all '\n"
     ]
    },
    {
     "name": "stdout",
     "output_type": "stream",
     "text": [
      "{'loss': 0.0227, 'learning_rate': 3.076041666666667e-05, 'epoch': 77.0}\n",
      "{'eval_loss': 2.514821767807007, 'eval_bleu': 0.5434227191616722, 'eval_acc': 0.7433628318584071, 'eval_f1': 0.43845625692137313, 'eval_runtime': 5.4361, 'eval_samples_per_second': 41.574, 'eval_steps_per_second': 1.472, 'epoch': 77.0}\n"
     ]
    },
    {
     "name": "stderr",
     "output_type": "stream",
     "text": [
      "/usr/local/lib/python3.10/dist-packages/torch/nn/parallel/_functions.py:68: UserWarning: Was asked to gather along dimension 0, but all input tensors were scalars; will instead unsqueeze and return a vector.\n",
      "  warnings.warn('Was asked to gather along dimension 0, but all '\n"
     ]
    },
    {
     "name": "stdout",
     "output_type": "stream",
     "text": [
      "{'loss': 0.0212, 'learning_rate': 3.051041666666667e-05, 'epoch': 78.0}\n",
      "{'eval_loss': 2.429947853088379, 'eval_bleu': 0.5522548220490383, 'eval_acc': 0.7522123893805309, 'eval_f1': 0.4572160266037817, 'eval_runtime': 5.411, 'eval_samples_per_second': 41.767, 'eval_steps_per_second': 1.478, 'epoch': 78.0}\n"
     ]
    },
    {
     "name": "stderr",
     "output_type": "stream",
     "text": [
      "/usr/local/lib/python3.10/dist-packages/torch/nn/parallel/_functions.py:68: UserWarning: Was asked to gather along dimension 0, but all input tensors were scalars; will instead unsqueeze and return a vector.\n",
      "  warnings.warn('Was asked to gather along dimension 0, but all '\n"
     ]
    },
    {
     "name": "stdout",
     "output_type": "stream",
     "text": [
      "{'loss': 0.0225, 'learning_rate': 3.026041666666667e-05, 'epoch': 79.0}\n",
      "{'eval_loss': 2.429170608520508, 'eval_bleu': 0.5517603962181594, 'eval_acc': 0.7610619469026548, 'eval_f1': 0.4502508159366842, 'eval_runtime': 5.4026, 'eval_samples_per_second': 41.832, 'eval_steps_per_second': 1.481, 'epoch': 79.0}\n"
     ]
    },
    {
     "name": "stderr",
     "output_type": "stream",
     "text": [
      "/usr/local/lib/python3.10/dist-packages/torch/nn/parallel/_functions.py:68: UserWarning: Was asked to gather along dimension 0, but all input tensors were scalars; will instead unsqueeze and return a vector.\n",
      "  warnings.warn('Was asked to gather along dimension 0, but all '\n"
     ]
    },
    {
     "name": "stdout",
     "output_type": "stream",
     "text": [
      "{'loss': 0.0215, 'learning_rate': 3.001041666666667e-05, 'epoch': 80.0}\n",
      "{'eval_loss': 2.4154202938079834, 'eval_bleu': 0.5614261091878024, 'eval_acc': 0.7699115044247787, 'eval_f1': 0.46850459482038426, 'eval_runtime': 5.1352, 'eval_samples_per_second': 44.01, 'eval_steps_per_second': 1.558, 'epoch': 80.0}\n"
     ]
    },
    {
     "name": "stderr",
     "output_type": "stream",
     "text": [
      "/usr/local/lib/python3.10/dist-packages/torch/nn/parallel/_functions.py:68: UserWarning: Was asked to gather along dimension 0, but all input tensors were scalars; will instead unsqueeze and return a vector.\n",
      "  warnings.warn('Was asked to gather along dimension 0, but all '\n"
     ]
    },
    {
     "name": "stdout",
     "output_type": "stream",
     "text": [
      "{'loss': 0.0287, 'learning_rate': 2.9763020833333332e-05, 'epoch': 81.0}\n",
      "{'eval_loss': 2.325181484222412, 'eval_bleu': 0.5576095198828471, 'eval_acc': 0.7610619469026548, 'eval_f1': 0.449463004590514, 'eval_runtime': 3.2293, 'eval_samples_per_second': 69.985, 'eval_steps_per_second': 2.477, 'epoch': 81.0}\n"
     ]
    },
    {
     "name": "stderr",
     "output_type": "stream",
     "text": [
      "/usr/local/lib/python3.10/dist-packages/torch/nn/parallel/_functions.py:68: UserWarning: Was asked to gather along dimension 0, but all input tensors were scalars; will instead unsqueeze and return a vector.\n",
      "  warnings.warn('Was asked to gather along dimension 0, but all '\n"
     ]
    },
    {
     "name": "stdout",
     "output_type": "stream",
     "text": [
      "{'loss': 0.0271, 'learning_rate': 2.9513020833333333e-05, 'epoch': 82.0}\n",
      "{'eval_loss': 2.451286554336548, 'eval_bleu': 0.5654646257271587, 'eval_acc': 0.7566371681415929, 'eval_f1': 0.4519754167897155, 'eval_runtime': 3.2486, 'eval_samples_per_second': 69.569, 'eval_steps_per_second': 2.463, 'epoch': 82.0}\n"
     ]
    },
    {
     "name": "stderr",
     "output_type": "stream",
     "text": [
      "/usr/local/lib/python3.10/dist-packages/torch/nn/parallel/_functions.py:68: UserWarning: Was asked to gather along dimension 0, but all input tensors were scalars; will instead unsqueeze and return a vector.\n",
      "  warnings.warn('Was asked to gather along dimension 0, but all '\n"
     ]
    },
    {
     "name": "stdout",
     "output_type": "stream",
     "text": [
      "{'loss': 0.0292, 'learning_rate': 2.9263020833333333e-05, 'epoch': 83.0}\n",
      "{'eval_loss': 2.3820436000823975, 'eval_bleu': 0.5431071704218473, 'eval_acc': 0.7477876106194691, 'eval_f1': 0.4515018357952465, 'eval_runtime': 4.9292, 'eval_samples_per_second': 45.849, 'eval_steps_per_second': 1.623, 'epoch': 83.0}\n"
     ]
    },
    {
     "name": "stderr",
     "output_type": "stream",
     "text": [
      "/usr/local/lib/python3.10/dist-packages/torch/nn/parallel/_functions.py:68: UserWarning: Was asked to gather along dimension 0, but all input tensors were scalars; will instead unsqueeze and return a vector.\n",
      "  warnings.warn('Was asked to gather along dimension 0, but all '\n"
     ]
    },
    {
     "name": "stdout",
     "output_type": "stream",
     "text": [
      "{'loss': 0.0296, 'learning_rate': 2.901302083333333e-05, 'epoch': 84.0}\n",
      "{'eval_loss': 2.3937838077545166, 'eval_bleu': 0.553878081864482, 'eval_acc': 0.7522123893805309, 'eval_f1': 0.45842871784271677, 'eval_runtime': 2.6036, 'eval_samples_per_second': 86.803, 'eval_steps_per_second': 3.073, 'epoch': 84.0}\n"
     ]
    },
    {
     "name": "stderr",
     "output_type": "stream",
     "text": [
      "/usr/local/lib/python3.10/dist-packages/torch/nn/parallel/_functions.py:68: UserWarning: Was asked to gather along dimension 0, but all input tensors were scalars; will instead unsqueeze and return a vector.\n",
      "  warnings.warn('Was asked to gather along dimension 0, but all '\n"
     ]
    },
    {
     "name": "stdout",
     "output_type": "stream",
     "text": [
      "{'loss': 0.0234, 'learning_rate': 2.8763020833333338e-05, 'epoch': 85.0}\n",
      "{'eval_loss': 2.479689598083496, 'eval_bleu': 0.542766401494513, 'eval_acc': 0.7566371681415929, 'eval_f1': 0.4363295652173913, 'eval_runtime': 3.8407, 'eval_samples_per_second': 58.843, 'eval_steps_per_second': 2.083, 'epoch': 85.0}\n"
     ]
    },
    {
     "name": "stderr",
     "output_type": "stream",
     "text": [
      "/usr/local/lib/python3.10/dist-packages/torch/nn/parallel/_functions.py:68: UserWarning: Was asked to gather along dimension 0, but all input tensors were scalars; will instead unsqueeze and return a vector.\n",
      "  warnings.warn('Was asked to gather along dimension 0, but all '\n"
     ]
    },
    {
     "name": "stdout",
     "output_type": "stream",
     "text": [
      "{'loss': 0.0233, 'learning_rate': 2.8513020833333336e-05, 'epoch': 86.0}\n",
      "{'eval_loss': 2.4389681816101074, 'eval_bleu': 0.5614599866151089, 'eval_acc': 0.7610619469026548, 'eval_f1': 0.4663176537835818, 'eval_runtime': 10.7458, 'eval_samples_per_second': 21.031, 'eval_steps_per_second': 0.744, 'epoch': 86.0}\n"
     ]
    },
    {
     "name": "stderr",
     "output_type": "stream",
     "text": [
      "/usr/local/lib/python3.10/dist-packages/torch/nn/parallel/_functions.py:68: UserWarning: Was asked to gather along dimension 0, but all input tensors were scalars; will instead unsqueeze and return a vector.\n",
      "  warnings.warn('Was asked to gather along dimension 0, but all '\n"
     ]
    },
    {
     "name": "stdout",
     "output_type": "stream",
     "text": [
      "{'loss': 0.0222, 'learning_rate': 2.8263020833333336e-05, 'epoch': 87.0}\n",
      "{'eval_loss': 2.422196388244629, 'eval_bleu': 0.54011848038679, 'eval_acc': 0.7477876106194691, 'eval_f1': 0.44002303407667326, 'eval_runtime': 7.6812, 'eval_samples_per_second': 29.423, 'eval_steps_per_second': 1.042, 'epoch': 87.0}\n"
     ]
    },
    {
     "name": "stderr",
     "output_type": "stream",
     "text": [
      "/usr/local/lib/python3.10/dist-packages/torch/nn/parallel/_functions.py:68: UserWarning: Was asked to gather along dimension 0, but all input tensors were scalars; will instead unsqueeze and return a vector.\n",
      "  warnings.warn('Was asked to gather along dimension 0, but all '\n"
     ]
    },
    {
     "name": "stdout",
     "output_type": "stream",
     "text": [
      "{'loss': 0.0221, 'learning_rate': 2.8013020833333337e-05, 'epoch': 88.0}\n",
      "{'eval_loss': 2.4636614322662354, 'eval_bleu': 0.551304036598113, 'eval_acc': 0.7566371681415929, 'eval_f1': 0.4544186241841565, 'eval_runtime': 3.5899, 'eval_samples_per_second': 62.954, 'eval_steps_per_second': 2.228, 'epoch': 88.0}\n"
     ]
    },
    {
     "name": "stderr",
     "output_type": "stream",
     "text": [
      "/usr/local/lib/python3.10/dist-packages/torch/nn/parallel/_functions.py:68: UserWarning: Was asked to gather along dimension 0, but all input tensors were scalars; will instead unsqueeze and return a vector.\n",
      "  warnings.warn('Was asked to gather along dimension 0, but all '\n"
     ]
    },
    {
     "name": "stdout",
     "output_type": "stream",
     "text": [
      "{'loss': 0.0179, 'learning_rate': 2.7763020833333338e-05, 'epoch': 89.0}\n",
      "{'eval_loss': 2.469379186630249, 'eval_bleu': 0.5560218052958752, 'eval_acc': 0.7566371681415929, 'eval_f1': 0.4496076276205826, 'eval_runtime': 6.3126, 'eval_samples_per_second': 35.802, 'eval_steps_per_second': 1.267, 'epoch': 89.0}\n"
     ]
    },
    {
     "name": "stderr",
     "output_type": "stream",
     "text": [
      "/usr/local/lib/python3.10/dist-packages/torch/nn/parallel/_functions.py:68: UserWarning: Was asked to gather along dimension 0, but all input tensors were scalars; will instead unsqueeze and return a vector.\n",
      "  warnings.warn('Was asked to gather along dimension 0, but all '\n"
     ]
    },
    {
     "name": "stdout",
     "output_type": "stream",
     "text": [
      "{'loss': 0.0193, 'learning_rate': 2.7513020833333335e-05, 'epoch': 90.0}\n",
      "{'eval_loss': 2.4606165885925293, 'eval_bleu': 0.5416509117365919, 'eval_acc': 0.7522123893805309, 'eval_f1': 0.43768097218992497, 'eval_runtime': 3.5338, 'eval_samples_per_second': 63.953, 'eval_steps_per_second': 2.264, 'epoch': 90.0}\n"
     ]
    },
    {
     "name": "stderr",
     "output_type": "stream",
     "text": [
      "/usr/local/lib/python3.10/dist-packages/torch/nn/parallel/_functions.py:68: UserWarning: Was asked to gather along dimension 0, but all input tensors were scalars; will instead unsqueeze and return a vector.\n",
      "  warnings.warn('Was asked to gather along dimension 0, but all '\n"
     ]
    },
    {
     "name": "stdout",
     "output_type": "stream",
     "text": [
      "{'loss': 0.0204, 'learning_rate': 2.7263020833333336e-05, 'epoch': 91.0}\n",
      "{'eval_loss': 2.4735846519470215, 'eval_bleu': 0.549661075282916, 'eval_acc': 0.7522123893805309, 'eval_f1': 0.44797960947336657, 'eval_runtime': 6.4018, 'eval_samples_per_second': 35.303, 'eval_steps_per_second': 1.25, 'epoch': 91.0}\n"
     ]
    },
    {
     "name": "stderr",
     "output_type": "stream",
     "text": [
      "/usr/local/lib/python3.10/dist-packages/torch/nn/parallel/_functions.py:68: UserWarning: Was asked to gather along dimension 0, but all input tensors were scalars; will instead unsqueeze and return a vector.\n",
      "  warnings.warn('Was asked to gather along dimension 0, but all '\n"
     ]
    },
    {
     "name": "stdout",
     "output_type": "stream",
     "text": [
      "{'loss': 0.0204, 'learning_rate': 2.7013020833333336e-05, 'epoch': 92.0}\n",
      "{'eval_loss': 2.4569616317749023, 'eval_bleu': 0.5676720767738932, 'eval_acc': 0.7699115044247787, 'eval_f1': 0.46222295321637424, 'eval_runtime': 6.7332, 'eval_samples_per_second': 33.565, 'eval_steps_per_second': 1.188, 'epoch': 92.0}\n"
     ]
    },
    {
     "name": "stderr",
     "output_type": "stream",
     "text": [
      "/usr/local/lib/python3.10/dist-packages/torch/nn/parallel/_functions.py:68: UserWarning: Was asked to gather along dimension 0, but all input tensors were scalars; will instead unsqueeze and return a vector.\n",
      "  warnings.warn('Was asked to gather along dimension 0, but all '\n"
     ]
    },
    {
     "name": "stdout",
     "output_type": "stream",
     "text": [
      "{'loss': 0.0195, 'learning_rate': 2.6763020833333337e-05, 'epoch': 93.0}\n",
      "{'eval_loss': 2.507462978363037, 'eval_bleu': 0.5788083317040883, 'eval_acc': 0.7699115044247787, 'eval_f1': 0.47502838076373727, 'eval_runtime': 5.5222, 'eval_samples_per_second': 40.926, 'eval_steps_per_second': 1.449, 'epoch': 93.0}\n"
     ]
    },
    {
     "name": "stderr",
     "output_type": "stream",
     "text": [
      "/usr/local/lib/python3.10/dist-packages/torch/nn/parallel/_functions.py:68: UserWarning: Was asked to gather along dimension 0, but all input tensors were scalars; will instead unsqueeze and return a vector.\n",
      "  warnings.warn('Was asked to gather along dimension 0, but all '\n"
     ]
    },
    {
     "name": "stdout",
     "output_type": "stream",
     "text": [
      "{'loss': 0.0202, 'learning_rate': 2.6513020833333334e-05, 'epoch': 94.0}\n",
      "{'eval_loss': 2.471003770828247, 'eval_bleu': 0.5694160975543423, 'eval_acc': 0.7699115044247787, 'eval_f1': 0.4697461013645224, 'eval_runtime': 1.9896, 'eval_samples_per_second': 113.591, 'eval_steps_per_second': 4.021, 'epoch': 94.0}\n"
     ]
    },
    {
     "name": "stderr",
     "output_type": "stream",
     "text": [
      "/usr/local/lib/python3.10/dist-packages/torch/nn/parallel/_functions.py:68: UserWarning: Was asked to gather along dimension 0, but all input tensors were scalars; will instead unsqueeze and return a vector.\n",
      "  warnings.warn('Was asked to gather along dimension 0, but all '\n"
     ]
    },
    {
     "name": "stdout",
     "output_type": "stream",
     "text": [
      "{'loss': 0.0182, 'learning_rate': 2.6263020833333335e-05, 'epoch': 95.0}\n",
      "{'eval_loss': 2.4875941276550293, 'eval_bleu': 0.566089803121286, 'eval_acc': 0.7654867256637168, 'eval_f1': 0.4599980854915065, 'eval_runtime': 3.8242, 'eval_samples_per_second': 59.097, 'eval_steps_per_second': 2.092, 'epoch': 95.0}\n"
     ]
    },
    {
     "name": "stderr",
     "output_type": "stream",
     "text": [
      "/usr/local/lib/python3.10/dist-packages/torch/nn/parallel/_functions.py:68: UserWarning: Was asked to gather along dimension 0, but all input tensors were scalars; will instead unsqueeze and return a vector.\n",
      "  warnings.warn('Was asked to gather along dimension 0, but all '\n"
     ]
    },
    {
     "name": "stdout",
     "output_type": "stream",
     "text": [
      "{'loss': 0.0181, 'learning_rate': 2.6013020833333336e-05, 'epoch': 96.0}\n",
      "{'eval_loss': 2.4977877140045166, 'eval_bleu': 0.5733767672933975, 'eval_acc': 0.7654867256637168, 'eval_f1': 0.46074266647802303, 'eval_runtime': 7.0182, 'eval_samples_per_second': 32.202, 'eval_steps_per_second': 1.14, 'epoch': 96.0}\n"
     ]
    },
    {
     "name": "stderr",
     "output_type": "stream",
     "text": [
      "/usr/local/lib/python3.10/dist-packages/torch/nn/parallel/_functions.py:68: UserWarning: Was asked to gather along dimension 0, but all input tensors were scalars; will instead unsqueeze and return a vector.\n",
      "  warnings.warn('Was asked to gather along dimension 0, but all '\n"
     ]
    },
    {
     "name": "stdout",
     "output_type": "stream",
     "text": [
      "{'loss': 0.0176, 'learning_rate': 2.5763020833333333e-05, 'epoch': 97.0}\n",
      "{'eval_loss': 2.496354103088379, 'eval_bleu': 0.5723771028763162, 'eval_acc': 0.7743362831858407, 'eval_f1': 0.47685588972431076, 'eval_runtime': 6.9933, 'eval_samples_per_second': 32.317, 'eval_steps_per_second': 1.144, 'epoch': 97.0}\n"
     ]
    },
    {
     "name": "stderr",
     "output_type": "stream",
     "text": [
      "/usr/local/lib/python3.10/dist-packages/torch/nn/parallel/_functions.py:68: UserWarning: Was asked to gather along dimension 0, but all input tensors were scalars; will instead unsqueeze and return a vector.\n",
      "  warnings.warn('Was asked to gather along dimension 0, but all '\n"
     ]
    },
    {
     "name": "stdout",
     "output_type": "stream",
     "text": [
      "{'loss': 0.0184, 'learning_rate': 2.5513020833333334e-05, 'epoch': 98.0}\n",
      "{'eval_loss': 2.410200834274292, 'eval_bleu': 0.5653547401951902, 'eval_acc': 0.7654867256637168, 'eval_f1': 0.47185974754558196, 'eval_runtime': 6.5153, 'eval_samples_per_second': 34.687, 'eval_steps_per_second': 1.228, 'epoch': 98.0}\n"
     ]
    },
    {
     "name": "stderr",
     "output_type": "stream",
     "text": [
      "/usr/local/lib/python3.10/dist-packages/torch/nn/parallel/_functions.py:68: UserWarning: Was asked to gather along dimension 0, but all input tensors were scalars; will instead unsqueeze and return a vector.\n",
      "  warnings.warn('Was asked to gather along dimension 0, but all '\n"
     ]
    },
    {
     "name": "stdout",
     "output_type": "stream",
     "text": [
      "{'loss': 0.0167, 'learning_rate': 2.5263020833333334e-05, 'epoch': 99.0}\n",
      "{'eval_loss': 2.4954769611358643, 'eval_bleu': 0.5181711983974003, 'eval_acc': 0.7389380530973452, 'eval_f1': 0.42850312079895625, 'eval_runtime': 3.6503, 'eval_samples_per_second': 61.913, 'eval_steps_per_second': 2.192, 'epoch': 99.0}\n"
     ]
    },
    {
     "name": "stderr",
     "output_type": "stream",
     "text": [
      "/usr/local/lib/python3.10/dist-packages/torch/nn/parallel/_functions.py:68: UserWarning: Was asked to gather along dimension 0, but all input tensors were scalars; will instead unsqueeze and return a vector.\n",
      "  warnings.warn('Was asked to gather along dimension 0, but all '\n"
     ]
    },
    {
     "name": "stdout",
     "output_type": "stream",
     "text": [
      "{'loss': 0.0204, 'learning_rate': 2.5013020833333335e-05, 'epoch': 100.0}\n",
      "{'eval_loss': 2.5972907543182373, 'eval_bleu': 0.5520714018036248, 'eval_acc': 0.7389380530973452, 'eval_f1': 0.44552756611385025, 'eval_runtime': 2.0842, 'eval_samples_per_second': 108.436, 'eval_steps_per_second': 3.838, 'epoch': 100.0}\n"
     ]
    },
    {
     "name": "stderr",
     "output_type": "stream",
     "text": [
      "/usr/local/lib/python3.10/dist-packages/torch/nn/parallel/_functions.py:68: UserWarning: Was asked to gather along dimension 0, but all input tensors were scalars; will instead unsqueeze and return a vector.\n",
      "  warnings.warn('Was asked to gather along dimension 0, but all '\n"
     ]
    },
    {
     "name": "stdout",
     "output_type": "stream",
     "text": [
      "{'loss': 0.0208, 'learning_rate': 2.4763020833333332e-05, 'epoch': 101.0}\n",
      "{'eval_loss': 2.517362117767334, 'eval_bleu': 0.5511018768293945, 'eval_acc': 0.7566371681415929, 'eval_f1': 0.43961565630247235, 'eval_runtime': 3.6585, 'eval_samples_per_second': 61.774, 'eval_steps_per_second': 2.187, 'epoch': 101.0}\n"
     ]
    },
    {
     "name": "stderr",
     "output_type": "stream",
     "text": [
      "/usr/local/lib/python3.10/dist-packages/torch/nn/parallel/_functions.py:68: UserWarning: Was asked to gather along dimension 0, but all input tensors were scalars; will instead unsqueeze and return a vector.\n",
      "  warnings.warn('Was asked to gather along dimension 0, but all '\n"
     ]
    },
    {
     "name": "stdout",
     "output_type": "stream",
     "text": [
      "{'loss': 0.0194, 'learning_rate': 2.4513020833333333e-05, 'epoch': 102.0}\n",
      "{'eval_loss': 2.550776720046997, 'eval_bleu': 0.5426109634563381, 'eval_acc': 0.7389380530973452, 'eval_f1': 0.4386979686979686, 'eval_runtime': 8.0295, 'eval_samples_per_second': 28.146, 'eval_steps_per_second': 0.996, 'epoch': 102.0}\n"
     ]
    },
    {
     "name": "stderr",
     "output_type": "stream",
     "text": [
      "/usr/local/lib/python3.10/dist-packages/torch/nn/parallel/_functions.py:68: UserWarning: Was asked to gather along dimension 0, but all input tensors were scalars; will instead unsqueeze and return a vector.\n",
      "  warnings.warn('Was asked to gather along dimension 0, but all '\n"
     ]
    },
    {
     "name": "stdout",
     "output_type": "stream",
     "text": [
      "{'loss': 0.0212, 'learning_rate': 2.4263020833333337e-05, 'epoch': 103.0}\n",
      "{'eval_loss': 2.562910556793213, 'eval_bleu': 0.5567443822657421, 'eval_acc': 0.7522123893805309, 'eval_f1': 0.45427324232633964, 'eval_runtime': 8.8493, 'eval_samples_per_second': 25.539, 'eval_steps_per_second': 0.904, 'epoch': 103.0}\n"
     ]
    },
    {
     "name": "stderr",
     "output_type": "stream",
     "text": [
      "/usr/local/lib/python3.10/dist-packages/torch/nn/parallel/_functions.py:68: UserWarning: Was asked to gather along dimension 0, but all input tensors were scalars; will instead unsqueeze and return a vector.\n",
      "  warnings.warn('Was asked to gather along dimension 0, but all '\n"
     ]
    },
    {
     "name": "stdout",
     "output_type": "stream",
     "text": [
      "{'loss': 0.024, 'learning_rate': 2.4013020833333335e-05, 'epoch': 104.0}\n",
      "{'eval_loss': 2.5644142627716064, 'eval_bleu': 0.5480143498847491, 'eval_acc': 0.7566371681415929, 'eval_f1': 0.4442727652464494, 'eval_runtime': 63.5661, 'eval_samples_per_second': 3.555, 'eval_steps_per_second': 0.126, 'epoch': 104.0}\n"
     ]
    },
    {
     "name": "stderr",
     "output_type": "stream",
     "text": [
      "/usr/local/lib/python3.10/dist-packages/torch/nn/parallel/_functions.py:68: UserWarning: Was asked to gather along dimension 0, but all input tensors were scalars; will instead unsqueeze and return a vector.\n",
      "  warnings.warn('Was asked to gather along dimension 0, but all '\n"
     ]
    },
    {
     "name": "stdout",
     "output_type": "stream",
     "text": [
      "{'loss': 0.0188, 'learning_rate': 2.3763020833333335e-05, 'epoch': 105.0}\n",
      "{'eval_loss': 2.5525448322296143, 'eval_bleu': 0.5452629578837703, 'eval_acc': 0.7477876106194691, 'eval_f1': 0.4404138603633101, 'eval_runtime': 7.6777, 'eval_samples_per_second': 29.436, 'eval_steps_per_second': 1.042, 'epoch': 105.0}\n"
     ]
    },
    {
     "name": "stderr",
     "output_type": "stream",
     "text": [
      "/usr/local/lib/python3.10/dist-packages/torch/nn/parallel/_functions.py:68: UserWarning: Was asked to gather along dimension 0, but all input tensors were scalars; will instead unsqueeze and return a vector.\n",
      "  warnings.warn('Was asked to gather along dimension 0, but all '\n"
     ]
    },
    {
     "name": "stdout",
     "output_type": "stream",
     "text": [
      "{'loss': 0.0192, 'learning_rate': 2.3513020833333336e-05, 'epoch': 106.0}\n",
      "{'eval_loss': 2.634066104888916, 'eval_bleu': 0.5542577495427164, 'eval_acc': 0.7522123893805309, 'eval_f1': 0.44722626461269527, 'eval_runtime': 8.8009, 'eval_samples_per_second': 25.679, 'eval_steps_per_second': 0.909, 'epoch': 106.0}\n"
     ]
    },
    {
     "name": "stderr",
     "output_type": "stream",
     "text": [
      "/usr/local/lib/python3.10/dist-packages/torch/nn/parallel/_functions.py:68: UserWarning: Was asked to gather along dimension 0, but all input tensors were scalars; will instead unsqueeze and return a vector.\n",
      "  warnings.warn('Was asked to gather along dimension 0, but all '\n"
     ]
    },
    {
     "name": "stdout",
     "output_type": "stream",
     "text": [
      "{'loss': 0.0177, 'learning_rate': 2.3263020833333333e-05, 'epoch': 107.0}\n",
      "{'eval_loss': 2.6069912910461426, 'eval_bleu': 0.5273375273938664, 'eval_acc': 0.7522123893805309, 'eval_f1': 0.45970829803649527, 'eval_runtime': 7.7008, 'eval_samples_per_second': 29.347, 'eval_steps_per_second': 1.039, 'epoch': 107.0}\n"
     ]
    },
    {
     "name": "stderr",
     "output_type": "stream",
     "text": [
      "/usr/local/lib/python3.10/dist-packages/torch/nn/parallel/_functions.py:68: UserWarning: Was asked to gather along dimension 0, but all input tensors were scalars; will instead unsqueeze and return a vector.\n",
      "  warnings.warn('Was asked to gather along dimension 0, but all '\n"
     ]
    },
    {
     "name": "stdout",
     "output_type": "stream",
     "text": [
      "{'loss': 0.0186, 'learning_rate': 2.3013020833333334e-05, 'epoch': 108.0}\n",
      "{'eval_loss': 2.633362293243408, 'eval_bleu': 0.5502910048199331, 'eval_acc': 0.7433628318584071, 'eval_f1': 0.44674617834323577, 'eval_runtime': 7.8119, 'eval_samples_per_second': 28.93, 'eval_steps_per_second': 1.024, 'epoch': 108.0}\n"
     ]
    },
    {
     "name": "stderr",
     "output_type": "stream",
     "text": [
      "/usr/local/lib/python3.10/dist-packages/torch/nn/parallel/_functions.py:68: UserWarning: Was asked to gather along dimension 0, but all input tensors were scalars; will instead unsqueeze and return a vector.\n",
      "  warnings.warn('Was asked to gather along dimension 0, but all '\n"
     ]
    },
    {
     "name": "stdout",
     "output_type": "stream",
     "text": [
      "{'loss': 0.0264, 'learning_rate': 2.2763020833333335e-05, 'epoch': 109.0}\n",
      "{'eval_loss': 2.6358988285064697, 'eval_bleu': 0.5514963631707457, 'eval_acc': 0.7477876106194691, 'eval_f1': 0.4599585319282289, 'eval_runtime': 8.1011, 'eval_samples_per_second': 27.897, 'eval_steps_per_second': 0.988, 'epoch': 109.0}\n"
     ]
    },
    {
     "name": "stderr",
     "output_type": "stream",
     "text": [
      "/usr/local/lib/python3.10/dist-packages/torch/nn/parallel/_functions.py:68: UserWarning: Was asked to gather along dimension 0, but all input tensors were scalars; will instead unsqueeze and return a vector.\n",
      "  warnings.warn('Was asked to gather along dimension 0, but all '\n"
     ]
    },
    {
     "name": "stdout",
     "output_type": "stream",
     "text": [
      "{'loss': 0.0161, 'learning_rate': 2.2513020833333335e-05, 'epoch': 110.0}\n",
      "{'eval_loss': 2.5663745403289795, 'eval_bleu': 0.5391912349414689, 'eval_acc': 0.7522123893805309, 'eval_f1': 0.45046777051162484, 'eval_runtime': 10.8876, 'eval_samples_per_second': 20.758, 'eval_steps_per_second': 0.735, 'epoch': 110.0}\n"
     ]
    },
    {
     "name": "stderr",
     "output_type": "stream",
     "text": [
      "/usr/local/lib/python3.10/dist-packages/torch/nn/parallel/_functions.py:68: UserWarning: Was asked to gather along dimension 0, but all input tensors were scalars; will instead unsqueeze and return a vector.\n",
      "  warnings.warn('Was asked to gather along dimension 0, but all '\n"
     ]
    },
    {
     "name": "stdout",
     "output_type": "stream",
     "text": [
      "{'loss': 0.0163, 'learning_rate': 2.2263020833333333e-05, 'epoch': 111.0}\n",
      "{'eval_loss': 2.5968241691589355, 'eval_bleu': 0.5286309242742702, 'eval_acc': 0.7433628318584071, 'eval_f1': 0.4404922646575165, 'eval_runtime': 1.9456, 'eval_samples_per_second': 116.161, 'eval_steps_per_second': 4.112, 'epoch': 111.0}\n"
     ]
    },
    {
     "name": "stderr",
     "output_type": "stream",
     "text": [
      "/usr/local/lib/python3.10/dist-packages/torch/nn/parallel/_functions.py:68: UserWarning: Was asked to gather along dimension 0, but all input tensors were scalars; will instead unsqueeze and return a vector.\n",
      "  warnings.warn('Was asked to gather along dimension 0, but all '\n"
     ]
    },
    {
     "name": "stdout",
     "output_type": "stream",
     "text": [
      "{'loss': 0.0168, 'learning_rate': 2.2013020833333333e-05, 'epoch': 112.0}\n",
      "{'eval_loss': 2.599806547164917, 'eval_bleu': 0.5396475604599702, 'eval_acc': 0.7522123893805309, 'eval_f1': 0.4581690323342842, 'eval_runtime': 3.2063, 'eval_samples_per_second': 70.487, 'eval_steps_per_second': 2.495, 'epoch': 112.0}\n"
     ]
    },
    {
     "name": "stderr",
     "output_type": "stream",
     "text": [
      "/usr/local/lib/python3.10/dist-packages/torch/nn/parallel/_functions.py:68: UserWarning: Was asked to gather along dimension 0, but all input tensors were scalars; will instead unsqueeze and return a vector.\n",
      "  warnings.warn('Was asked to gather along dimension 0, but all '\n"
     ]
    },
    {
     "name": "stdout",
     "output_type": "stream",
     "text": [
      "{'loss': 0.016, 'learning_rate': 2.1763020833333334e-05, 'epoch': 113.0}\n",
      "{'eval_loss': 2.6107327938079834, 'eval_bleu': 0.5469692046827382, 'eval_acc': 0.7566371681415929, 'eval_f1': 0.454468287680854, 'eval_runtime': 5.4728, 'eval_samples_per_second': 41.295, 'eval_steps_per_second': 1.462, 'epoch': 113.0}\n"
     ]
    },
    {
     "name": "stderr",
     "output_type": "stream",
     "text": [
      "/usr/local/lib/python3.10/dist-packages/torch/nn/parallel/_functions.py:68: UserWarning: Was asked to gather along dimension 0, but all input tensors were scalars; will instead unsqueeze and return a vector.\n",
      "  warnings.warn('Was asked to gather along dimension 0, but all '\n"
     ]
    },
    {
     "name": "stdout",
     "output_type": "stream",
     "text": [
      "{'loss': 0.0158, 'learning_rate': 2.1513020833333335e-05, 'epoch': 114.0}\n",
      "{'eval_loss': 2.6069765090942383, 'eval_bleu': 0.5439919594702473, 'eval_acc': 0.7566371681415929, 'eval_f1': 0.4598738512949039, 'eval_runtime': 3.8823, 'eval_samples_per_second': 58.214, 'eval_steps_per_second': 2.061, 'epoch': 114.0}\n"
     ]
    },
    {
     "name": "stderr",
     "output_type": "stream",
     "text": [
      "/usr/local/lib/python3.10/dist-packages/torch/nn/parallel/_functions.py:68: UserWarning: Was asked to gather along dimension 0, but all input tensors were scalars; will instead unsqueeze and return a vector.\n",
      "  warnings.warn('Was asked to gather along dimension 0, but all '\n"
     ]
    },
    {
     "name": "stdout",
     "output_type": "stream",
     "text": [
      "{'loss': 0.0171, 'learning_rate': 2.1263020833333332e-05, 'epoch': 115.0}\n",
      "{'eval_loss': 2.6024224758148193, 'eval_bleu': 0.5412876903462716, 'eval_acc': 0.7522123893805309, 'eval_f1': 0.4487789735495289, 'eval_runtime': 3.7598, 'eval_samples_per_second': 60.109, 'eval_steps_per_second': 2.128, 'epoch': 115.0}\n"
     ]
    },
    {
     "name": "stderr",
     "output_type": "stream",
     "text": [
      "/usr/local/lib/python3.10/dist-packages/torch/nn/parallel/_functions.py:68: UserWarning: Was asked to gather along dimension 0, but all input tensors were scalars; will instead unsqueeze and return a vector.\n",
      "  warnings.warn('Was asked to gather along dimension 0, but all '\n"
     ]
    },
    {
     "name": "stdout",
     "output_type": "stream",
     "text": [
      "{'loss': 0.0209, 'learning_rate': 2.1013020833333336e-05, 'epoch': 116.0}\n",
      "{'eval_loss': 2.602416515350342, 'eval_bleu': 0.5349059318141118, 'eval_acc': 0.7522123893805309, 'eval_f1': 0.43519562746041, 'eval_runtime': 4.8154, 'eval_samples_per_second': 46.932, 'eval_steps_per_second': 1.661, 'epoch': 116.0}\n"
     ]
    },
    {
     "name": "stderr",
     "output_type": "stream",
     "text": [
      "/usr/local/lib/python3.10/dist-packages/torch/nn/parallel/_functions.py:68: UserWarning: Was asked to gather along dimension 0, but all input tensors were scalars; will instead unsqueeze and return a vector.\n",
      "  warnings.warn('Was asked to gather along dimension 0, but all '\n"
     ]
    },
    {
     "name": "stdout",
     "output_type": "stream",
     "text": [
      "{'loss': 0.017, 'learning_rate': 2.0763020833333337e-05, 'epoch': 117.0}\n",
      "{'eval_loss': 2.6576035022735596, 'eval_bleu': 0.5098600646791289, 'eval_acc': 0.7345132743362832, 'eval_f1': 0.4381839402427638, 'eval_runtime': 6.0357, 'eval_samples_per_second': 37.444, 'eval_steps_per_second': 1.325, 'epoch': 117.0}\n"
     ]
    },
    {
     "name": "stderr",
     "output_type": "stream",
     "text": [
      "/usr/local/lib/python3.10/dist-packages/torch/nn/parallel/_functions.py:68: UserWarning: Was asked to gather along dimension 0, but all input tensors were scalars; will instead unsqueeze and return a vector.\n",
      "  warnings.warn('Was asked to gather along dimension 0, but all '\n"
     ]
    },
    {
     "name": "stdout",
     "output_type": "stream",
     "text": [
      "{'loss': 0.0168, 'learning_rate': 2.0513020833333334e-05, 'epoch': 118.0}\n",
      "{'eval_loss': 2.6178226470947266, 'eval_bleu': 0.5442111645253781, 'eval_acc': 0.7610619469026548, 'eval_f1': 0.45915565217391296, 'eval_runtime': 3.5588, 'eval_samples_per_second': 63.505, 'eval_steps_per_second': 2.248, 'epoch': 118.0}\n"
     ]
    },
    {
     "name": "stderr",
     "output_type": "stream",
     "text": [
      "/usr/local/lib/python3.10/dist-packages/torch/nn/parallel/_functions.py:68: UserWarning: Was asked to gather along dimension 0, but all input tensors were scalars; will instead unsqueeze and return a vector.\n",
      "  warnings.warn('Was asked to gather along dimension 0, but all '\n"
     ]
    },
    {
     "name": "stdout",
     "output_type": "stream",
     "text": [
      "{'loss': 0.0176, 'learning_rate': 2.0263020833333335e-05, 'epoch': 119.0}\n",
      "{'eval_loss': 2.6100854873657227, 'eval_bleu': 0.5427673580433952, 'eval_acc': 0.7477876106194691, 'eval_f1': 0.4394699360045894, 'eval_runtime': 4.0285, 'eval_samples_per_second': 56.1, 'eval_steps_per_second': 1.986, 'epoch': 119.0}\n"
     ]
    },
    {
     "name": "stderr",
     "output_type": "stream",
     "text": [
      "/usr/local/lib/python3.10/dist-packages/torch/nn/parallel/_functions.py:68: UserWarning: Was asked to gather along dimension 0, but all input tensors were scalars; will instead unsqueeze and return a vector.\n",
      "  warnings.warn('Was asked to gather along dimension 0, but all '\n"
     ]
    },
    {
     "name": "stdout",
     "output_type": "stream",
     "text": [
      "{'loss': 0.0151, 'learning_rate': 2.0013020833333336e-05, 'epoch': 120.0}\n",
      "{'eval_loss': 2.570415735244751, 'eval_bleu': 0.5379849884759225, 'eval_acc': 0.7433628318584071, 'eval_f1': 0.4436046119235095, 'eval_runtime': 4.925, 'eval_samples_per_second': 45.888, 'eval_steps_per_second': 1.624, 'epoch': 120.0}\n"
     ]
    },
    {
     "name": "stderr",
     "output_type": "stream",
     "text": [
      "/usr/local/lib/python3.10/dist-packages/torch/nn/parallel/_functions.py:68: UserWarning: Was asked to gather along dimension 0, but all input tensors were scalars; will instead unsqueeze and return a vector.\n",
      "  warnings.warn('Was asked to gather along dimension 0, but all '\n"
     ]
    },
    {
     "name": "stdout",
     "output_type": "stream",
     "text": [
      "{'loss': 0.0164, 'learning_rate': 1.9763020833333333e-05, 'epoch': 121.0}\n",
      "{'eval_loss': 2.5612528324127197, 'eval_bleu': 0.5391403805613884, 'eval_acc': 0.7477876106194691, 'eval_f1': 0.43874705108926704, 'eval_runtime': 6.9479, 'eval_samples_per_second': 32.528, 'eval_steps_per_second': 1.151, 'epoch': 121.0}\n"
     ]
    },
    {
     "name": "stderr",
     "output_type": "stream",
     "text": [
      "/usr/local/lib/python3.10/dist-packages/torch/nn/parallel/_functions.py:68: UserWarning: Was asked to gather along dimension 0, but all input tensors were scalars; will instead unsqueeze and return a vector.\n",
      "  warnings.warn('Was asked to gather along dimension 0, but all '\n"
     ]
    },
    {
     "name": "stdout",
     "output_type": "stream",
     "text": [
      "{'loss': 0.0164, 'learning_rate': 1.9513020833333334e-05, 'epoch': 122.0}\n",
      "{'eval_loss': 2.5433366298675537, 'eval_bleu': 0.5560218052958752, 'eval_acc': 0.7566371681415929, 'eval_f1': 0.44775450690345125, 'eval_runtime': 2.7296, 'eval_samples_per_second': 82.797, 'eval_steps_per_second': 2.931, 'epoch': 122.0}\n"
     ]
    },
    {
     "name": "stderr",
     "output_type": "stream",
     "text": [
      "/usr/local/lib/python3.10/dist-packages/torch/nn/parallel/_functions.py:68: UserWarning: Was asked to gather along dimension 0, but all input tensors were scalars; will instead unsqueeze and return a vector.\n",
      "  warnings.warn('Was asked to gather along dimension 0, but all '\n"
     ]
    },
    {
     "name": "stdout",
     "output_type": "stream",
     "text": [
      "{'loss': 0.0167, 'learning_rate': 1.9263020833333334e-05, 'epoch': 123.0}\n",
      "{'eval_loss': 2.581697940826416, 'eval_bleu': 0.5408232403901594, 'eval_acc': 0.7566371681415929, 'eval_f1': 0.4525035338043468, 'eval_runtime': 8.2151, 'eval_samples_per_second': 27.51, 'eval_steps_per_second': 0.974, 'epoch': 123.0}\n"
     ]
    },
    {
     "name": "stderr",
     "output_type": "stream",
     "text": [
      "/usr/local/lib/python3.10/dist-packages/torch/nn/parallel/_functions.py:68: UserWarning: Was asked to gather along dimension 0, but all input tensors were scalars; will instead unsqueeze and return a vector.\n",
      "  warnings.warn('Was asked to gather along dimension 0, but all '\n"
     ]
    },
    {
     "name": "stdout",
     "output_type": "stream",
     "text": [
      "{'loss': 0.0166, 'learning_rate': 1.9013020833333335e-05, 'epoch': 124.0}\n",
      "{'eval_loss': 2.578920602798462, 'eval_bleu': 0.5520550742679536, 'eval_acc': 0.7610619469026548, 'eval_f1': 0.4440475837350142, 'eval_runtime': 9.9239, 'eval_samples_per_second': 22.773, 'eval_steps_per_second': 0.806, 'epoch': 124.0}\n"
     ]
    },
    {
     "name": "stderr",
     "output_type": "stream",
     "text": [
      "/usr/local/lib/python3.10/dist-packages/torch/nn/parallel/_functions.py:68: UserWarning: Was asked to gather along dimension 0, but all input tensors were scalars; will instead unsqueeze and return a vector.\n",
      "  warnings.warn('Was asked to gather along dimension 0, but all '\n"
     ]
    },
    {
     "name": "stdout",
     "output_type": "stream",
     "text": [
      "{'loss': 0.0154, 'learning_rate': 1.8763020833333332e-05, 'epoch': 125.0}\n",
      "{'eval_loss': 2.5971879959106445, 'eval_bleu': 0.5575813152682968, 'eval_acc': 0.7610619469026548, 'eval_f1': 0.4533975155279503, 'eval_runtime': 12.5492, 'eval_samples_per_second': 18.009, 'eval_steps_per_second': 0.637, 'epoch': 125.0}\n"
     ]
    },
    {
     "name": "stderr",
     "output_type": "stream",
     "text": [
      "/usr/local/lib/python3.10/dist-packages/torch/nn/parallel/_functions.py:68: UserWarning: Was asked to gather along dimension 0, but all input tensors were scalars; will instead unsqueeze and return a vector.\n",
      "  warnings.warn('Was asked to gather along dimension 0, but all '\n"
     ]
    },
    {
     "name": "stdout",
     "output_type": "stream",
     "text": [
      "{'loss': 0.0163, 'learning_rate': 1.8513020833333333e-05, 'epoch': 126.0}\n",
      "{'eval_loss': 2.5990376472473145, 'eval_bleu': 0.5494570959484514, 'eval_acc': 0.7566371681415929, 'eval_f1': 0.45583824882070495, 'eval_runtime': 3.954, 'eval_samples_per_second': 57.158, 'eval_steps_per_second': 2.023, 'epoch': 126.0}\n"
     ]
    },
    {
     "name": "stderr",
     "output_type": "stream",
     "text": [
      "/usr/local/lib/python3.10/dist-packages/torch/nn/parallel/_functions.py:68: UserWarning: Was asked to gather along dimension 0, but all input tensors were scalars; will instead unsqueeze and return a vector.\n",
      "  warnings.warn('Was asked to gather along dimension 0, but all '\n"
     ]
    },
    {
     "name": "stdout",
     "output_type": "stream",
     "text": [
      "{'loss': 0.0161, 'learning_rate': 1.8263020833333334e-05, 'epoch': 127.0}\n",
      "{'eval_loss': 2.6072874069213867, 'eval_bleu': 0.5472158918161214, 'eval_acc': 0.7566371681415929, 'eval_f1': 0.45112543735576566, 'eval_runtime': 1.9169, 'eval_samples_per_second': 117.9, 'eval_steps_per_second': 4.173, 'epoch': 127.0}\n"
     ]
    },
    {
     "name": "stderr",
     "output_type": "stream",
     "text": [
      "/usr/local/lib/python3.10/dist-packages/torch/nn/parallel/_functions.py:68: UserWarning: Was asked to gather along dimension 0, but all input tensors were scalars; will instead unsqueeze and return a vector.\n",
      "  warnings.warn('Was asked to gather along dimension 0, but all '\n"
     ]
    },
    {
     "name": "stdout",
     "output_type": "stream",
     "text": [
      "{'loss': 0.0146, 'learning_rate': 1.8013020833333334e-05, 'epoch': 128.0}\n",
      "{'eval_loss': 2.5943284034729004, 'eval_bleu': 0.5470849912755242, 'eval_acc': 0.7522123893805309, 'eval_f1': 0.4475845410628019, 'eval_runtime': 6.601, 'eval_samples_per_second': 34.237, 'eval_steps_per_second': 1.212, 'epoch': 128.0}\n"
     ]
    },
    {
     "name": "stderr",
     "output_type": "stream",
     "text": [
      "/usr/local/lib/python3.10/dist-packages/torch/nn/parallel/_functions.py:68: UserWarning: Was asked to gather along dimension 0, but all input tensors were scalars; will instead unsqueeze and return a vector.\n",
      "  warnings.warn('Was asked to gather along dimension 0, but all '\n"
     ]
    },
    {
     "name": "stdout",
     "output_type": "stream",
     "text": [
      "{'loss': 0.0154, 'learning_rate': 1.7763020833333335e-05, 'epoch': 129.0}\n",
      "{'eval_loss': 2.6129589080810547, 'eval_bleu': 0.5551916328026847, 'eval_acc': 0.7566371681415929, 'eval_f1': 0.4531923869078637, 'eval_runtime': 4.372, 'eval_samples_per_second': 51.692, 'eval_steps_per_second': 1.83, 'epoch': 129.0}\n"
     ]
    },
    {
     "name": "stderr",
     "output_type": "stream",
     "text": [
      "/usr/local/lib/python3.10/dist-packages/torch/nn/parallel/_functions.py:68: UserWarning: Was asked to gather along dimension 0, but all input tensors were scalars; will instead unsqueeze and return a vector.\n",
      "  warnings.warn('Was asked to gather along dimension 0, but all '\n"
     ]
    },
    {
     "name": "stdout",
     "output_type": "stream",
     "text": [
      "{'loss': 0.0148, 'learning_rate': 1.7513020833333336e-05, 'epoch': 130.0}\n",
      "{'eval_loss': 2.6305313110351562, 'eval_bleu': 0.5677554514175666, 'eval_acc': 0.7654867256637168, 'eval_f1': 0.4610896052011216, 'eval_runtime': 3.5654, 'eval_samples_per_second': 63.387, 'eval_steps_per_second': 2.244, 'epoch': 130.0}\n"
     ]
    },
    {
     "name": "stderr",
     "output_type": "stream",
     "text": [
      "/usr/local/lib/python3.10/dist-packages/torch/nn/parallel/_functions.py:68: UserWarning: Was asked to gather along dimension 0, but all input tensors were scalars; will instead unsqueeze and return a vector.\n",
      "  warnings.warn('Was asked to gather along dimension 0, but all '\n"
     ]
    },
    {
     "name": "stdout",
     "output_type": "stream",
     "text": [
      "{'loss': 0.015, 'learning_rate': 1.7263020833333336e-05, 'epoch': 131.0}\n",
      "{'eval_loss': 2.6209874153137207, 'eval_bleu': 0.5472158918161214, 'eval_acc': 0.7566371681415929, 'eval_f1': 0.44966715809130664, 'eval_runtime': 7.14, 'eval_samples_per_second': 31.653, 'eval_steps_per_second': 1.12, 'epoch': 131.0}\n"
     ]
    },
    {
     "name": "stderr",
     "output_type": "stream",
     "text": [
      "/usr/local/lib/python3.10/dist-packages/torch/nn/parallel/_functions.py:68: UserWarning: Was asked to gather along dimension 0, but all input tensors were scalars; will instead unsqueeze and return a vector.\n",
      "  warnings.warn('Was asked to gather along dimension 0, but all '\n"
     ]
    },
    {
     "name": "stdout",
     "output_type": "stream",
     "text": [
      "{'loss': 0.0155, 'learning_rate': 1.7013020833333334e-05, 'epoch': 132.0}\n",
      "{'eval_loss': 2.590768814086914, 'eval_bleu': 0.5647869410830235, 'eval_acc': 0.7654867256637168, 'eval_f1': 0.4630755511286485, 'eval_runtime': 2.9266, 'eval_samples_per_second': 77.223, 'eval_steps_per_second': 2.734, 'epoch': 132.0}\n"
     ]
    },
    {
     "name": "stderr",
     "output_type": "stream",
     "text": [
      "/usr/local/lib/python3.10/dist-packages/torch/nn/parallel/_functions.py:68: UserWarning: Was asked to gather along dimension 0, but all input tensors were scalars; will instead unsqueeze and return a vector.\n",
      "  warnings.warn('Was asked to gather along dimension 0, but all '\n"
     ]
    },
    {
     "name": "stdout",
     "output_type": "stream",
     "text": [
      "{'loss': 0.0159, 'learning_rate': 1.6763020833333334e-05, 'epoch': 133.0}\n",
      "{'eval_loss': 2.6451573371887207, 'eval_bleu': 0.5623815694015776, 'eval_acc': 0.7654867256637168, 'eval_f1': 0.46009915976504384, 'eval_runtime': 3.8679, 'eval_samples_per_second': 58.43, 'eval_steps_per_second': 2.068, 'epoch': 133.0}\n"
     ]
    },
    {
     "name": "stderr",
     "output_type": "stream",
     "text": [
      "/usr/local/lib/python3.10/dist-packages/torch/nn/parallel/_functions.py:68: UserWarning: Was asked to gather along dimension 0, but all input tensors were scalars; will instead unsqueeze and return a vector.\n",
      "  warnings.warn('Was asked to gather along dimension 0, but all '\n"
     ]
    },
    {
     "name": "stdout",
     "output_type": "stream",
     "text": [
      "{'loss': 0.0146, 'learning_rate': 1.6513020833333335e-05, 'epoch': 134.0}\n",
      "{'eval_loss': 2.677608013153076, 'eval_bleu': 0.5537325094581763, 'eval_acc': 0.7610619469026548, 'eval_f1': 0.45423050990307623, 'eval_runtime': 7.5874, 'eval_samples_per_second': 29.786, 'eval_steps_per_second': 1.054, 'epoch': 134.0}\n"
     ]
    },
    {
     "name": "stderr",
     "output_type": "stream",
     "text": [
      "/usr/local/lib/python3.10/dist-packages/torch/nn/parallel/_functions.py:68: UserWarning: Was asked to gather along dimension 0, but all input tensors were scalars; will instead unsqueeze and return a vector.\n",
      "  warnings.warn('Was asked to gather along dimension 0, but all '\n"
     ]
    },
    {
     "name": "stdout",
     "output_type": "stream",
     "text": [
      "{'loss': 0.015, 'learning_rate': 1.6263020833333333e-05, 'epoch': 135.0}\n",
      "{'eval_loss': 2.6416878700256348, 'eval_bleu': 0.5416509117365919, 'eval_acc': 0.7566371681415929, 'eval_f1': 0.453350977443609, 'eval_runtime': 5.5991, 'eval_samples_per_second': 40.364, 'eval_steps_per_second': 1.429, 'epoch': 135.0}\n"
     ]
    },
    {
     "name": "stderr",
     "output_type": "stream",
     "text": [
      "/usr/local/lib/python3.10/dist-packages/torch/nn/parallel/_functions.py:68: UserWarning: Was asked to gather along dimension 0, but all input tensors were scalars; will instead unsqueeze and return a vector.\n",
      "  warnings.warn('Was asked to gather along dimension 0, but all '\n"
     ]
    },
    {
     "name": "stdout",
     "output_type": "stream",
     "text": [
      "{'loss': 0.0151, 'learning_rate': 1.6013020833333333e-05, 'epoch': 136.0}\n",
      "{'eval_loss': 2.6422016620635986, 'eval_bleu': 0.546498230086174, 'eval_acc': 0.7566371681415929, 'eval_f1': 0.44445780182105565, 'eval_runtime': 3.0258, 'eval_samples_per_second': 74.69, 'eval_steps_per_second': 2.644, 'epoch': 136.0}\n"
     ]
    },
    {
     "name": "stderr",
     "output_type": "stream",
     "text": [
      "/usr/local/lib/python3.10/dist-packages/torch/nn/parallel/_functions.py:68: UserWarning: Was asked to gather along dimension 0, but all input tensors were scalars; will instead unsqueeze and return a vector.\n",
      "  warnings.warn('Was asked to gather along dimension 0, but all '\n"
     ]
    },
    {
     "name": "stdout",
     "output_type": "stream",
     "text": [
      "{'loss': 0.0153, 'learning_rate': 1.5763020833333334e-05, 'epoch': 137.0}\n",
      "{'eval_loss': 2.679130792617798, 'eval_bleu': 0.5502910048199331, 'eval_acc': 0.7522123893805309, 'eval_f1': 0.45900937382827145, 'eval_runtime': 7.1477, 'eval_samples_per_second': 31.619, 'eval_steps_per_second': 1.119, 'epoch': 137.0}\n"
     ]
    },
    {
     "name": "stderr",
     "output_type": "stream",
     "text": [
      "/usr/local/lib/python3.10/dist-packages/torch/nn/parallel/_functions.py:68: UserWarning: Was asked to gather along dimension 0, but all input tensors were scalars; will instead unsqueeze and return a vector.\n",
      "  warnings.warn('Was asked to gather along dimension 0, but all '\n"
     ]
    },
    {
     "name": "stdout",
     "output_type": "stream",
     "text": [
      "{'loss': 0.0143, 'learning_rate': 1.5513020833333335e-05, 'epoch': 138.0}\n",
      "{'eval_loss': 2.6646978855133057, 'eval_bleu': 0.5564989528024014, 'eval_acc': 0.7566371681415929, 'eval_f1': 0.44895554765701134, 'eval_runtime': 7.2042, 'eval_samples_per_second': 31.37, 'eval_steps_per_second': 1.11, 'epoch': 138.0}\n"
     ]
    },
    {
     "name": "stderr",
     "output_type": "stream",
     "text": [
      "/usr/local/lib/python3.10/dist-packages/torch/nn/parallel/_functions.py:68: UserWarning: Was asked to gather along dimension 0, but all input tensors were scalars; will instead unsqueeze and return a vector.\n",
      "  warnings.warn('Was asked to gather along dimension 0, but all '\n"
     ]
    },
    {
     "name": "stdout",
     "output_type": "stream",
     "text": [
      "{'loss': 0.0149, 'learning_rate': 1.5263020833333332e-05, 'epoch': 139.0}\n",
      "{'eval_loss': 2.660059928894043, 'eval_bleu': 0.5653512629930239, 'eval_acc': 0.7699115044247787, 'eval_f1': 0.4628495575221238, 'eval_runtime': 5.7033, 'eval_samples_per_second': 39.626, 'eval_steps_per_second': 1.403, 'epoch': 139.0}\n"
     ]
    },
    {
     "name": "stderr",
     "output_type": "stream",
     "text": [
      "/usr/local/lib/python3.10/dist-packages/torch/nn/parallel/_functions.py:68: UserWarning: Was asked to gather along dimension 0, but all input tensors were scalars; will instead unsqueeze and return a vector.\n",
      "  warnings.warn('Was asked to gather along dimension 0, but all '\n"
     ]
    },
    {
     "name": "stdout",
     "output_type": "stream",
     "text": [
      "{'loss': 0.0149, 'learning_rate': 1.5013020833333333e-05, 'epoch': 140.0}\n",
      "{'eval_loss': 2.665924310684204, 'eval_bleu': 0.5521267930189655, 'eval_acc': 0.7699115044247787, 'eval_f1': 0.4806694660353197, 'eval_runtime': 16.0816, 'eval_samples_per_second': 14.053, 'eval_steps_per_second': 0.497, 'epoch': 140.0}\n"
     ]
    },
    {
     "name": "stderr",
     "output_type": "stream",
     "text": [
      "/usr/local/lib/python3.10/dist-packages/torch/nn/parallel/_functions.py:68: UserWarning: Was asked to gather along dimension 0, but all input tensors were scalars; will instead unsqueeze and return a vector.\n",
      "  warnings.warn('Was asked to gather along dimension 0, but all '\n"
     ]
    },
    {
     "name": "stdout",
     "output_type": "stream",
     "text": [
      "{'loss': 0.0171, 'learning_rate': 1.4763020833333335e-05, 'epoch': 141.0}\n",
      "{'eval_loss': 2.6821041107177734, 'eval_bleu': 0.5418765617538037, 'eval_acc': 0.7654867256637168, 'eval_f1': 0.47417201411382764, 'eval_runtime': 9.262, 'eval_samples_per_second': 24.401, 'eval_steps_per_second': 0.864, 'epoch': 141.0}\n"
     ]
    },
    {
     "name": "stderr",
     "output_type": "stream",
     "text": [
      "/usr/local/lib/python3.10/dist-packages/torch/nn/parallel/_functions.py:68: UserWarning: Was asked to gather along dimension 0, but all input tensors were scalars; will instead unsqueeze and return a vector.\n",
      "  warnings.warn('Was asked to gather along dimension 0, but all '\n"
     ]
    },
    {
     "name": "stdout",
     "output_type": "stream",
     "text": [
      "{'loss': 0.015, 'learning_rate': 1.4513020833333336e-05, 'epoch': 142.0}\n",
      "{'eval_loss': 2.7029671669006348, 'eval_bleu': 0.5389398244318437, 'eval_acc': 0.7610619469026548, 'eval_f1': 0.45529340568124665, 'eval_runtime': 10.0023, 'eval_samples_per_second': 22.595, 'eval_steps_per_second': 0.8, 'epoch': 142.0}\n"
     ]
    },
    {
     "name": "stderr",
     "output_type": "stream",
     "text": [
      "/usr/local/lib/python3.10/dist-packages/torch/nn/parallel/_functions.py:68: UserWarning: Was asked to gather along dimension 0, but all input tensors were scalars; will instead unsqueeze and return a vector.\n",
      "  warnings.warn('Was asked to gather along dimension 0, but all '\n"
     ]
    },
    {
     "name": "stdout",
     "output_type": "stream",
     "text": [
      "{'loss': 0.0152, 'learning_rate': 1.4263020833333335e-05, 'epoch': 143.0}\n",
      "{'eval_loss': 2.704298734664917, 'eval_bleu': 0.547743088280184, 'eval_acc': 0.7522123893805309, 'eval_f1': 0.4566948684843422, 'eval_runtime': 15.6857, 'eval_samples_per_second': 14.408, 'eval_steps_per_second': 0.51, 'epoch': 143.0}\n"
     ]
    },
    {
     "name": "stderr",
     "output_type": "stream",
     "text": [
      "/usr/local/lib/python3.10/dist-packages/torch/nn/parallel/_functions.py:68: UserWarning: Was asked to gather along dimension 0, but all input tensors were scalars; will instead unsqueeze and return a vector.\n",
      "  warnings.warn('Was asked to gather along dimension 0, but all '\n"
     ]
    },
    {
     "name": "stdout",
     "output_type": "stream",
     "text": [
      "{'loss': 0.0148, 'learning_rate': 1.4013020833333335e-05, 'epoch': 144.0}\n",
      "{'eval_loss': 2.691134214401245, 'eval_bleu': 0.5206230278849284, 'eval_acc': 0.7477876106194691, 'eval_f1': 0.4456123534431365, 'eval_runtime': 23.673, 'eval_samples_per_second': 9.547, 'eval_steps_per_second': 0.338, 'epoch': 144.0}\n"
     ]
    },
    {
     "name": "stderr",
     "output_type": "stream",
     "text": [
      "/usr/local/lib/python3.10/dist-packages/torch/nn/parallel/_functions.py:68: UserWarning: Was asked to gather along dimension 0, but all input tensors were scalars; will instead unsqueeze and return a vector.\n",
      "  warnings.warn('Was asked to gather along dimension 0, but all '\n"
     ]
    },
    {
     "name": "stdout",
     "output_type": "stream",
     "text": [
      "{'loss': 0.0143, 'learning_rate': 1.3763020833333334e-05, 'epoch': 145.0}\n",
      "{'eval_loss': 2.670321464538574, 'eval_bleu': 0.5283085459960166, 'eval_acc': 0.7566371681415929, 'eval_f1': 0.4510546763801931, 'eval_runtime': 8.7848, 'eval_samples_per_second': 25.726, 'eval_steps_per_second': 0.911, 'epoch': 145.0}\n"
     ]
    },
    {
     "name": "stderr",
     "output_type": "stream",
     "text": [
      "/usr/local/lib/python3.10/dist-packages/torch/nn/parallel/_functions.py:68: UserWarning: Was asked to gather along dimension 0, but all input tensors were scalars; will instead unsqueeze and return a vector.\n",
      "  warnings.warn('Was asked to gather along dimension 0, but all '\n"
     ]
    },
    {
     "name": "stdout",
     "output_type": "stream",
     "text": [
      "{'loss': 0.0169, 'learning_rate': 1.3515625000000002e-05, 'epoch': 146.0}\n",
      "{'eval_loss': 2.871896982192993, 'eval_bleu': 0.5361786325830263, 'eval_acc': 0.7433628318584071, 'eval_f1': 0.434505878736648, 'eval_runtime': 10.2145, 'eval_samples_per_second': 22.125, 'eval_steps_per_second': 0.783, 'epoch': 146.0}\n"
     ]
    },
    {
     "name": "stderr",
     "output_type": "stream",
     "text": [
      "/usr/local/lib/python3.10/dist-packages/torch/nn/parallel/_functions.py:68: UserWarning: Was asked to gather along dimension 0, but all input tensors were scalars; will instead unsqueeze and return a vector.\n",
      "  warnings.warn('Was asked to gather along dimension 0, but all '\n"
     ]
    },
    {
     "name": "stdout",
     "output_type": "stream",
     "text": [
      "{'loss': 0.0197, 'learning_rate': 1.3270833333333335e-05, 'epoch': 147.0}\n",
      "{'eval_loss': 2.7539169788360596, 'eval_bleu': 0.5564528945398259, 'eval_acc': 0.7566371681415929, 'eval_f1': 0.4575523958410878, 'eval_runtime': 8.0094, 'eval_samples_per_second': 28.217, 'eval_steps_per_second': 0.999, 'epoch': 147.0}\n"
     ]
    },
    {
     "name": "stderr",
     "output_type": "stream",
     "text": [
      "/usr/local/lib/python3.10/dist-packages/torch/nn/parallel/_functions.py:68: UserWarning: Was asked to gather along dimension 0, but all input tensors were scalars; will instead unsqueeze and return a vector.\n",
      "  warnings.warn('Was asked to gather along dimension 0, but all '\n"
     ]
    },
    {
     "name": "stdout",
     "output_type": "stream",
     "text": [
      "{'loss': 0.015, 'learning_rate': 1.3020833333333334e-05, 'epoch': 148.0}\n",
      "{'eval_loss': 2.7811262607574463, 'eval_bleu': 0.5529771823744478, 'eval_acc': 0.7522123893805309, 'eval_f1': 0.45963080211046553, 'eval_runtime': 8.5397, 'eval_samples_per_second': 26.465, 'eval_steps_per_second': 0.937, 'epoch': 148.0}\n"
     ]
    },
    {
     "name": "stderr",
     "output_type": "stream",
     "text": [
      "/usr/local/lib/python3.10/dist-packages/torch/nn/parallel/_functions.py:68: UserWarning: Was asked to gather along dimension 0, but all input tensors were scalars; will instead unsqueeze and return a vector.\n",
      "  warnings.warn('Was asked to gather along dimension 0, but all '\n"
     ]
    },
    {
     "name": "stdout",
     "output_type": "stream",
     "text": [
      "{'loss': 0.0139, 'learning_rate': 1.2770833333333335e-05, 'epoch': 149.0}\n",
      "{'eval_loss': 2.78849720954895, 'eval_bleu': 0.5442096531552261, 'eval_acc': 0.7477876106194691, 'eval_f1': 0.45175444340117216, 'eval_runtime': 12.2364, 'eval_samples_per_second': 18.469, 'eval_steps_per_second': 0.654, 'epoch': 149.0}\n"
     ]
    },
    {
     "name": "stderr",
     "output_type": "stream",
     "text": [
      "/usr/local/lib/python3.10/dist-packages/torch/nn/parallel/_functions.py:68: UserWarning: Was asked to gather along dimension 0, but all input tensors were scalars; will instead unsqueeze and return a vector.\n",
      "  warnings.warn('Was asked to gather along dimension 0, but all '\n"
     ]
    },
    {
     "name": "stdout",
     "output_type": "stream",
     "text": [
      "{'loss': 0.0143, 'learning_rate': 1.2520833333333334e-05, 'epoch': 150.0}\n",
      "{'eval_loss': 2.7893943786621094, 'eval_bleu': 0.5609833728966948, 'eval_acc': 0.7566371681415929, 'eval_f1': 0.45879458646616533, 'eval_runtime': 8.8585, 'eval_samples_per_second': 25.512, 'eval_steps_per_second': 0.903, 'epoch': 150.0}\n"
     ]
    },
    {
     "name": "stderr",
     "output_type": "stream",
     "text": [
      "/usr/local/lib/python3.10/dist-packages/torch/nn/parallel/_functions.py:68: UserWarning: Was asked to gather along dimension 0, but all input tensors were scalars; will instead unsqueeze and return a vector.\n",
      "  warnings.warn('Was asked to gather along dimension 0, but all '\n"
     ]
    },
    {
     "name": "stdout",
     "output_type": "stream",
     "text": [
      "{'loss': 0.0144, 'learning_rate': 1.2270833333333335e-05, 'epoch': 151.0}\n",
      "{'eval_loss': 2.784269332885742, 'eval_bleu': 0.551531478026431, 'eval_acc': 0.7522123893805309, 'eval_f1': 0.45095665065874474, 'eval_runtime': 8.9043, 'eval_samples_per_second': 25.381, 'eval_steps_per_second': 0.898, 'epoch': 151.0}\n"
     ]
    },
    {
     "name": "stderr",
     "output_type": "stream",
     "text": [
      "/usr/local/lib/python3.10/dist-packages/torch/nn/parallel/_functions.py:68: UserWarning: Was asked to gather along dimension 0, but all input tensors were scalars; will instead unsqueeze and return a vector.\n",
      "  warnings.warn('Was asked to gather along dimension 0, but all '\n"
     ]
    },
    {
     "name": "stdout",
     "output_type": "stream",
     "text": [
      "{'loss': 0.0139, 'learning_rate': 1.2020833333333334e-05, 'epoch': 152.0}\n",
      "{'eval_loss': 2.759983777999878, 'eval_bleu': 0.5551926082237636, 'eval_acc': 0.7522123893805309, 'eval_f1': 0.45780454650019864, 'eval_runtime': 5.8204, 'eval_samples_per_second': 38.829, 'eval_steps_per_second': 1.374, 'epoch': 152.0}\n"
     ]
    },
    {
     "name": "stderr",
     "output_type": "stream",
     "text": [
      "/usr/local/lib/python3.10/dist-packages/torch/nn/parallel/_functions.py:68: UserWarning: Was asked to gather along dimension 0, but all input tensors were scalars; will instead unsqueeze and return a vector.\n",
      "  warnings.warn('Was asked to gather along dimension 0, but all '\n"
     ]
    },
    {
     "name": "stdout",
     "output_type": "stream",
     "text": [
      "{'loss': 0.0145, 'learning_rate': 1.1770833333333334e-05, 'epoch': 153.0}\n",
      "{'eval_loss': 2.7844178676605225, 'eval_bleu': 0.5581229972771468, 'eval_acc': 0.7566371681415929, 'eval_f1': 0.45989316770186334, 'eval_runtime': 3.4058, 'eval_samples_per_second': 66.356, 'eval_steps_per_second': 2.349, 'epoch': 153.0}\n"
     ]
    },
    {
     "name": "stderr",
     "output_type": "stream",
     "text": [
      "/usr/local/lib/python3.10/dist-packages/torch/nn/parallel/_functions.py:68: UserWarning: Was asked to gather along dimension 0, but all input tensors were scalars; will instead unsqueeze and return a vector.\n",
      "  warnings.warn('Was asked to gather along dimension 0, but all '\n"
     ]
    },
    {
     "name": "stdout",
     "output_type": "stream",
     "text": [
      "{'loss': 0.0138, 'learning_rate': 1.1520833333333333e-05, 'epoch': 154.0}\n",
      "{'eval_loss': 2.810696601867676, 'eval_bleu': 0.5332920721192436, 'eval_acc': 0.7433628318584071, 'eval_f1': 0.4533032918997832, 'eval_runtime': 2.6206, 'eval_samples_per_second': 86.241, 'eval_steps_per_second': 3.053, 'epoch': 154.0}\n"
     ]
    },
    {
     "name": "stderr",
     "output_type": "stream",
     "text": [
      "/usr/local/lib/python3.10/dist-packages/torch/nn/parallel/_functions.py:68: UserWarning: Was asked to gather along dimension 0, but all input tensors were scalars; will instead unsqueeze and return a vector.\n",
      "  warnings.warn('Was asked to gather along dimension 0, but all '\n"
     ]
    },
    {
     "name": "stdout",
     "output_type": "stream",
     "text": [
      "{'loss': 0.0153, 'learning_rate': 1.1270833333333334e-05, 'epoch': 155.0}\n",
      "{'eval_loss': 2.8044633865356445, 'eval_bleu': 0.5387475138238809, 'eval_acc': 0.7389380530973452, 'eval_f1': 0.4425061988932799, 'eval_runtime': 8.569, 'eval_samples_per_second': 26.374, 'eval_steps_per_second': 0.934, 'epoch': 155.0}\n"
     ]
    },
    {
     "name": "stderr",
     "output_type": "stream",
     "text": [
      "/usr/local/lib/python3.10/dist-packages/torch/nn/parallel/_functions.py:68: UserWarning: Was asked to gather along dimension 0, but all input tensors were scalars; will instead unsqueeze and return a vector.\n",
      "  warnings.warn('Was asked to gather along dimension 0, but all '\n"
     ]
    },
    {
     "name": "stdout",
     "output_type": "stream",
     "text": [
      "{'loss': 0.0135, 'learning_rate': 1.1020833333333335e-05, 'epoch': 156.0}\n",
      "{'eval_loss': 2.794703722000122, 'eval_bleu': 0.555914107612316, 'eval_acc': 0.7566371681415929, 'eval_f1': 0.4602974687771322, 'eval_runtime': 7.0392, 'eval_samples_per_second': 32.106, 'eval_steps_per_second': 1.136, 'epoch': 156.0}\n"
     ]
    },
    {
     "name": "stderr",
     "output_type": "stream",
     "text": [
      "/usr/local/lib/python3.10/dist-packages/torch/nn/parallel/_functions.py:68: UserWarning: Was asked to gather along dimension 0, but all input tensors were scalars; will instead unsqueeze and return a vector.\n",
      "  warnings.warn('Was asked to gather along dimension 0, but all '\n"
     ]
    },
    {
     "name": "stdout",
     "output_type": "stream",
     "text": [
      "{'loss': 0.0145, 'learning_rate': 1.0770833333333334e-05, 'epoch': 157.0}\n",
      "{'eval_loss': 2.804248332977295, 'eval_bleu': 0.5582954941832667, 'eval_acc': 0.7610619469026548, 'eval_f1': 0.4591352076574953, 'eval_runtime': 9.0485, 'eval_samples_per_second': 24.976, 'eval_steps_per_second': 0.884, 'epoch': 157.0}\n"
     ]
    },
    {
     "name": "stderr",
     "output_type": "stream",
     "text": [
      "/usr/local/lib/python3.10/dist-packages/torch/nn/parallel/_functions.py:68: UserWarning: Was asked to gather along dimension 0, but all input tensors were scalars; will instead unsqueeze and return a vector.\n",
      "  warnings.warn('Was asked to gather along dimension 0, but all '\n"
     ]
    },
    {
     "name": "stdout",
     "output_type": "stream",
     "text": [
      "{'loss': 0.0151, 'learning_rate': 1.0520833333333334e-05, 'epoch': 158.0}\n",
      "{'eval_loss': 2.8177874088287354, 'eval_bleu': 0.5460146850769503, 'eval_acc': 0.7522123893805309, 'eval_f1': 0.4614313169622905, 'eval_runtime': 17.0525, 'eval_samples_per_second': 13.253, 'eval_steps_per_second': 0.469, 'epoch': 158.0}\n"
     ]
    },
    {
     "name": "stderr",
     "output_type": "stream",
     "text": [
      "/usr/local/lib/python3.10/dist-packages/torch/nn/parallel/_functions.py:68: UserWarning: Was asked to gather along dimension 0, but all input tensors were scalars; will instead unsqueeze and return a vector.\n",
      "  warnings.warn('Was asked to gather along dimension 0, but all '\n"
     ]
    },
    {
     "name": "stdout",
     "output_type": "stream",
     "text": [
      "{'loss': 0.0145, 'learning_rate': 1.0270833333333333e-05, 'epoch': 159.0}\n",
      "{'eval_loss': 2.808116912841797, 'eval_bleu': 0.5455082378276706, 'eval_acc': 0.7522123893805309, 'eval_f1': 0.47690631044911, 'eval_runtime': 8.846, 'eval_samples_per_second': 25.548, 'eval_steps_per_second': 0.904, 'epoch': 159.0}\n"
     ]
    },
    {
     "name": "stderr",
     "output_type": "stream",
     "text": [
      "/usr/local/lib/python3.10/dist-packages/torch/nn/parallel/_functions.py:68: UserWarning: Was asked to gather along dimension 0, but all input tensors were scalars; will instead unsqueeze and return a vector.\n",
      "  warnings.warn('Was asked to gather along dimension 0, but all '\n"
     ]
    },
    {
     "name": "stdout",
     "output_type": "stream",
     "text": [
      "{'loss': 0.0142, 'learning_rate': 1.0020833333333334e-05, 'epoch': 160.0}\n",
      "{'eval_loss': 2.798781394958496, 'eval_bleu': 0.5475344471345879, 'eval_acc': 0.7566371681415929, 'eval_f1': 0.4755255141220054, 'eval_runtime': 9.3198, 'eval_samples_per_second': 24.249, 'eval_steps_per_second': 0.858, 'epoch': 160.0}\n"
     ]
    },
    {
     "name": "stderr",
     "output_type": "stream",
     "text": [
      "/usr/local/lib/python3.10/dist-packages/torch/nn/parallel/_functions.py:68: UserWarning: Was asked to gather along dimension 0, but all input tensors were scalars; will instead unsqueeze and return a vector.\n",
      "  warnings.warn('Was asked to gather along dimension 0, but all '\n"
     ]
    },
    {
     "name": "stdout",
     "output_type": "stream",
     "text": [
      "{'loss': 0.0153, 'learning_rate': 9.770833333333333e-06, 'epoch': 161.0}\n",
      "{'eval_loss': 2.810023307800293, 'eval_bleu': 0.5319463834969917, 'eval_acc': 0.7477876106194691, 'eval_f1': 0.4573681842401279, 'eval_runtime': 3.3135, 'eval_samples_per_second': 68.207, 'eval_steps_per_second': 2.414, 'epoch': 161.0}\n"
     ]
    },
    {
     "name": "stderr",
     "output_type": "stream",
     "text": [
      "/usr/local/lib/python3.10/dist-packages/torch/nn/parallel/_functions.py:68: UserWarning: Was asked to gather along dimension 0, but all input tensors were scalars; will instead unsqueeze and return a vector.\n",
      "  warnings.warn('Was asked to gather along dimension 0, but all '\n"
     ]
    },
    {
     "name": "stdout",
     "output_type": "stream",
     "text": [
      "{'loss': 0.013, 'learning_rate': 9.520833333333334e-06, 'epoch': 162.0}\n",
      "{'eval_loss': 2.7401230335235596, 'eval_bleu': 0.5603225970722776, 'eval_acc': 0.7654867256637168, 'eval_f1': 0.4679386620054028, 'eval_runtime': 1.9085, 'eval_samples_per_second': 118.418, 'eval_steps_per_second': 4.192, 'epoch': 162.0}\n"
     ]
    },
    {
     "name": "stderr",
     "output_type": "stream",
     "text": [
      "/usr/local/lib/python3.10/dist-packages/torch/nn/parallel/_functions.py:68: UserWarning: Was asked to gather along dimension 0, but all input tensors were scalars; will instead unsqueeze and return a vector.\n",
      "  warnings.warn('Was asked to gather along dimension 0, but all '\n"
     ]
    },
    {
     "name": "stdout",
     "output_type": "stream",
     "text": [
      "{'loss': 0.0167, 'learning_rate': 9.270833333333334e-06, 'epoch': 163.0}\n",
      "{'eval_loss': 2.719045400619507, 'eval_bleu': 0.5630570985899755, 'eval_acc': 0.7654867256637168, 'eval_f1': 0.45992276609892074, 'eval_runtime': 13.8789, 'eval_samples_per_second': 16.284, 'eval_steps_per_second': 0.576, 'epoch': 163.0}\n"
     ]
    },
    {
     "name": "stderr",
     "output_type": "stream",
     "text": [
      "/usr/local/lib/python3.10/dist-packages/torch/nn/parallel/_functions.py:68: UserWarning: Was asked to gather along dimension 0, but all input tensors were scalars; will instead unsqueeze and return a vector.\n",
      "  warnings.warn('Was asked to gather along dimension 0, but all '\n"
     ]
    },
    {
     "name": "stdout",
     "output_type": "stream",
     "text": [
      "{'loss': 0.0135, 'learning_rate': 9.020833333333334e-06, 'epoch': 164.0}\n",
      "{'eval_loss': 2.7204549312591553, 'eval_bleu': 0.5620406148346347, 'eval_acc': 0.7654867256637168, 'eval_f1': 0.46523164927109345, 'eval_runtime': 9.2093, 'eval_samples_per_second': 24.54, 'eval_steps_per_second': 0.869, 'epoch': 164.0}\n"
     ]
    },
    {
     "name": "stderr",
     "output_type": "stream",
     "text": [
      "/usr/local/lib/python3.10/dist-packages/torch/nn/parallel/_functions.py:68: UserWarning: Was asked to gather along dimension 0, but all input tensors were scalars; will instead unsqueeze and return a vector.\n",
      "  warnings.warn('Was asked to gather along dimension 0, but all '\n"
     ]
    },
    {
     "name": "stdout",
     "output_type": "stream",
     "text": [
      "{'loss': 0.0139, 'learning_rate': 8.770833333333334e-06, 'epoch': 165.0}\n",
      "{'eval_loss': 2.7291178703308105, 'eval_bleu': 0.5484510662255702, 'eval_acc': 0.7566371681415929, 'eval_f1': 0.45958818296109166, 'eval_runtime': 9.0616, 'eval_samples_per_second': 24.94, 'eval_steps_per_second': 0.883, 'epoch': 165.0}\n"
     ]
    },
    {
     "name": "stderr",
     "output_type": "stream",
     "text": [
      "/usr/local/lib/python3.10/dist-packages/torch/nn/parallel/_functions.py:68: UserWarning: Was asked to gather along dimension 0, but all input tensors were scalars; will instead unsqueeze and return a vector.\n",
      "  warnings.warn('Was asked to gather along dimension 0, but all '\n"
     ]
    },
    {
     "name": "stdout",
     "output_type": "stream",
     "text": [
      "{'loss': 0.0154, 'learning_rate': 8.520833333333333e-06, 'epoch': 166.0}\n",
      "{'eval_loss': 2.7731053829193115, 'eval_bleu': 0.5434959340418406, 'eval_acc': 0.7477876106194691, 'eval_f1': 0.45428353468441734, 'eval_runtime': 6.4279, 'eval_samples_per_second': 35.159, 'eval_steps_per_second': 1.245, 'epoch': 166.0}\n"
     ]
    },
    {
     "name": "stderr",
     "output_type": "stream",
     "text": [
      "/usr/local/lib/python3.10/dist-packages/torch/nn/parallel/_functions.py:68: UserWarning: Was asked to gather along dimension 0, but all input tensors were scalars; will instead unsqueeze and return a vector.\n",
      "  warnings.warn('Was asked to gather along dimension 0, but all '\n"
     ]
    },
    {
     "name": "stdout",
     "output_type": "stream",
     "text": [
      "{'loss': 0.0162, 'learning_rate': 8.270833333333334e-06, 'epoch': 167.0}\n",
      "{'eval_loss': 2.7522544860839844, 'eval_bleu': 0.5240483908733774, 'eval_acc': 0.7389380530973452, 'eval_f1': 0.46061567484136506, 'eval_runtime': 4.0707, 'eval_samples_per_second': 55.518, 'eval_steps_per_second': 1.965, 'epoch': 167.0}\n"
     ]
    },
    {
     "name": "stderr",
     "output_type": "stream",
     "text": [
      "/usr/local/lib/python3.10/dist-packages/torch/nn/parallel/_functions.py:68: UserWarning: Was asked to gather along dimension 0, but all input tensors were scalars; will instead unsqueeze and return a vector.\n",
      "  warnings.warn('Was asked to gather along dimension 0, but all '\n"
     ]
    },
    {
     "name": "stdout",
     "output_type": "stream",
     "text": [
      "{'loss': 0.0135, 'learning_rate': 8.020833333333335e-06, 'epoch': 168.0}\n",
      "{'eval_loss': 2.759749412536621, 'eval_bleu': 0.5457818490192835, 'eval_acc': 0.7477876106194691, 'eval_f1': 0.4541908919769656, 'eval_runtime': 7.6856, 'eval_samples_per_second': 29.406, 'eval_steps_per_second': 1.041, 'epoch': 168.0}\n"
     ]
    },
    {
     "name": "stderr",
     "output_type": "stream",
     "text": [
      "/usr/local/lib/python3.10/dist-packages/torch/nn/parallel/_functions.py:68: UserWarning: Was asked to gather along dimension 0, but all input tensors were scalars; will instead unsqueeze and return a vector.\n",
      "  warnings.warn('Was asked to gather along dimension 0, but all '\n"
     ]
    },
    {
     "name": "stdout",
     "output_type": "stream",
     "text": [
      "{'loss': 0.0128, 'learning_rate': 7.770833333333334e-06, 'epoch': 169.0}\n",
      "{'eval_loss': 2.7613563537597656, 'eval_bleu': 0.5373299889711278, 'eval_acc': 0.7477876106194691, 'eval_f1': 0.4552910019879667, 'eval_runtime': 5.5855, 'eval_samples_per_second': 40.462, 'eval_steps_per_second': 1.432, 'epoch': 169.0}\n"
     ]
    },
    {
     "name": "stderr",
     "output_type": "stream",
     "text": [
      "/usr/local/lib/python3.10/dist-packages/torch/nn/parallel/_functions.py:68: UserWarning: Was asked to gather along dimension 0, but all input tensors were scalars; will instead unsqueeze and return a vector.\n",
      "  warnings.warn('Was asked to gather along dimension 0, but all '\n"
     ]
    },
    {
     "name": "stdout",
     "output_type": "stream",
     "text": [
      "{'loss': 0.0141, 'learning_rate': 7.520833333333334e-06, 'epoch': 170.0}\n",
      "{'eval_loss': 2.7575466632843018, 'eval_bleu': 0.5276152982114602, 'eval_acc': 0.7477876106194691, 'eval_f1': 0.45208194901803855, 'eval_runtime': 7.616, 'eval_samples_per_second': 29.674, 'eval_steps_per_second': 1.05, 'epoch': 170.0}\n"
     ]
    },
    {
     "name": "stderr",
     "output_type": "stream",
     "text": [
      "/usr/local/lib/python3.10/dist-packages/torch/nn/parallel/_functions.py:68: UserWarning: Was asked to gather along dimension 0, but all input tensors were scalars; will instead unsqueeze and return a vector.\n",
      "  warnings.warn('Was asked to gather along dimension 0, but all '\n"
     ]
    },
    {
     "name": "stdout",
     "output_type": "stream",
     "text": [
      "{'loss': 0.0129, 'learning_rate': 7.270833333333333e-06, 'epoch': 171.0}\n",
      "{'eval_loss': 2.7540390491485596, 'eval_bleu': 0.541851985181105, 'eval_acc': 0.7522123893805309, 'eval_f1': 0.4633681927205897, 'eval_runtime': 7.4167, 'eval_samples_per_second': 30.472, 'eval_steps_per_second': 1.079, 'epoch': 171.0}\n"
     ]
    },
    {
     "name": "stderr",
     "output_type": "stream",
     "text": [
      "/usr/local/lib/python3.10/dist-packages/torch/nn/parallel/_functions.py:68: UserWarning: Was asked to gather along dimension 0, but all input tensors were scalars; will instead unsqueeze and return a vector.\n",
      "  warnings.warn('Was asked to gather along dimension 0, but all '\n"
     ]
    },
    {
     "name": "stdout",
     "output_type": "stream",
     "text": [
      "{'loss': 0.0138, 'learning_rate': 7.020833333333333e-06, 'epoch': 172.0}\n",
      "{'eval_loss': 2.775709867477417, 'eval_bleu': 0.5393876700506106, 'eval_acc': 0.7477876106194691, 'eval_f1': 0.45713617845455146, 'eval_runtime': 2.9185, 'eval_samples_per_second': 77.438, 'eval_steps_per_second': 2.741, 'epoch': 172.0}\n"
     ]
    },
    {
     "name": "stderr",
     "output_type": "stream",
     "text": [
      "/usr/local/lib/python3.10/dist-packages/torch/nn/parallel/_functions.py:68: UserWarning: Was asked to gather along dimension 0, but all input tensors were scalars; will instead unsqueeze and return a vector.\n",
      "  warnings.warn('Was asked to gather along dimension 0, but all '\n"
     ]
    },
    {
     "name": "stdout",
     "output_type": "stream",
     "text": [
      "{'loss': 0.014, 'learning_rate': 6.770833333333333e-06, 'epoch': 173.0}\n",
      "{'eval_loss': 2.760650873184204, 'eval_bleu': 0.560638620635561, 'eval_acc': 0.7610619469026548, 'eval_f1': 0.47823780636642577, 'eval_runtime': 1.9499, 'eval_samples_per_second': 115.902, 'eval_steps_per_second': 4.103, 'epoch': 173.0}\n"
     ]
    },
    {
     "name": "stderr",
     "output_type": "stream",
     "text": [
      "/usr/local/lib/python3.10/dist-packages/torch/nn/parallel/_functions.py:68: UserWarning: Was asked to gather along dimension 0, but all input tensors were scalars; will instead unsqueeze and return a vector.\n",
      "  warnings.warn('Was asked to gather along dimension 0, but all '\n"
     ]
    },
    {
     "name": "stdout",
     "output_type": "stream",
     "text": [
      "{'loss': 0.0142, 'learning_rate': 6.520833333333333e-06, 'epoch': 174.0}\n",
      "{'eval_loss': 2.7637555599212646, 'eval_bleu': 0.5531986220731757, 'eval_acc': 0.7522123893805309, 'eval_f1': 0.4651207189776615, 'eval_runtime': 3.7604, 'eval_samples_per_second': 60.099, 'eval_steps_per_second': 2.127, 'epoch': 174.0}\n"
     ]
    },
    {
     "name": "stderr",
     "output_type": "stream",
     "text": [
      "/usr/local/lib/python3.10/dist-packages/torch/nn/parallel/_functions.py:68: UserWarning: Was asked to gather along dimension 0, but all input tensors were scalars; will instead unsqueeze and return a vector.\n",
      "  warnings.warn('Was asked to gather along dimension 0, but all '\n"
     ]
    },
    {
     "name": "stdout",
     "output_type": "stream",
     "text": [
      "{'loss': 0.0127, 'learning_rate': 6.270833333333334e-06, 'epoch': 175.0}\n",
      "{'eval_loss': 2.755596876144409, 'eval_bleu': 0.5522685726044235, 'eval_acc': 0.7610619469026548, 'eval_f1': 0.47154270031120593, 'eval_runtime': 6.977, 'eval_samples_per_second': 32.392, 'eval_steps_per_second': 1.147, 'epoch': 175.0}\n"
     ]
    },
    {
     "name": "stderr",
     "output_type": "stream",
     "text": [
      "/usr/local/lib/python3.10/dist-packages/torch/nn/parallel/_functions.py:68: UserWarning: Was asked to gather along dimension 0, but all input tensors were scalars; will instead unsqueeze and return a vector.\n",
      "  warnings.warn('Was asked to gather along dimension 0, but all '\n"
     ]
    },
    {
     "name": "stdout",
     "output_type": "stream",
     "text": [
      "{'loss': 0.0133, 'learning_rate': 6.020833333333334e-06, 'epoch': 176.0}\n",
      "{'eval_loss': 2.7667160034179688, 'eval_bleu': 0.5648277069809948, 'eval_acc': 0.7610619469026548, 'eval_f1': 0.4715362288883721, 'eval_runtime': 8.7858, 'eval_samples_per_second': 25.723, 'eval_steps_per_second': 0.911, 'epoch': 176.0}\n"
     ]
    },
    {
     "name": "stderr",
     "output_type": "stream",
     "text": [
      "/usr/local/lib/python3.10/dist-packages/torch/nn/parallel/_functions.py:68: UserWarning: Was asked to gather along dimension 0, but all input tensors were scalars; will instead unsqueeze and return a vector.\n",
      "  warnings.warn('Was asked to gather along dimension 0, but all '\n"
     ]
    },
    {
     "name": "stdout",
     "output_type": "stream",
     "text": [
      "{'loss': 0.0138, 'learning_rate': 5.770833333333333e-06, 'epoch': 177.0}\n",
      "{'eval_loss': 2.780686616897583, 'eval_bleu': 0.5480382311071561, 'eval_acc': 0.7522123893805309, 'eval_f1': 0.4618449505406027, 'eval_runtime': 2.4886, 'eval_samples_per_second': 90.813, 'eval_steps_per_second': 3.215, 'epoch': 177.0}\n"
     ]
    },
    {
     "name": "stderr",
     "output_type": "stream",
     "text": [
      "/usr/local/lib/python3.10/dist-packages/torch/nn/parallel/_functions.py:68: UserWarning: Was asked to gather along dimension 0, but all input tensors were scalars; will instead unsqueeze and return a vector.\n",
      "  warnings.warn('Was asked to gather along dimension 0, but all '\n"
     ]
    },
    {
     "name": "stdout",
     "output_type": "stream",
     "text": [
      "{'loss': 0.0132, 'learning_rate': 5.520833333333333e-06, 'epoch': 178.0}\n",
      "{'eval_loss': 2.794283151626587, 'eval_bleu': 0.5480382311071561, 'eval_acc': 0.7522123893805309, 'eval_f1': 0.4618449505406027, 'eval_runtime': 1.9725, 'eval_samples_per_second': 114.573, 'eval_steps_per_second': 4.056, 'epoch': 178.0}\n"
     ]
    },
    {
     "name": "stderr",
     "output_type": "stream",
     "text": [
      "/usr/local/lib/python3.10/dist-packages/torch/nn/parallel/_functions.py:68: UserWarning: Was asked to gather along dimension 0, but all input tensors were scalars; will instead unsqueeze and return a vector.\n",
      "  warnings.warn('Was asked to gather along dimension 0, but all '\n"
     ]
    },
    {
     "name": "stdout",
     "output_type": "stream",
     "text": [
      "{'loss': 0.0141, 'learning_rate': 5.270833333333334e-06, 'epoch': 179.0}\n",
      "{'eval_loss': 2.786283493041992, 'eval_bleu': 0.5529419754737903, 'eval_acc': 0.7566371681415929, 'eval_f1': 0.4607234753550543, 'eval_runtime': 5.567, 'eval_samples_per_second': 40.596, 'eval_steps_per_second': 1.437, 'epoch': 179.0}\n"
     ]
    },
    {
     "name": "stderr",
     "output_type": "stream",
     "text": [
      "/usr/local/lib/python3.10/dist-packages/torch/nn/parallel/_functions.py:68: UserWarning: Was asked to gather along dimension 0, but all input tensors were scalars; will instead unsqueeze and return a vector.\n",
      "  warnings.warn('Was asked to gather along dimension 0, but all '\n"
     ]
    },
    {
     "name": "stdout",
     "output_type": "stream",
     "text": [
      "{'loss': 0.0136, 'learning_rate': 5.020833333333334e-06, 'epoch': 180.0}\n",
      "{'eval_loss': 2.7864089012145996, 'eval_bleu': 0.5480382311071561, 'eval_acc': 0.7522123893805309, 'eval_f1': 0.4618449505406027, 'eval_runtime': 8.806, 'eval_samples_per_second': 25.664, 'eval_steps_per_second': 0.908, 'epoch': 180.0}\n"
     ]
    },
    {
     "name": "stderr",
     "output_type": "stream",
     "text": [
      "/usr/local/lib/python3.10/dist-packages/torch/nn/parallel/_functions.py:68: UserWarning: Was asked to gather along dimension 0, but all input tensors were scalars; will instead unsqueeze and return a vector.\n",
      "  warnings.warn('Was asked to gather along dimension 0, but all '\n"
     ]
    },
    {
     "name": "stdout",
     "output_type": "stream",
     "text": [
      "{'loss': 0.0127, 'learning_rate': 4.7708333333333335e-06, 'epoch': 181.0}\n",
      "{'eval_loss': 2.793191909790039, 'eval_bleu': 0.5568143763225171, 'eval_acc': 0.7566371681415929, 'eval_f1': 0.46995901466176526, 'eval_runtime': 5.6287, 'eval_samples_per_second': 40.151, 'eval_steps_per_second': 1.421, 'epoch': 181.0}\n"
     ]
    },
    {
     "name": "stderr",
     "output_type": "stream",
     "text": [
      "/usr/local/lib/python3.10/dist-packages/torch/nn/parallel/_functions.py:68: UserWarning: Was asked to gather along dimension 0, but all input tensors were scalars; will instead unsqueeze and return a vector.\n",
      "  warnings.warn('Was asked to gather along dimension 0, but all '\n"
     ]
    },
    {
     "name": "stdout",
     "output_type": "stream",
     "text": [
      "{'loss': 0.0131, 'learning_rate': 4.520833333333334e-06, 'epoch': 182.0}\n",
      "{'eval_loss': 2.8130905628204346, 'eval_bleu': 0.5568143763225171, 'eval_acc': 0.7566371681415929, 'eval_f1': 0.47238855790763506, 'eval_runtime': 6.6434, 'eval_samples_per_second': 34.019, 'eval_steps_per_second': 1.204, 'epoch': 182.0}\n"
     ]
    },
    {
     "name": "stderr",
     "output_type": "stream",
     "text": [
      "/usr/local/lib/python3.10/dist-packages/torch/nn/parallel/_functions.py:68: UserWarning: Was asked to gather along dimension 0, but all input tensors were scalars; will instead unsqueeze and return a vector.\n",
      "  warnings.warn('Was asked to gather along dimension 0, but all '\n"
     ]
    },
    {
     "name": "stdout",
     "output_type": "stream",
     "text": [
      "{'loss': 0.0133, 'learning_rate': 4.270833333333333e-06, 'epoch': 183.0}\n",
      "{'eval_loss': 2.8062491416931152, 'eval_bleu': 0.5430342554480058, 'eval_acc': 0.7522123893805309, 'eval_f1': 0.4669463810368868, 'eval_runtime': 15.0349, 'eval_samples_per_second': 15.032, 'eval_steps_per_second': 0.532, 'epoch': 183.0}\n"
     ]
    },
    {
     "name": "stderr",
     "output_type": "stream",
     "text": [
      "/usr/local/lib/python3.10/dist-packages/torch/nn/parallel/_functions.py:68: UserWarning: Was asked to gather along dimension 0, but all input tensors were scalars; will instead unsqueeze and return a vector.\n",
      "  warnings.warn('Was asked to gather along dimension 0, but all '\n"
     ]
    },
    {
     "name": "stdout",
     "output_type": "stream",
     "text": [
      "{'loss': 0.013, 'learning_rate': 4.020833333333333e-06, 'epoch': 184.0}\n",
      "{'eval_loss': 2.8077375888824463, 'eval_bleu': 0.5568143763225171, 'eval_acc': 0.7566371681415929, 'eval_f1': 0.47274209728714434, 'eval_runtime': 8.3096, 'eval_samples_per_second': 27.197, 'eval_steps_per_second': 0.963, 'epoch': 184.0}\n"
     ]
    },
    {
     "name": "stderr",
     "output_type": "stream",
     "text": [
      "/usr/local/lib/python3.10/dist-packages/torch/nn/parallel/_functions.py:68: UserWarning: Was asked to gather along dimension 0, but all input tensors were scalars; will instead unsqueeze and return a vector.\n",
      "  warnings.warn('Was asked to gather along dimension 0, but all '\n"
     ]
    },
    {
     "name": "stdout",
     "output_type": "stream",
     "text": [
      "{'loss': 0.0136, 'learning_rate': 3.770833333333334e-06, 'epoch': 185.0}\n",
      "{'eval_loss': 2.8070013523101807, 'eval_bleu': 0.5568143763225171, 'eval_acc': 0.7566371681415929, 'eval_f1': 0.46995901466176526, 'eval_runtime': 12.5693, 'eval_samples_per_second': 17.98, 'eval_steps_per_second': 0.636, 'epoch': 185.0}\n"
     ]
    },
    {
     "name": "stderr",
     "output_type": "stream",
     "text": [
      "/usr/local/lib/python3.10/dist-packages/torch/nn/parallel/_functions.py:68: UserWarning: Was asked to gather along dimension 0, but all input tensors were scalars; will instead unsqueeze and return a vector.\n",
      "  warnings.warn('Was asked to gather along dimension 0, but all '\n"
     ]
    },
    {
     "name": "stdout",
     "output_type": "stream",
     "text": [
      "{'loss': 0.0127, 'learning_rate': 3.5208333333333336e-06, 'epoch': 186.0}\n",
      "{'eval_loss': 2.8004000186920166, 'eval_bleu': 0.5568143763225171, 'eval_acc': 0.7566371681415929, 'eval_f1': 0.47274209728714434, 'eval_runtime': 2.4613, 'eval_samples_per_second': 91.823, 'eval_steps_per_second': 3.25, 'epoch': 186.0}\n"
     ]
    },
    {
     "name": "stderr",
     "output_type": "stream",
     "text": [
      "/usr/local/lib/python3.10/dist-packages/torch/nn/parallel/_functions.py:68: UserWarning: Was asked to gather along dimension 0, but all input tensors were scalars; will instead unsqueeze and return a vector.\n",
      "  warnings.warn('Was asked to gather along dimension 0, but all '\n"
     ]
    },
    {
     "name": "stdout",
     "output_type": "stream",
     "text": [
      "{'loss': 0.0127, 'learning_rate': 3.2708333333333335e-06, 'epoch': 187.0}\n",
      "{'eval_loss': 2.8016269207000732, 'eval_bleu': 0.5568143763225171, 'eval_acc': 0.7566371681415929, 'eval_f1': 0.4713195588794524, 'eval_runtime': 2.9586, 'eval_samples_per_second': 76.387, 'eval_steps_per_second': 2.704, 'epoch': 187.0}\n"
     ]
    },
    {
     "name": "stderr",
     "output_type": "stream",
     "text": [
      "/usr/local/lib/python3.10/dist-packages/torch/nn/parallel/_functions.py:68: UserWarning: Was asked to gather along dimension 0, but all input tensors were scalars; will instead unsqueeze and return a vector.\n",
      "  warnings.warn('Was asked to gather along dimension 0, but all '\n"
     ]
    },
    {
     "name": "stdout",
     "output_type": "stream",
     "text": [
      "{'loss': 0.0128, 'learning_rate': 3.0208333333333334e-06, 'epoch': 188.0}\n",
      "{'eval_loss': 2.8089048862457275, 'eval_bleu': 0.5568143763225171, 'eval_acc': 0.7566371681415929, 'eval_f1': 0.46995901466176526, 'eval_runtime': 2.6455, 'eval_samples_per_second': 85.428, 'eval_steps_per_second': 3.024, 'epoch': 188.0}\n"
     ]
    },
    {
     "name": "stderr",
     "output_type": "stream",
     "text": [
      "/usr/local/lib/python3.10/dist-packages/torch/nn/parallel/_functions.py:68: UserWarning: Was asked to gather along dimension 0, but all input tensors were scalars; will instead unsqueeze and return a vector.\n",
      "  warnings.warn('Was asked to gather along dimension 0, but all '\n"
     ]
    },
    {
     "name": "stdout",
     "output_type": "stream",
     "text": [
      "{'loss': 0.0125, 'learning_rate': 2.7708333333333336e-06, 'epoch': 189.0}\n",
      "{'eval_loss': 2.8074746131896973, 'eval_bleu': 0.555914107612316, 'eval_acc': 0.7566371681415929, 'eval_f1': 0.46396791979949875, 'eval_runtime': 1.9135, 'eval_samples_per_second': 118.111, 'eval_steps_per_second': 4.181, 'epoch': 189.0}\n"
     ]
    },
    {
     "name": "stderr",
     "output_type": "stream",
     "text": [
      "/usr/local/lib/python3.10/dist-packages/torch/nn/parallel/_functions.py:68: UserWarning: Was asked to gather along dimension 0, but all input tensors were scalars; will instead unsqueeze and return a vector.\n",
      "  warnings.warn('Was asked to gather along dimension 0, but all '\n"
     ]
    },
    {
     "name": "stdout",
     "output_type": "stream",
     "text": [
      "{'loss': 0.0129, 'learning_rate': 2.5208333333333335e-06, 'epoch': 190.0}\n",
      "{'eval_loss': 2.8118669986724854, 'eval_bleu': 0.555914107612316, 'eval_acc': 0.7566371681415929, 'eval_f1': 0.46528746107693475, 'eval_runtime': 3.0059, 'eval_samples_per_second': 75.185, 'eval_steps_per_second': 2.661, 'epoch': 190.0}\n"
     ]
    },
    {
     "name": "stderr",
     "output_type": "stream",
     "text": [
      "/usr/local/lib/python3.10/dist-packages/torch/nn/parallel/_functions.py:68: UserWarning: Was asked to gather along dimension 0, but all input tensors were scalars; will instead unsqueeze and return a vector.\n",
      "  warnings.warn('Was asked to gather along dimension 0, but all '\n"
     ]
    },
    {
     "name": "stdout",
     "output_type": "stream",
     "text": [
      "{'loss': 0.0125, 'learning_rate': 2.2708333333333333e-06, 'epoch': 191.0}\n",
      "{'eval_loss': 2.805072546005249, 'eval_bleu': 0.555914107612316, 'eval_acc': 0.7566371681415929, 'eval_f1': 0.466633931768196, 'eval_runtime': 7.4927, 'eval_samples_per_second': 30.163, 'eval_steps_per_second': 1.068, 'epoch': 191.0}\n"
     ]
    },
    {
     "name": "stderr",
     "output_type": "stream",
     "text": [
      "/usr/local/lib/python3.10/dist-packages/torch/nn/parallel/_functions.py:68: UserWarning: Was asked to gather along dimension 0, but all input tensors were scalars; will instead unsqueeze and return a vector.\n",
      "  warnings.warn('Was asked to gather along dimension 0, but all '\n"
     ]
    },
    {
     "name": "stdout",
     "output_type": "stream",
     "text": [
      "{'loss': 0.0129, 'learning_rate': 2.020833333333333e-06, 'epoch': 192.0}\n",
      "{'eval_loss': 2.8021748065948486, 'eval_bleu': 0.555914107612316, 'eval_acc': 0.7566371681415929, 'eval_f1': 0.46396791979949875, 'eval_runtime': 7.2806, 'eval_samples_per_second': 31.042, 'eval_steps_per_second': 1.099, 'epoch': 192.0}\n"
     ]
    },
    {
     "name": "stderr",
     "output_type": "stream",
     "text": [
      "/usr/local/lib/python3.10/dist-packages/torch/nn/parallel/_functions.py:68: UserWarning: Was asked to gather along dimension 0, but all input tensors were scalars; will instead unsqueeze and return a vector.\n",
      "  warnings.warn('Was asked to gather along dimension 0, but all '\n"
     ]
    },
    {
     "name": "stdout",
     "output_type": "stream",
     "text": [
      "{'loss': 0.0128, 'learning_rate': 1.7708333333333335e-06, 'epoch': 193.0}\n",
      "{'eval_loss': 2.8043417930603027, 'eval_bleu': 0.555914107612316, 'eval_acc': 0.7566371681415929, 'eval_f1': 0.46528746107693475, 'eval_runtime': 7.4795, 'eval_samples_per_second': 30.216, 'eval_steps_per_second': 1.07, 'epoch': 193.0}\n"
     ]
    },
    {
     "name": "stderr",
     "output_type": "stream",
     "text": [
      "/usr/local/lib/python3.10/dist-packages/torch/nn/parallel/_functions.py:68: UserWarning: Was asked to gather along dimension 0, but all input tensors were scalars; will instead unsqueeze and return a vector.\n",
      "  warnings.warn('Was asked to gather along dimension 0, but all '\n"
     ]
    },
    {
     "name": "stdout",
     "output_type": "stream",
     "text": [
      "{'loss': 0.0124, 'learning_rate': 1.5208333333333335e-06, 'epoch': 194.0}\n",
      "{'eval_loss': 2.803194761276245, 'eval_bleu': 0.555914107612316, 'eval_acc': 0.7566371681415929, 'eval_f1': 0.46528746107693475, 'eval_runtime': 3.2977, 'eval_samples_per_second': 68.534, 'eval_steps_per_second': 2.426, 'epoch': 194.0}\n"
     ]
    },
    {
     "name": "stderr",
     "output_type": "stream",
     "text": [
      "/usr/local/lib/python3.10/dist-packages/torch/nn/parallel/_functions.py:68: UserWarning: Was asked to gather along dimension 0, but all input tensors were scalars; will instead unsqueeze and return a vector.\n",
      "  warnings.warn('Was asked to gather along dimension 0, but all '\n"
     ]
    },
    {
     "name": "stdout",
     "output_type": "stream",
     "text": [
      "{'loss': 0.0125, 'learning_rate': 1.2708333333333334e-06, 'epoch': 195.0}\n",
      "{'eval_loss': 2.809685707092285, 'eval_bleu': 0.555914107612316, 'eval_acc': 0.7566371681415929, 'eval_f1': 0.46528746107693475, 'eval_runtime': 4.7725, 'eval_samples_per_second': 47.355, 'eval_steps_per_second': 1.676, 'epoch': 195.0}\n"
     ]
    },
    {
     "name": "stderr",
     "output_type": "stream",
     "text": [
      "/usr/local/lib/python3.10/dist-packages/torch/nn/parallel/_functions.py:68: UserWarning: Was asked to gather along dimension 0, but all input tensors were scalars; will instead unsqueeze and return a vector.\n",
      "  warnings.warn('Was asked to gather along dimension 0, but all '\n"
     ]
    },
    {
     "name": "stdout",
     "output_type": "stream",
     "text": [
      "{'loss': 0.0125, 'learning_rate': 1.0208333333333334e-06, 'epoch': 196.0}\n",
      "{'eval_loss': 2.8091037273406982, 'eval_bleu': 0.555914107612316, 'eval_acc': 0.7566371681415929, 'eval_f1': 0.46528746107693475, 'eval_runtime': 3.2194, 'eval_samples_per_second': 70.199, 'eval_steps_per_second': 2.485, 'epoch': 196.0}\n"
     ]
    },
    {
     "name": "stderr",
     "output_type": "stream",
     "text": [
      "/usr/local/lib/python3.10/dist-packages/torch/nn/parallel/_functions.py:68: UserWarning: Was asked to gather along dimension 0, but all input tensors were scalars; will instead unsqueeze and return a vector.\n",
      "  warnings.warn('Was asked to gather along dimension 0, but all '\n"
     ]
    },
    {
     "name": "stdout",
     "output_type": "stream",
     "text": [
      "{'loss': 0.0124, 'learning_rate': 7.708333333333334e-07, 'epoch': 197.0}\n",
      "{'eval_loss': 2.812103271484375, 'eval_bleu': 0.555914107612316, 'eval_acc': 0.7566371681415929, 'eval_f1': 0.466633931768196, 'eval_runtime': 6.9701, 'eval_samples_per_second': 32.424, 'eval_steps_per_second': 1.148, 'epoch': 197.0}\n"
     ]
    },
    {
     "name": "stderr",
     "output_type": "stream",
     "text": [
      "/usr/local/lib/python3.10/dist-packages/torch/nn/parallel/_functions.py:68: UserWarning: Was asked to gather along dimension 0, but all input tensors were scalars; will instead unsqueeze and return a vector.\n",
      "  warnings.warn('Was asked to gather along dimension 0, but all '\n"
     ]
    },
    {
     "name": "stdout",
     "output_type": "stream",
     "text": [
      "{'loss': 0.0121, 'learning_rate': 5.208333333333334e-07, 'epoch': 198.0}\n",
      "{'eval_loss': 2.814413070678711, 'eval_bleu': 0.555914107612316, 'eval_acc': 0.7566371681415929, 'eval_f1': 0.466633931768196, 'eval_runtime': 5.6339, 'eval_samples_per_second': 40.114, 'eval_steps_per_second': 1.42, 'epoch': 198.0}\n"
     ]
    }
   ],
   "source": [
    "#train_dataset = load_dataset(...)\n",
    "#test_dataset = load_dataset(...)\n",
    "\n",
    "# Combine the train and test datasets into a single dictionary\n",
    "dataset = {'train': train_dataset, 'test': val_dataset}\n",
    "\n",
    "# Call the createAndTrainModel function with the dataset argument\n",
    "collator, model, train_multi_metrics, eval_multi_metrics = createAndTrainModel(dataset, args)\n"
   ]
  },
  {
   "cell_type": "code",
   "execution_count": null,
   "metadata": {
    "id": "3oUNDWjJqb7M",
    "tags": []
   },
   "outputs": [],
   "source": [
    "# collator, model, train_multi_metrics, eval_multi_metrics = createAndTrainModel(dataset[train_dataset], args)"
   ]
  },
  {
   "cell_type": "code",
   "execution_count": 38,
   "metadata": {
    "colab": {
     "base_uri": "https://localhost:8080/"
    },
    "id": "KFdkUWgSqb7M",
    "outputId": "92158d74-620c-4d88-fe81-5fa361ff1b81"
   },
   "outputs": [
    {
     "data": {
      "text/plain": [
       "{'eval_loss': 2.496354103088379,\n",
       " 'eval_bleu': 0.5723771028763162,\n",
       " 'eval_acc': 0.7743362831858407,\n",
       " 'eval_f1': 0.47685588972431076,\n",
       " 'eval_runtime': 7.1293,\n",
       " 'eval_samples_per_second': 31.7,\n",
       " 'eval_steps_per_second': 1.122,\n",
       " 'epoch': 200.0}"
      ]
     },
     "execution_count": 38,
     "metadata": {},
     "output_type": "execute_result"
    }
   ],
   "source": [
    "eval_multi_metrics"
   ]
  },
  {
   "cell_type": "markdown",
   "metadata": {
    "id": "kcRXJoEsqb7M"
   },
   "source": [
    "### Model Inferencing"
   ]
  },
  {
   "cell_type": "code",
   "execution_count": 39,
   "metadata": {
    "colab": {
     "base_uri": "https://localhost:8080/"
    },
    "id": "9XyFc3Jbqb7M",
    "outputId": "4f045773-a45b-417d-b67a-f54665e7d9a0",
    "tags": []
   },
   "outputs": [],
   "source": [
    "model = MultimodalVQAModel()\n",
    "\n",
    "# model.load_state_dict(torch.load(os.path.join(\"checkpoints\", \"checkpoint-19200\")))\n",
    "# model.to(device)"
   ]
  },
  {
   "cell_type": "code",
   "execution_count": 41,
   "metadata": {
    "id": "dsE8dVjSqb7M"
   },
   "outputs": [],
   "source": [
    "model.eval()\n",
    "output = model(input_ids, pixel_values, attention_mask, token_type_ids, labels)"
   ]
  },
  {
   "cell_type": "code",
   "execution_count": null,
   "metadata": {},
   "outputs": [],
   "source": []
  }
 ],
 "metadata": {
  "accelerator": "GPU",
  "colab": {
   "gpuType": "T4",
   "provenance": []
  },
  "kernelspec": {
   "display_name": "Python 3 (ipykernel)",
   "language": "python",
   "name": "python3"
  },
  "language_info": {
   "codemirror_mode": {
    "name": "ipython",
    "version": 3
   },
   "file_extension": ".py",
   "mimetype": "text/x-python",
   "name": "python",
   "nbconvert_exporter": "python",
   "pygments_lexer": "ipython3",
   "version": "3.10.6"
  },
  "widgets": {
   "application/vnd.jupyter.widget-state+json": {
    "0013f78632f74ff9b7e969d28969e1f4": {
     "model_module": "@jupyter-widgets/controls",
     "model_module_version": "1.5.0",
     "model_name": "ProgressStyleModel",
     "state": {
      "_model_module": "@jupyter-widgets/controls",
      "_model_module_version": "1.5.0",
      "_model_name": "ProgressStyleModel",
      "_view_count": null,
      "_view_module": "@jupyter-widgets/base",
      "_view_module_version": "1.2.0",
      "_view_name": "StyleView",
      "bar_color": null,
      "description_width": ""
     }
    },
    "052bde9ad6e8416e9892f2f127753b70": {
     "model_module": "@jupyter-widgets/base",
     "model_module_version": "1.2.0",
     "model_name": "LayoutModel",
     "state": {
      "_model_module": "@jupyter-widgets/base",
      "_model_module_version": "1.2.0",
      "_model_name": "LayoutModel",
      "_view_count": null,
      "_view_module": "@jupyter-widgets/base",
      "_view_module_version": "1.2.0",
      "_view_name": "LayoutView",
      "align_content": null,
      "align_items": null,
      "align_self": null,
      "border": null,
      "bottom": null,
      "display": null,
      "flex": null,
      "flex_flow": null,
      "grid_area": null,
      "grid_auto_columns": null,
      "grid_auto_flow": null,
      "grid_auto_rows": null,
      "grid_column": null,
      "grid_gap": null,
      "grid_row": null,
      "grid_template_areas": null,
      "grid_template_columns": null,
      "grid_template_rows": null,
      "height": null,
      "justify_content": null,
      "justify_items": null,
      "left": null,
      "margin": null,
      "max_height": null,
      "max_width": null,
      "min_height": null,
      "min_width": null,
      "object_fit": null,
      "object_position": null,
      "order": null,
      "overflow": null,
      "overflow_x": null,
      "overflow_y": null,
      "padding": null,
      "right": null,
      "top": null,
      "visibility": null,
      "width": null
     }
    },
    "069535f01ab24500b2ae48918f20253b": {
     "model_module": "@jupyter-widgets/controls",
     "model_module_version": "1.5.0",
     "model_name": "DescriptionStyleModel",
     "state": {
      "_model_module": "@jupyter-widgets/controls",
      "_model_module_version": "1.5.0",
      "_model_name": "DescriptionStyleModel",
      "_view_count": null,
      "_view_module": "@jupyter-widgets/base",
      "_view_module_version": "1.2.0",
      "_view_name": "StyleView",
      "description_width": ""
     }
    },
    "08b335536ce04f61951a660f25fd3d0b": {
     "model_module": "@jupyter-widgets/base",
     "model_module_version": "1.2.0",
     "model_name": "LayoutModel",
     "state": {
      "_model_module": "@jupyter-widgets/base",
      "_model_module_version": "1.2.0",
      "_model_name": "LayoutModel",
      "_view_count": null,
      "_view_module": "@jupyter-widgets/base",
      "_view_module_version": "1.2.0",
      "_view_name": "LayoutView",
      "align_content": null,
      "align_items": null,
      "align_self": null,
      "border": null,
      "bottom": null,
      "display": null,
      "flex": null,
      "flex_flow": null,
      "grid_area": null,
      "grid_auto_columns": null,
      "grid_auto_flow": null,
      "grid_auto_rows": null,
      "grid_column": null,
      "grid_gap": null,
      "grid_row": null,
      "grid_template_areas": null,
      "grid_template_columns": null,
      "grid_template_rows": null,
      "height": null,
      "justify_content": null,
      "justify_items": null,
      "left": null,
      "margin": null,
      "max_height": null,
      "max_width": null,
      "min_height": null,
      "min_width": null,
      "object_fit": null,
      "object_position": null,
      "order": null,
      "overflow": null,
      "overflow_x": null,
      "overflow_y": null,
      "padding": null,
      "right": null,
      "top": null,
      "visibility": null,
      "width": null
     }
    },
    "0948ec1729bb42c5ba6667d05682057e": {
     "model_module": "@jupyter-widgets/controls",
     "model_module_version": "1.5.0",
     "model_name": "HTMLModel",
     "state": {
      "_dom_classes": [],
      "_model_module": "@jupyter-widgets/controls",
      "_model_module_version": "1.5.0",
      "_model_name": "HTMLModel",
      "_view_count": null,
      "_view_module": "@jupyter-widgets/controls",
      "_view_module_version": "1.5.0",
      "_view_name": "HTMLView",
      "description": "",
      "description_tooltip": null,
      "layout": "IPY_MODEL_a7e6a2b63770482f96d62d4aed15a1cc",
      "placeholder": "​",
      "style": "IPY_MODEL_675388de64f1401583f847d9208fe1bf",
      "value": "Downloading (…)/main/tokenizer.json: "
     }
    },
    "0ba105228e3f44ba83b89adbffb73416": {
     "model_module": "@jupyter-widgets/base",
     "model_module_version": "1.2.0",
     "model_name": "LayoutModel",
     "state": {
      "_model_module": "@jupyter-widgets/base",
      "_model_module_version": "1.2.0",
      "_model_name": "LayoutModel",
      "_view_count": null,
      "_view_module": "@jupyter-widgets/base",
      "_view_module_version": "1.2.0",
      "_view_name": "LayoutView",
      "align_content": null,
      "align_items": null,
      "align_self": null,
      "border": null,
      "bottom": null,
      "display": null,
      "flex": null,
      "flex_flow": null,
      "grid_area": null,
      "grid_auto_columns": null,
      "grid_auto_flow": null,
      "grid_auto_rows": null,
      "grid_column": null,
      "grid_gap": null,
      "grid_row": null,
      "grid_template_areas": null,
      "grid_template_columns": null,
      "grid_template_rows": null,
      "height": null,
      "justify_content": null,
      "justify_items": null,
      "left": null,
      "margin": null,
      "max_height": null,
      "max_width": null,
      "min_height": null,
      "min_width": null,
      "object_fit": null,
      "object_position": null,
      "order": null,
      "overflow": null,
      "overflow_x": null,
      "overflow_y": null,
      "padding": null,
      "right": null,
      "top": null,
      "visibility": null,
      "width": null
     }
    },
    "0c27a8a33d214652ac887f486929ae53": {
     "model_module": "@jupyter-widgets/controls",
     "model_module_version": "1.5.0",
     "model_name": "DescriptionStyleModel",
     "state": {
      "_model_module": "@jupyter-widgets/controls",
      "_model_module_version": "1.5.0",
      "_model_name": "DescriptionStyleModel",
      "_view_count": null,
      "_view_module": "@jupyter-widgets/base",
      "_view_module_version": "1.2.0",
      "_view_name": "StyleView",
      "description_width": ""
     }
    },
    "0eb233031b104439ae4020418b3b1afe": {
     "model_module": "@jupyter-widgets/controls",
     "model_module_version": "1.5.0",
     "model_name": "HBoxModel",
     "state": {
      "_dom_classes": [],
      "_model_module": "@jupyter-widgets/controls",
      "_model_module_version": "1.5.0",
      "_model_name": "HBoxModel",
      "_view_count": null,
      "_view_module": "@jupyter-widgets/controls",
      "_view_module_version": "1.5.0",
      "_view_name": "HBoxView",
      "box_style": "",
      "children": [
       "IPY_MODEL_956be174f82848609a4680a9d13a3422",
       "IPY_MODEL_6d637839d6aa4422a55305901bf9347f",
       "IPY_MODEL_b58c10ce254f46f086a3b73e8a6d8922"
      ],
      "layout": "IPY_MODEL_eb59e2b2e38a49009ab74afea3719a25"
     }
    },
    "10e06e848f424eb3905bb5e23902be87": {
     "model_module": "@jupyter-widgets/base",
     "model_module_version": "1.2.0",
     "model_name": "LayoutModel",
     "state": {
      "_model_module": "@jupyter-widgets/base",
      "_model_module_version": "1.2.0",
      "_model_name": "LayoutModel",
      "_view_count": null,
      "_view_module": "@jupyter-widgets/base",
      "_view_module_version": "1.2.0",
      "_view_name": "LayoutView",
      "align_content": null,
      "align_items": null,
      "align_self": null,
      "border": null,
      "bottom": null,
      "display": null,
      "flex": null,
      "flex_flow": null,
      "grid_area": null,
      "grid_auto_columns": null,
      "grid_auto_flow": null,
      "grid_auto_rows": null,
      "grid_column": null,
      "grid_gap": null,
      "grid_row": null,
      "grid_template_areas": null,
      "grid_template_columns": null,
      "grid_template_rows": null,
      "height": null,
      "justify_content": null,
      "justify_items": null,
      "left": null,
      "margin": null,
      "max_height": null,
      "max_width": null,
      "min_height": null,
      "min_width": null,
      "object_fit": null,
      "object_position": null,
      "order": null,
      "overflow": null,
      "overflow_x": null,
      "overflow_y": null,
      "padding": null,
      "right": null,
      "top": null,
      "visibility": null,
      "width": null
     }
    },
    "1615a50ae93248ebb890e913b00d9c3c": {
     "model_module": "@jupyter-widgets/controls",
     "model_module_version": "1.5.0",
     "model_name": "HBoxModel",
     "state": {
      "_dom_classes": [],
      "_model_module": "@jupyter-widgets/controls",
      "_model_module_version": "1.5.0",
      "_model_name": "HBoxModel",
      "_view_count": null,
      "_view_module": "@jupyter-widgets/controls",
      "_view_module_version": "1.5.0",
      "_view_name": "HBoxView",
      "box_style": "",
      "children": [
       "IPY_MODEL_0948ec1729bb42c5ba6667d05682057e",
       "IPY_MODEL_935c5289e1614fa587fce62d9a3bbabc",
       "IPY_MODEL_44668b6e7bbf464a89d8e2ac175ce947"
      ],
      "layout": "IPY_MODEL_ea50aace82194f20955f9ee7997f0492"
     }
    },
    "18f3e38e2de24ce9a1448f98e9527f71": {
     "model_module": "@jupyter-widgets/controls",
     "model_module_version": "1.5.0",
     "model_name": "ProgressStyleModel",
     "state": {
      "_model_module": "@jupyter-widgets/controls",
      "_model_module_version": "1.5.0",
      "_model_name": "ProgressStyleModel",
      "_view_count": null,
      "_view_module": "@jupyter-widgets/base",
      "_view_module_version": "1.2.0",
      "_view_name": "StyleView",
      "bar_color": null,
      "description_width": ""
     }
    },
    "1e631f60c5aa41bbabb38b678aa3c35e": {
     "model_module": "@jupyter-widgets/base",
     "model_module_version": "1.2.0",
     "model_name": "LayoutModel",
     "state": {
      "_model_module": "@jupyter-widgets/base",
      "_model_module_version": "1.2.0",
      "_model_name": "LayoutModel",
      "_view_count": null,
      "_view_module": "@jupyter-widgets/base",
      "_view_module_version": "1.2.0",
      "_view_name": "LayoutView",
      "align_content": null,
      "align_items": null,
      "align_self": null,
      "border": null,
      "bottom": null,
      "display": null,
      "flex": null,
      "flex_flow": null,
      "grid_area": null,
      "grid_auto_columns": null,
      "grid_auto_flow": null,
      "grid_auto_rows": null,
      "grid_column": null,
      "grid_gap": null,
      "grid_row": null,
      "grid_template_areas": null,
      "grid_template_columns": null,
      "grid_template_rows": null,
      "height": null,
      "justify_content": null,
      "justify_items": null,
      "left": null,
      "margin": null,
      "max_height": null,
      "max_width": null,
      "min_height": null,
      "min_width": null,
      "object_fit": null,
      "object_position": null,
      "order": null,
      "overflow": null,
      "overflow_x": null,
      "overflow_y": null,
      "padding": null,
      "right": null,
      "top": null,
      "visibility": null,
      "width": null
     }
    },
    "23ab7f9f5d8b429a85c984eebd49a285": {
     "model_module": "@jupyter-widgets/base",
     "model_module_version": "1.2.0",
     "model_name": "LayoutModel",
     "state": {
      "_model_module": "@jupyter-widgets/base",
      "_model_module_version": "1.2.0",
      "_model_name": "LayoutModel",
      "_view_count": null,
      "_view_module": "@jupyter-widgets/base",
      "_view_module_version": "1.2.0",
      "_view_name": "LayoutView",
      "align_content": null,
      "align_items": null,
      "align_self": null,
      "border": null,
      "bottom": null,
      "display": null,
      "flex": null,
      "flex_flow": null,
      "grid_area": null,
      "grid_auto_columns": null,
      "grid_auto_flow": null,
      "grid_auto_rows": null,
      "grid_column": null,
      "grid_gap": null,
      "grid_row": null,
      "grid_template_areas": null,
      "grid_template_columns": null,
      "grid_template_rows": null,
      "height": null,
      "justify_content": null,
      "justify_items": null,
      "left": null,
      "margin": null,
      "max_height": null,
      "max_width": null,
      "min_height": null,
      "min_width": null,
      "object_fit": null,
      "object_position": null,
      "order": null,
      "overflow": null,
      "overflow_x": null,
      "overflow_y": null,
      "padding": null,
      "right": null,
      "top": null,
      "visibility": null,
      "width": null
     }
    },
    "24a09b1022ee447c97e45c742ecaf13a": {
     "model_module": "@jupyter-widgets/controls",
     "model_module_version": "1.5.0",
     "model_name": "ProgressStyleModel",
     "state": {
      "_model_module": "@jupyter-widgets/controls",
      "_model_module_version": "1.5.0",
      "_model_name": "ProgressStyleModel",
      "_view_count": null,
      "_view_module": "@jupyter-widgets/base",
      "_view_module_version": "1.2.0",
      "_view_name": "StyleView",
      "bar_color": null,
      "description_width": ""
     }
    },
    "24b1d8b6bc314470bfd496c89ad72c19": {
     "model_module": "@jupyter-widgets/base",
     "model_module_version": "1.2.0",
     "model_name": "LayoutModel",
     "state": {
      "_model_module": "@jupyter-widgets/base",
      "_model_module_version": "1.2.0",
      "_model_name": "LayoutModel",
      "_view_count": null,
      "_view_module": "@jupyter-widgets/base",
      "_view_module_version": "1.2.0",
      "_view_name": "LayoutView",
      "align_content": null,
      "align_items": null,
      "align_self": null,
      "border": null,
      "bottom": null,
      "display": null,
      "flex": null,
      "flex_flow": null,
      "grid_area": null,
      "grid_auto_columns": null,
      "grid_auto_flow": null,
      "grid_auto_rows": null,
      "grid_column": null,
      "grid_gap": null,
      "grid_row": null,
      "grid_template_areas": null,
      "grid_template_columns": null,
      "grid_template_rows": null,
      "height": null,
      "justify_content": null,
      "justify_items": null,
      "left": null,
      "margin": null,
      "max_height": null,
      "max_width": null,
      "min_height": null,
      "min_width": null,
      "object_fit": null,
      "object_position": null,
      "order": null,
      "overflow": null,
      "overflow_x": null,
      "overflow_y": null,
      "padding": null,
      "right": null,
      "top": null,
      "visibility": null,
      "width": null
     }
    },
    "29789d8f183c45a690a248a71d9a2bba": {
     "model_module": "@jupyter-widgets/controls",
     "model_module_version": "1.5.0",
     "model_name": "FloatProgressModel",
     "state": {
      "_dom_classes": [],
      "_model_module": "@jupyter-widgets/controls",
      "_model_module_version": "1.5.0",
      "_model_name": "FloatProgressModel",
      "_view_count": null,
      "_view_module": "@jupyter-widgets/controls",
      "_view_module_version": "1.5.0",
      "_view_name": "ProgressView",
      "bar_style": "success",
      "description": "",
      "description_tooltip": null,
      "layout": "IPY_MODEL_4305d20fc2cd4f75883e3d7bc5c38953",
      "max": 440449768,
      "min": 0,
      "orientation": "horizontal",
      "style": "IPY_MODEL_d330aa040a6545d28ff5603180190e90",
      "value": 440449768
     }
    },
    "2c1eb9b260524b5c88b63f1dae76030c": {
     "model_module": "@jupyter-widgets/controls",
     "model_module_version": "1.5.0",
     "model_name": "HTMLModel",
     "state": {
      "_dom_classes": [],
      "_model_module": "@jupyter-widgets/controls",
      "_model_module_version": "1.5.0",
      "_model_name": "HTMLModel",
      "_view_count": null,
      "_view_module": "@jupyter-widgets/controls",
      "_view_module_version": "1.5.0",
      "_view_name": "HTMLView",
      "description": "",
      "description_tooltip": null,
      "layout": "IPY_MODEL_7d030b3c9ff1440b847592463c3c24a6",
      "placeholder": "​",
      "style": "IPY_MODEL_e46cad7dcba641a4a279badd6309cdd1",
      "value": "Downloading pytorch_model.bin: 100%"
     }
    },
    "2ce66bd8242a47c8a8c29749d8e2f282": {
     "model_module": "@jupyter-widgets/controls",
     "model_module_version": "1.5.0",
     "model_name": "HBoxModel",
     "state": {
      "_dom_classes": [],
      "_model_module": "@jupyter-widgets/controls",
      "_model_module_version": "1.5.0",
      "_model_name": "HBoxModel",
      "_view_count": null,
      "_view_module": "@jupyter-widgets/controls",
      "_view_module_version": "1.5.0",
      "_view_name": "HBoxView",
      "box_style": "",
      "children": [
       "IPY_MODEL_c2f4b679ec66433782348a678cd368fa",
       "IPY_MODEL_c0f8f4847a2f43b89acfaaced9c5a154",
       "IPY_MODEL_559ef49441cb45cbb5f5d021b234edf2"
      ],
      "layout": "IPY_MODEL_d98a5d984db24548aeb37e2402656b3d"
     }
    },
    "32b8e58716794cef901720c0aef37347": {
     "model_module": "@jupyter-widgets/base",
     "model_module_version": "1.2.0",
     "model_name": "LayoutModel",
     "state": {
      "_model_module": "@jupyter-widgets/base",
      "_model_module_version": "1.2.0",
      "_model_name": "LayoutModel",
      "_view_count": null,
      "_view_module": "@jupyter-widgets/base",
      "_view_module_version": "1.2.0",
      "_view_name": "LayoutView",
      "align_content": null,
      "align_items": null,
      "align_self": null,
      "border": null,
      "bottom": null,
      "display": null,
      "flex": null,
      "flex_flow": null,
      "grid_area": null,
      "grid_auto_columns": null,
      "grid_auto_flow": null,
      "grid_auto_rows": null,
      "grid_column": null,
      "grid_gap": null,
      "grid_row": null,
      "grid_template_areas": null,
      "grid_template_columns": null,
      "grid_template_rows": null,
      "height": null,
      "justify_content": null,
      "justify_items": null,
      "left": null,
      "margin": null,
      "max_height": null,
      "max_width": null,
      "min_height": null,
      "min_width": null,
      "object_fit": null,
      "object_position": null,
      "order": null,
      "overflow": null,
      "overflow_x": null,
      "overflow_y": null,
      "padding": null,
      "right": null,
      "top": null,
      "visibility": null,
      "width": null
     }
    },
    "3c8cb8d1b09f4dc9adf977938f17069a": {
     "model_module": "@jupyter-widgets/base",
     "model_module_version": "1.2.0",
     "model_name": "LayoutModel",
     "state": {
      "_model_module": "@jupyter-widgets/base",
      "_model_module_version": "1.2.0",
      "_model_name": "LayoutModel",
      "_view_count": null,
      "_view_module": "@jupyter-widgets/base",
      "_view_module_version": "1.2.0",
      "_view_name": "LayoutView",
      "align_content": null,
      "align_items": null,
      "align_self": null,
      "border": null,
      "bottom": null,
      "display": null,
      "flex": null,
      "flex_flow": null,
      "grid_area": null,
      "grid_auto_columns": null,
      "grid_auto_flow": null,
      "grid_auto_rows": null,
      "grid_column": null,
      "grid_gap": null,
      "grid_row": null,
      "grid_template_areas": null,
      "grid_template_columns": null,
      "grid_template_rows": null,
      "height": null,
      "justify_content": null,
      "justify_items": null,
      "left": null,
      "margin": null,
      "max_height": null,
      "max_width": null,
      "min_height": null,
      "min_width": null,
      "object_fit": null,
      "object_position": null,
      "order": null,
      "overflow": null,
      "overflow_x": null,
      "overflow_y": null,
      "padding": null,
      "right": null,
      "top": null,
      "visibility": null,
      "width": null
     }
    },
    "3ff6b3d880114b579ffc911d124a95c9": {
     "model_module": "@jupyter-widgets/controls",
     "model_module_version": "1.5.0",
     "model_name": "HTMLModel",
     "state": {
      "_dom_classes": [],
      "_model_module": "@jupyter-widgets/controls",
      "_model_module_version": "1.5.0",
      "_model_name": "HTMLModel",
      "_view_count": null,
      "_view_module": "@jupyter-widgets/controls",
      "_view_module_version": "1.5.0",
      "_view_name": "HTMLView",
      "description": "",
      "description_tooltip": null,
      "layout": "IPY_MODEL_7c26d915971f453c84cee16ba3926e34",
      "placeholder": "​",
      "style": "IPY_MODEL_f7ce56ae76424487814f0ad488667852",
      "value": " 160/160 [00:00&lt;00:00, 10.4kB/s]"
     }
    },
    "4071b8170eb94088b43f54ff9912e0e7": {
     "model_module": "@jupyter-widgets/controls",
     "model_module_version": "1.5.0",
     "model_name": "FloatProgressModel",
     "state": {
      "_dom_classes": [],
      "_model_module": "@jupyter-widgets/controls",
      "_model_module_version": "1.5.0",
      "_model_name": "FloatProgressModel",
      "_view_count": null,
      "_view_module": "@jupyter-widgets/controls",
      "_view_module_version": "1.5.0",
      "_view_name": "ProgressView",
      "bar_style": "success",
      "description": "",
      "description_tooltip": null,
      "layout": "IPY_MODEL_d6985bb1700d456cb734207e0c8c9f7a",
      "max": 160,
      "min": 0,
      "orientation": "horizontal",
      "style": "IPY_MODEL_47c570c0135c434ab3198f63e0909f92",
      "value": 160
     }
    },
    "40e483ac52a649f5b9981dc6fc19416f": {
     "model_module": "@jupyter-widgets/controls",
     "model_module_version": "1.5.0",
     "model_name": "ProgressStyleModel",
     "state": {
      "_model_module": "@jupyter-widgets/controls",
      "_model_module_version": "1.5.0",
      "_model_name": "ProgressStyleModel",
      "_view_count": null,
      "_view_module": "@jupyter-widgets/base",
      "_view_module_version": "1.2.0",
      "_view_name": "StyleView",
      "bar_color": null,
      "description_width": ""
     }
    },
    "41132cf2d3f04824aa2101a31069ca97": {
     "model_module": "@jupyter-widgets/controls",
     "model_module_version": "1.5.0",
     "model_name": "DescriptionStyleModel",
     "state": {
      "_model_module": "@jupyter-widgets/controls",
      "_model_module_version": "1.5.0",
      "_model_name": "DescriptionStyleModel",
      "_view_count": null,
      "_view_module": "@jupyter-widgets/base",
      "_view_module_version": "1.2.0",
      "_view_name": "StyleView",
      "description_width": ""
     }
    },
    "4222b2f4dbbc47fc966fca6ecf7b4999": {
     "model_module": "@jupyter-widgets/controls",
     "model_module_version": "1.5.0",
     "model_name": "DescriptionStyleModel",
     "state": {
      "_model_module": "@jupyter-widgets/controls",
      "_model_module_version": "1.5.0",
      "_model_name": "DescriptionStyleModel",
      "_view_count": null,
      "_view_module": "@jupyter-widgets/base",
      "_view_module_version": "1.2.0",
      "_view_name": "StyleView",
      "description_width": ""
     }
    },
    "4305d20fc2cd4f75883e3d7bc5c38953": {
     "model_module": "@jupyter-widgets/base",
     "model_module_version": "1.2.0",
     "model_name": "LayoutModel",
     "state": {
      "_model_module": "@jupyter-widgets/base",
      "_model_module_version": "1.2.0",
      "_model_name": "LayoutModel",
      "_view_count": null,
      "_view_module": "@jupyter-widgets/base",
      "_view_module_version": "1.2.0",
      "_view_name": "LayoutView",
      "align_content": null,
      "align_items": null,
      "align_self": null,
      "border": null,
      "bottom": null,
      "display": null,
      "flex": null,
      "flex_flow": null,
      "grid_area": null,
      "grid_auto_columns": null,
      "grid_auto_flow": null,
      "grid_auto_rows": null,
      "grid_column": null,
      "grid_gap": null,
      "grid_row": null,
      "grid_template_areas": null,
      "grid_template_columns": null,
      "grid_template_rows": null,
      "height": null,
      "justify_content": null,
      "justify_items": null,
      "left": null,
      "margin": null,
      "max_height": null,
      "max_width": null,
      "min_height": null,
      "min_width": null,
      "object_fit": null,
      "object_position": null,
      "order": null,
      "overflow": null,
      "overflow_x": null,
      "overflow_y": null,
      "padding": null,
      "right": null,
      "top": null,
      "visibility": null,
      "width": null
     }
    },
    "4320efeed9a04e26b688388d4fafd3d9": {
     "model_module": "@jupyter-widgets/base",
     "model_module_version": "1.2.0",
     "model_name": "LayoutModel",
     "state": {
      "_model_module": "@jupyter-widgets/base",
      "_model_module_version": "1.2.0",
      "_model_name": "LayoutModel",
      "_view_count": null,
      "_view_module": "@jupyter-widgets/base",
      "_view_module_version": "1.2.0",
      "_view_name": "LayoutView",
      "align_content": null,
      "align_items": null,
      "align_self": null,
      "border": null,
      "bottom": null,
      "display": null,
      "flex": null,
      "flex_flow": null,
      "grid_area": null,
      "grid_auto_columns": null,
      "grid_auto_flow": null,
      "grid_auto_rows": null,
      "grid_column": null,
      "grid_gap": null,
      "grid_row": null,
      "grid_template_areas": null,
      "grid_template_columns": null,
      "grid_template_rows": null,
      "height": null,
      "justify_content": null,
      "justify_items": null,
      "left": null,
      "margin": null,
      "max_height": null,
      "max_width": null,
      "min_height": null,
      "min_width": null,
      "object_fit": null,
      "object_position": null,
      "order": null,
      "overflow": null,
      "overflow_x": null,
      "overflow_y": null,
      "padding": null,
      "right": null,
      "top": null,
      "visibility": null,
      "width": null
     }
    },
    "44668b6e7bbf464a89d8e2ac175ce947": {
     "model_module": "@jupyter-widgets/controls",
     "model_module_version": "1.5.0",
     "model_name": "HTMLModel",
     "state": {
      "_dom_classes": [],
      "_model_module": "@jupyter-widgets/controls",
      "_model_module_version": "1.5.0",
      "_model_name": "HTMLModel",
      "_view_count": null,
      "_view_module": "@jupyter-widgets/controls",
      "_view_module_version": "1.5.0",
      "_view_name": "HTMLView",
      "description": "",
      "description_tooltip": null,
      "layout": "IPY_MODEL_0ba105228e3f44ba83b89adbffb73416",
      "placeholder": "​",
      "style": "IPY_MODEL_0c27a8a33d214652ac887f486929ae53",
      "value": " 466k/? [00:00&lt;00:00, 8.43MB/s]"
     }
    },
    "4791c18a237445b1ac65abf2e206e7e6": {
     "model_module": "@jupyter-widgets/controls",
     "model_module_version": "1.5.0",
     "model_name": "DescriptionStyleModel",
     "state": {
      "_model_module": "@jupyter-widgets/controls",
      "_model_module_version": "1.5.0",
      "_model_name": "DescriptionStyleModel",
      "_view_count": null,
      "_view_module": "@jupyter-widgets/base",
      "_view_module_version": "1.2.0",
      "_view_name": "StyleView",
      "description_width": ""
     }
    },
    "47c570c0135c434ab3198f63e0909f92": {
     "model_module": "@jupyter-widgets/controls",
     "model_module_version": "1.5.0",
     "model_name": "ProgressStyleModel",
     "state": {
      "_model_module": "@jupyter-widgets/controls",
      "_model_module_version": "1.5.0",
      "_model_name": "ProgressStyleModel",
      "_view_count": null,
      "_view_module": "@jupyter-widgets/base",
      "_view_module_version": "1.2.0",
      "_view_name": "StyleView",
      "bar_color": null,
      "description_width": ""
     }
    },
    "496e826396844df89d653f05a69dd916": {
     "model_module": "@jupyter-widgets/controls",
     "model_module_version": "1.5.0",
     "model_name": "HTMLModel",
     "state": {
      "_dom_classes": [],
      "_model_module": "@jupyter-widgets/controls",
      "_model_module_version": "1.5.0",
      "_model_name": "HTMLModel",
      "_view_count": null,
      "_view_module": "@jupyter-widgets/controls",
      "_view_module_version": "1.5.0",
      "_view_name": "HTMLView",
      "description": "",
      "description_tooltip": null,
      "layout": "IPY_MODEL_052bde9ad6e8416e9892f2f127753b70",
      "placeholder": "​",
      "style": "IPY_MODEL_069535f01ab24500b2ae48918f20253b",
      "value": " 0/226 [00:00&lt;?, ? examples/s]"
     }
    },
    "4a44be602dba4013bbcf0d3f314b0f86": {
     "model_module": "@jupyter-widgets/controls",
     "model_module_version": "1.5.0",
     "model_name": "HBoxModel",
     "state": {
      "_dom_classes": [],
      "_model_module": "@jupyter-widgets/controls",
      "_model_module_version": "1.5.0",
      "_model_name": "HBoxModel",
      "_view_count": null,
      "_view_module": "@jupyter-widgets/controls",
      "_view_module_version": "1.5.0",
      "_view_name": "HBoxView",
      "box_style": "",
      "children": [
       "IPY_MODEL_c88e15c3f5214641a9c71a570d7a6d43",
       "IPY_MODEL_f54076dcc0d64cb3af04b32bc8c006bb",
       "IPY_MODEL_82c6583ec30448b49c581aa9a6b74d37"
      ],
      "layout": "IPY_MODEL_a87c087af92a44768cb72ba49213dc94"
     }
    },
    "4f0703ef37ea4c97a884b5968dbb81f5": {
     "model_module": "@jupyter-widgets/controls",
     "model_module_version": "1.5.0",
     "model_name": "DescriptionStyleModel",
     "state": {
      "_model_module": "@jupyter-widgets/controls",
      "_model_module_version": "1.5.0",
      "_model_name": "DescriptionStyleModel",
      "_view_count": null,
      "_view_module": "@jupyter-widgets/base",
      "_view_module_version": "1.2.0",
      "_view_name": "StyleView",
      "description_width": ""
     }
    },
    "54c40db23f9442e4ad08216769e9b251": {
     "model_module": "@jupyter-widgets/base",
     "model_module_version": "1.2.0",
     "model_name": "LayoutModel",
     "state": {
      "_model_module": "@jupyter-widgets/base",
      "_model_module_version": "1.2.0",
      "_model_name": "LayoutModel",
      "_view_count": null,
      "_view_module": "@jupyter-widgets/base",
      "_view_module_version": "1.2.0",
      "_view_name": "LayoutView",
      "align_content": null,
      "align_items": null,
      "align_self": null,
      "border": null,
      "bottom": null,
      "display": null,
      "flex": null,
      "flex_flow": null,
      "grid_area": null,
      "grid_auto_columns": null,
      "grid_auto_flow": null,
      "grid_auto_rows": null,
      "grid_column": null,
      "grid_gap": null,
      "grid_row": null,
      "grid_template_areas": null,
      "grid_template_columns": null,
      "grid_template_rows": null,
      "height": null,
      "justify_content": null,
      "justify_items": null,
      "left": null,
      "margin": null,
      "max_height": null,
      "max_width": null,
      "min_height": null,
      "min_width": null,
      "object_fit": null,
      "object_position": null,
      "order": null,
      "overflow": null,
      "overflow_x": null,
      "overflow_y": null,
      "padding": null,
      "right": null,
      "top": null,
      "visibility": null,
      "width": null
     }
    },
    "559ef49441cb45cbb5f5d021b234edf2": {
     "model_module": "@jupyter-widgets/controls",
     "model_module_version": "1.5.0",
     "model_name": "HTMLModel",
     "state": {
      "_dom_classes": [],
      "_model_module": "@jupyter-widgets/controls",
      "_model_module_version": "1.5.0",
      "_model_name": "HTMLModel",
      "_view_count": null,
      "_view_module": "@jupyter-widgets/controls",
      "_view_module_version": "1.5.0",
      "_view_name": "HTMLView",
      "description": "",
      "description_tooltip": null,
      "layout": "IPY_MODEL_9a009d9c20d04505a4b2898f931effea",
      "placeholder": "​",
      "style": "IPY_MODEL_4791c18a237445b1ac65abf2e206e7e6",
      "value": " 232k/? [00:00&lt;00:00, 3.21MB/s]"
     }
    },
    "56d4d3e0f74b420c97a0fd6b55694a03": {
     "model_module": "@jupyter-widgets/controls",
     "model_module_version": "1.5.0",
     "model_name": "HTMLModel",
     "state": {
      "_dom_classes": [],
      "_model_module": "@jupyter-widgets/controls",
      "_model_module_version": "1.5.0",
      "_model_name": "HTMLModel",
      "_view_count": null,
      "_view_module": "@jupyter-widgets/controls",
      "_view_module_version": "1.5.0",
      "_view_name": "HTMLView",
      "description": "",
      "description_tooltip": null,
      "layout": "IPY_MODEL_fe9db109853c4514b658cc60d83c78de",
      "placeholder": "​",
      "style": "IPY_MODEL_4222b2f4dbbc47fc966fca6ecf7b4999",
      "value": "Downloading (…)rocessor_config.json: 100%"
     }
    },
    "59b20046d10040da97cd32cf93a30e79": {
     "model_module": "@jupyter-widgets/base",
     "model_module_version": "1.2.0",
     "model_name": "LayoutModel",
     "state": {
      "_model_module": "@jupyter-widgets/base",
      "_model_module_version": "1.2.0",
      "_model_name": "LayoutModel",
      "_view_count": null,
      "_view_module": "@jupyter-widgets/base",
      "_view_module_version": "1.2.0",
      "_view_name": "LayoutView",
      "align_content": null,
      "align_items": null,
      "align_self": null,
      "border": null,
      "bottom": null,
      "display": null,
      "flex": null,
      "flex_flow": null,
      "grid_area": null,
      "grid_auto_columns": null,
      "grid_auto_flow": null,
      "grid_auto_rows": null,
      "grid_column": null,
      "grid_gap": null,
      "grid_row": null,
      "grid_template_areas": null,
      "grid_template_columns": null,
      "grid_template_rows": null,
      "height": null,
      "justify_content": null,
      "justify_items": null,
      "left": null,
      "margin": null,
      "max_height": null,
      "max_width": null,
      "min_height": null,
      "min_width": null,
      "object_fit": null,
      "object_position": null,
      "order": null,
      "overflow": null,
      "overflow_x": null,
      "overflow_y": null,
      "padding": null,
      "right": null,
      "top": null,
      "visibility": null,
      "width": null
     }
    },
    "645a398d7fc44dfaa29ce82799b3f3c4": {
     "model_module": "@jupyter-widgets/controls",
     "model_module_version": "1.5.0",
     "model_name": "HTMLModel",
     "state": {
      "_dom_classes": [],
      "_model_module": "@jupyter-widgets/controls",
      "_model_module_version": "1.5.0",
      "_model_name": "HTMLModel",
      "_view_count": null,
      "_view_module": "@jupyter-widgets/controls",
      "_view_module_version": "1.5.0",
      "_view_name": "HTMLView",
      "description": "",
      "description_tooltip": null,
      "layout": "IPY_MODEL_23ab7f9f5d8b429a85c984eebd49a285",
      "placeholder": "​",
      "style": "IPY_MODEL_de0d3875807648b09bb7884c6c4d7c4e",
      "value": " 1797/1797 [00:00&lt;00:00, 13414.36 examples/s]"
     }
    },
    "66f5b53a886045b3a9c30abe19a88ee1": {
     "model_module": "@jupyter-widgets/base",
     "model_module_version": "1.2.0",
     "model_name": "LayoutModel",
     "state": {
      "_model_module": "@jupyter-widgets/base",
      "_model_module_version": "1.2.0",
      "_model_name": "LayoutModel",
      "_view_count": null,
      "_view_module": "@jupyter-widgets/base",
      "_view_module_version": "1.2.0",
      "_view_name": "LayoutView",
      "align_content": null,
      "align_items": null,
      "align_self": null,
      "border": null,
      "bottom": null,
      "display": null,
      "flex": null,
      "flex_flow": null,
      "grid_area": null,
      "grid_auto_columns": null,
      "grid_auto_flow": null,
      "grid_auto_rows": null,
      "grid_column": null,
      "grid_gap": null,
      "grid_row": null,
      "grid_template_areas": null,
      "grid_template_columns": null,
      "grid_template_rows": null,
      "height": null,
      "justify_content": null,
      "justify_items": null,
      "left": null,
      "margin": null,
      "max_height": null,
      "max_width": null,
      "min_height": null,
      "min_width": null,
      "object_fit": null,
      "object_position": null,
      "order": null,
      "overflow": null,
      "overflow_x": null,
      "overflow_y": null,
      "padding": null,
      "right": null,
      "top": null,
      "visibility": null,
      "width": null
     }
    },
    "675388de64f1401583f847d9208fe1bf": {
     "model_module": "@jupyter-widgets/controls",
     "model_module_version": "1.5.0",
     "model_name": "DescriptionStyleModel",
     "state": {
      "_model_module": "@jupyter-widgets/controls",
      "_model_module_version": "1.5.0",
      "_model_name": "DescriptionStyleModel",
      "_view_count": null,
      "_view_module": "@jupyter-widgets/base",
      "_view_module_version": "1.2.0",
      "_view_name": "StyleView",
      "description_width": ""
     }
    },
    "6a882346dda74616936d9dc41779e5cf": {
     "model_module": "@jupyter-widgets/base",
     "model_module_version": "1.2.0",
     "model_name": "LayoutModel",
     "state": {
      "_model_module": "@jupyter-widgets/base",
      "_model_module_version": "1.2.0",
      "_model_name": "LayoutModel",
      "_view_count": null,
      "_view_module": "@jupyter-widgets/base",
      "_view_module_version": "1.2.0",
      "_view_name": "LayoutView",
      "align_content": null,
      "align_items": null,
      "align_self": null,
      "border": null,
      "bottom": null,
      "display": null,
      "flex": null,
      "flex_flow": null,
      "grid_area": null,
      "grid_auto_columns": null,
      "grid_auto_flow": null,
      "grid_auto_rows": null,
      "grid_column": null,
      "grid_gap": null,
      "grid_row": null,
      "grid_template_areas": null,
      "grid_template_columns": null,
      "grid_template_rows": null,
      "height": null,
      "justify_content": null,
      "justify_items": null,
      "left": null,
      "margin": null,
      "max_height": null,
      "max_width": null,
      "min_height": null,
      "min_width": null,
      "object_fit": null,
      "object_position": null,
      "order": null,
      "overflow": null,
      "overflow_x": null,
      "overflow_y": null,
      "padding": null,
      "right": null,
      "top": null,
      "visibility": "hidden",
      "width": null
     }
    },
    "6b1cc6721a144d62a431cb2d440f6a0f": {
     "model_module": "@jupyter-widgets/controls",
     "model_module_version": "1.5.0",
     "model_name": "HTMLModel",
     "state": {
      "_dom_classes": [],
      "_model_module": "@jupyter-widgets/controls",
      "_model_module_version": "1.5.0",
      "_model_name": "HTMLModel",
      "_view_count": null,
      "_view_module": "@jupyter-widgets/controls",
      "_view_module_version": "1.5.0",
      "_view_name": "HTMLView",
      "description": "",
      "description_tooltip": null,
      "layout": "IPY_MODEL_f0723e0cf3f64d93a9d48e9a8a0d4497",
      "placeholder": "​",
      "style": "IPY_MODEL_4f0703ef37ea4c97a884b5968dbb81f5",
      "value": "Map:   0%"
     }
    },
    "6bfd0bc63c1d4df48df6fe5cdaffed57": {
     "model_module": "@jupyter-widgets/controls",
     "model_module_version": "1.5.0",
     "model_name": "ProgressStyleModel",
     "state": {
      "_model_module": "@jupyter-widgets/controls",
      "_model_module_version": "1.5.0",
      "_model_name": "ProgressStyleModel",
      "_view_count": null,
      "_view_module": "@jupyter-widgets/base",
      "_view_module_version": "1.2.0",
      "_view_name": "StyleView",
      "bar_color": null,
      "description_width": ""
     }
    },
    "6d637839d6aa4422a55305901bf9347f": {
     "model_module": "@jupyter-widgets/controls",
     "model_module_version": "1.5.0",
     "model_name": "FloatProgressModel",
     "state": {
      "_dom_classes": [],
      "_model_module": "@jupyter-widgets/controls",
      "_model_module_version": "1.5.0",
      "_model_name": "FloatProgressModel",
      "_view_count": null,
      "_view_module": "@jupyter-widgets/controls",
      "_view_module_version": "1.5.0",
      "_view_name": "ProgressView",
      "bar_style": "success",
      "description": "",
      "description_tooltip": null,
      "layout": "IPY_MODEL_9928691ffd884406be261d63afb4645a",
      "max": 28,
      "min": 0,
      "orientation": "horizontal",
      "style": "IPY_MODEL_24a09b1022ee447c97e45c742ecaf13a",
      "value": 28
     }
    },
    "6f3a2e1c9a8a4ee692bc81750ab72170": {
     "model_module": "@jupyter-widgets/controls",
     "model_module_version": "1.5.0",
     "model_name": "HTMLModel",
     "state": {
      "_dom_classes": [],
      "_model_module": "@jupyter-widgets/controls",
      "_model_module_version": "1.5.0",
      "_model_name": "HTMLModel",
      "_view_count": null,
      "_view_module": "@jupyter-widgets/controls",
      "_view_module_version": "1.5.0",
      "_view_name": "HTMLView",
      "description": "",
      "description_tooltip": null,
      "layout": "IPY_MODEL_1e631f60c5aa41bbabb38b678aa3c35e",
      "placeholder": "​",
      "style": "IPY_MODEL_8ce02214645f4fe1b5cbc58ed9427186",
      "value": " 346M/346M [00:03&lt;00:00, 114MB/s]"
     }
    },
    "7620edd16156458d9609810fcd197900": {
     "model_module": "@jupyter-widgets/controls",
     "model_module_version": "1.5.0",
     "model_name": "DescriptionStyleModel",
     "state": {
      "_model_module": "@jupyter-widgets/controls",
      "_model_module_version": "1.5.0",
      "_model_name": "DescriptionStyleModel",
      "_view_count": null,
      "_view_module": "@jupyter-widgets/base",
      "_view_module_version": "1.2.0",
      "_view_name": "StyleView",
      "description_width": ""
     }
    },
    "7629138a25494d318269598c244838a4": {
     "model_module": "@jupyter-widgets/controls",
     "model_module_version": "1.5.0",
     "model_name": "HTMLModel",
     "state": {
      "_dom_classes": [],
      "_model_module": "@jupyter-widgets/controls",
      "_model_module_version": "1.5.0",
      "_model_name": "HTMLModel",
      "_view_count": null,
      "_view_module": "@jupyter-widgets/controls",
      "_view_module_version": "1.5.0",
      "_view_name": "HTMLView",
      "description": "",
      "description_tooltip": null,
      "layout": "IPY_MODEL_08b335536ce04f61951a660f25fd3d0b",
      "placeholder": "​",
      "style": "IPY_MODEL_41132cf2d3f04824aa2101a31069ca97",
      "value": "Map: 100%"
     }
    },
    "775fb67a82a949c0b805a805525763af": {
     "model_module": "@jupyter-widgets/controls",
     "model_module_version": "1.5.0",
     "model_name": "HBoxModel",
     "state": {
      "_dom_classes": [],
      "_model_module": "@jupyter-widgets/controls",
      "_model_module_version": "1.5.0",
      "_model_name": "HBoxModel",
      "_view_count": null,
      "_view_module": "@jupyter-widgets/controls",
      "_view_module_version": "1.5.0",
      "_view_name": "HBoxView",
      "box_style": "",
      "children": [
       "IPY_MODEL_de755fd2b241437584fcddc78cd6b6ae",
       "IPY_MODEL_29789d8f183c45a690a248a71d9a2bba",
       "IPY_MODEL_91ad421823384ff08428f0eb453987c0"
      ],
      "layout": "IPY_MODEL_bb535af350ae442f996f43ba846b4cbb"
     }
    },
    "78c0d24dee154f87af2426fbcbeedf68": {
     "model_module": "@jupyter-widgets/controls",
     "model_module_version": "1.5.0",
     "model_name": "HTMLModel",
     "state": {
      "_dom_classes": [],
      "_model_module": "@jupyter-widgets/controls",
      "_model_module_version": "1.5.0",
      "_model_name": "HTMLModel",
      "_view_count": null,
      "_view_module": "@jupyter-widgets/controls",
      "_view_module_version": "1.5.0",
      "_view_name": "HTMLView",
      "description": "",
      "description_tooltip": null,
      "layout": "IPY_MODEL_3c8cb8d1b09f4dc9adf977938f17069a",
      "placeholder": "​",
      "style": "IPY_MODEL_e29dd501d8c2441a86028d71a88bac97",
      "value": "Downloading (…)lve/main/config.json: 100%"
     }
    },
    "78c647855fe44125ba2a33fa02e019c9": {
     "model_module": "@jupyter-widgets/controls",
     "model_module_version": "1.5.0",
     "model_name": "ProgressStyleModel",
     "state": {
      "_model_module": "@jupyter-widgets/controls",
      "_model_module_version": "1.5.0",
      "_model_name": "ProgressStyleModel",
      "_view_count": null,
      "_view_module": "@jupyter-widgets/base",
      "_view_module_version": "1.2.0",
      "_view_name": "StyleView",
      "bar_color": null,
      "description_width": ""
     }
    },
    "799e7e2544504a97a5490f49d1550234": {
     "model_module": "@jupyter-widgets/controls",
     "model_module_version": "1.5.0",
     "model_name": "HTMLModel",
     "state": {
      "_dom_classes": [],
      "_model_module": "@jupyter-widgets/controls",
      "_model_module_version": "1.5.0",
      "_model_name": "HTMLModel",
      "_view_count": null,
      "_view_module": "@jupyter-widgets/controls",
      "_view_module_version": "1.5.0",
      "_view_name": "HTMLView",
      "description": "",
      "description_tooltip": null,
      "layout": "IPY_MODEL_e3b2d522bddb4c91ae2b0a12b1b07010",
      "placeholder": "​",
      "style": "IPY_MODEL_c62305c919b44ed094a65ea8fab1b7d9",
      "value": " 570/570 [00:00&lt;00:00, 11.7kB/s]"
     }
    },
    "7b88177f435c401ebd97234aa6698ee8": {
     "model_module": "@jupyter-widgets/controls",
     "model_module_version": "1.5.0",
     "model_name": "FloatProgressModel",
     "state": {
      "_dom_classes": [],
      "_model_module": "@jupyter-widgets/controls",
      "_model_module_version": "1.5.0",
      "_model_name": "FloatProgressModel",
      "_view_count": null,
      "_view_module": "@jupyter-widgets/controls",
      "_view_module_version": "1.5.0",
      "_view_name": "ProgressView",
      "bar_style": "success",
      "description": "",
      "description_tooltip": null,
      "layout": "IPY_MODEL_8fa8ac8e30494a979255a1213bba8ac5",
      "max": 345636463,
      "min": 0,
      "orientation": "horizontal",
      "style": "IPY_MODEL_78c647855fe44125ba2a33fa02e019c9",
      "value": 345636463
     }
    },
    "7c26d915971f453c84cee16ba3926e34": {
     "model_module": "@jupyter-widgets/base",
     "model_module_version": "1.2.0",
     "model_name": "LayoutModel",
     "state": {
      "_model_module": "@jupyter-widgets/base",
      "_model_module_version": "1.2.0",
      "_model_name": "LayoutModel",
      "_view_count": null,
      "_view_module": "@jupyter-widgets/base",
      "_view_module_version": "1.2.0",
      "_view_name": "LayoutView",
      "align_content": null,
      "align_items": null,
      "align_self": null,
      "border": null,
      "bottom": null,
      "display": null,
      "flex": null,
      "flex_flow": null,
      "grid_area": null,
      "grid_auto_columns": null,
      "grid_auto_flow": null,
      "grid_auto_rows": null,
      "grid_column": null,
      "grid_gap": null,
      "grid_row": null,
      "grid_template_areas": null,
      "grid_template_columns": null,
      "grid_template_rows": null,
      "height": null,
      "justify_content": null,
      "justify_items": null,
      "left": null,
      "margin": null,
      "max_height": null,
      "max_width": null,
      "min_height": null,
      "min_width": null,
      "object_fit": null,
      "object_position": null,
      "order": null,
      "overflow": null,
      "overflow_x": null,
      "overflow_y": null,
      "padding": null,
      "right": null,
      "top": null,
      "visibility": null,
      "width": null
     }
    },
    "7d030b3c9ff1440b847592463c3c24a6": {
     "model_module": "@jupyter-widgets/base",
     "model_module_version": "1.2.0",
     "model_name": "LayoutModel",
     "state": {
      "_model_module": "@jupyter-widgets/base",
      "_model_module_version": "1.2.0",
      "_model_name": "LayoutModel",
      "_view_count": null,
      "_view_module": "@jupyter-widgets/base",
      "_view_module_version": "1.2.0",
      "_view_name": "LayoutView",
      "align_content": null,
      "align_items": null,
      "align_self": null,
      "border": null,
      "bottom": null,
      "display": null,
      "flex": null,
      "flex_flow": null,
      "grid_area": null,
      "grid_auto_columns": null,
      "grid_auto_flow": null,
      "grid_auto_rows": null,
      "grid_column": null,
      "grid_gap": null,
      "grid_row": null,
      "grid_template_areas": null,
      "grid_template_columns": null,
      "grid_template_rows": null,
      "height": null,
      "justify_content": null,
      "justify_items": null,
      "left": null,
      "margin": null,
      "max_height": null,
      "max_width": null,
      "min_height": null,
      "min_width": null,
      "object_fit": null,
      "object_position": null,
      "order": null,
      "overflow": null,
      "overflow_x": null,
      "overflow_y": null,
      "padding": null,
      "right": null,
      "top": null,
      "visibility": null,
      "width": null
     }
    },
    "824504c950ca411396483a37362adad1": {
     "model_module": "@jupyter-widgets/controls",
     "model_module_version": "1.5.0",
     "model_name": "ProgressStyleModel",
     "state": {
      "_model_module": "@jupyter-widgets/controls",
      "_model_module_version": "1.5.0",
      "_model_name": "ProgressStyleModel",
      "_view_count": null,
      "_view_module": "@jupyter-widgets/base",
      "_view_module_version": "1.2.0",
      "_view_name": "StyleView",
      "bar_color": null,
      "description_width": ""
     }
    },
    "82c6583ec30448b49c581aa9a6b74d37": {
     "model_module": "@jupyter-widgets/controls",
     "model_module_version": "1.5.0",
     "model_name": "HTMLModel",
     "state": {
      "_dom_classes": [],
      "_model_module": "@jupyter-widgets/controls",
      "_model_module_version": "1.5.0",
      "_model_name": "HTMLModel",
      "_view_count": null,
      "_view_module": "@jupyter-widgets/controls",
      "_view_module_version": "1.5.0",
      "_view_name": "HTMLView",
      "description": "",
      "description_tooltip": null,
      "layout": "IPY_MODEL_e88b62af3a984a769585180080e8ceac",
      "placeholder": "​",
      "style": "IPY_MODEL_9999f4a8d615419a9590b7c67d47ecb6",
      "value": " 502/502 [00:00&lt;00:00, 21.2kB/s]"
     }
    },
    "89d3d046d0e84af5afa3db82339b0002": {
     "model_module": "@jupyter-widgets/controls",
     "model_module_version": "1.5.0",
     "model_name": "HBoxModel",
     "state": {
      "_dom_classes": [],
      "_model_module": "@jupyter-widgets/controls",
      "_model_module_version": "1.5.0",
      "_model_name": "HBoxModel",
      "_view_count": null,
      "_view_module": "@jupyter-widgets/controls",
      "_view_module_version": "1.5.0",
      "_view_name": "HBoxView",
      "box_style": "",
      "children": [
       "IPY_MODEL_7629138a25494d318269598c244838a4",
       "IPY_MODEL_e6e596653d25482490c041771e5256ab",
       "IPY_MODEL_645a398d7fc44dfaa29ce82799b3f3c4"
      ],
      "layout": "IPY_MODEL_6a882346dda74616936d9dc41779e5cf"
     }
    },
    "8ce02214645f4fe1b5cbc58ed9427186": {
     "model_module": "@jupyter-widgets/controls",
     "model_module_version": "1.5.0",
     "model_name": "DescriptionStyleModel",
     "state": {
      "_model_module": "@jupyter-widgets/controls",
      "_model_module_version": "1.5.0",
      "_model_name": "DescriptionStyleModel",
      "_view_count": null,
      "_view_module": "@jupyter-widgets/base",
      "_view_module_version": "1.2.0",
      "_view_name": "StyleView",
      "description_width": ""
     }
    },
    "8fa8ac8e30494a979255a1213bba8ac5": {
     "model_module": "@jupyter-widgets/base",
     "model_module_version": "1.2.0",
     "model_name": "LayoutModel",
     "state": {
      "_model_module": "@jupyter-widgets/base",
      "_model_module_version": "1.2.0",
      "_model_name": "LayoutModel",
      "_view_count": null,
      "_view_module": "@jupyter-widgets/base",
      "_view_module_version": "1.2.0",
      "_view_name": "LayoutView",
      "align_content": null,
      "align_items": null,
      "align_self": null,
      "border": null,
      "bottom": null,
      "display": null,
      "flex": null,
      "flex_flow": null,
      "grid_area": null,
      "grid_auto_columns": null,
      "grid_auto_flow": null,
      "grid_auto_rows": null,
      "grid_column": null,
      "grid_gap": null,
      "grid_row": null,
      "grid_template_areas": null,
      "grid_template_columns": null,
      "grid_template_rows": null,
      "height": null,
      "justify_content": null,
      "justify_items": null,
      "left": null,
      "margin": null,
      "max_height": null,
      "max_width": null,
      "min_height": null,
      "min_width": null,
      "object_fit": null,
      "object_position": null,
      "order": null,
      "overflow": null,
      "overflow_x": null,
      "overflow_y": null,
      "padding": null,
      "right": null,
      "top": null,
      "visibility": null,
      "width": null
     }
    },
    "91ad421823384ff08428f0eb453987c0": {
     "model_module": "@jupyter-widgets/controls",
     "model_module_version": "1.5.0",
     "model_name": "HTMLModel",
     "state": {
      "_dom_classes": [],
      "_model_module": "@jupyter-widgets/controls",
      "_model_module_version": "1.5.0",
      "_model_name": "HTMLModel",
      "_view_count": null,
      "_view_module": "@jupyter-widgets/controls",
      "_view_module_version": "1.5.0",
      "_view_name": "HTMLView",
      "description": "",
      "description_tooltip": null,
      "layout": "IPY_MODEL_9a05a4bf815349578c253e8d6ef2ffbb",
      "placeholder": "​",
      "style": "IPY_MODEL_c0a1644a71164de89b1d9c770e5231aa",
      "value": " 440M/440M [00:03&lt;00:00, 151MB/s]"
     }
    },
    "92386998a9844a8993ef54aff00a80f4": {
     "model_module": "@jupyter-widgets/controls",
     "model_module_version": "1.5.0",
     "model_name": "FloatProgressModel",
     "state": {
      "_dom_classes": [],
      "_model_module": "@jupyter-widgets/controls",
      "_model_module_version": "1.5.0",
      "_model_name": "FloatProgressModel",
      "_view_count": null,
      "_view_module": "@jupyter-widgets/controls",
      "_view_module_version": "1.5.0",
      "_view_name": "ProgressView",
      "bar_style": "",
      "description": "",
      "description_tooltip": null,
      "layout": "IPY_MODEL_54c40db23f9442e4ad08216769e9b251",
      "max": 226,
      "min": 0,
      "orientation": "horizontal",
      "style": "IPY_MODEL_40e483ac52a649f5b9981dc6fc19416f",
      "value": 226
     }
    },
    "935c5289e1614fa587fce62d9a3bbabc": {
     "model_module": "@jupyter-widgets/controls",
     "model_module_version": "1.5.0",
     "model_name": "FloatProgressModel",
     "state": {
      "_dom_classes": [],
      "_model_module": "@jupyter-widgets/controls",
      "_model_module_version": "1.5.0",
      "_model_name": "FloatProgressModel",
      "_view_count": null,
      "_view_module": "@jupyter-widgets/controls",
      "_view_module_version": "1.5.0",
      "_view_name": "ProgressView",
      "bar_style": "success",
      "description": "",
      "description_tooltip": null,
      "layout": "IPY_MODEL_ea8e9cf23bd64c2db87fddf870200e5a",
      "max": 1,
      "min": 0,
      "orientation": "horizontal",
      "style": "IPY_MODEL_18f3e38e2de24ce9a1448f98e9527f71",
      "value": 1
     }
    },
    "956be174f82848609a4680a9d13a3422": {
     "model_module": "@jupyter-widgets/controls",
     "model_module_version": "1.5.0",
     "model_name": "HTMLModel",
     "state": {
      "_dom_classes": [],
      "_model_module": "@jupyter-widgets/controls",
      "_model_module_version": "1.5.0",
      "_model_name": "HTMLModel",
      "_view_count": null,
      "_view_module": "@jupyter-widgets/controls",
      "_view_module_version": "1.5.0",
      "_view_name": "HTMLView",
      "description": "",
      "description_tooltip": null,
      "layout": "IPY_MODEL_9d54b474ad564553b515c57217d8438c",
      "placeholder": "​",
      "style": "IPY_MODEL_c04e1d83626e433a9fd398911d63b652",
      "value": "Downloading (…)okenizer_config.json: 100%"
     }
    },
    "9928691ffd884406be261d63afb4645a": {
     "model_module": "@jupyter-widgets/base",
     "model_module_version": "1.2.0",
     "model_name": "LayoutModel",
     "state": {
      "_model_module": "@jupyter-widgets/base",
      "_model_module_version": "1.2.0",
      "_model_name": "LayoutModel",
      "_view_count": null,
      "_view_module": "@jupyter-widgets/base",
      "_view_module_version": "1.2.0",
      "_view_name": "LayoutView",
      "align_content": null,
      "align_items": null,
      "align_self": null,
      "border": null,
      "bottom": null,
      "display": null,
      "flex": null,
      "flex_flow": null,
      "grid_area": null,
      "grid_auto_columns": null,
      "grid_auto_flow": null,
      "grid_auto_rows": null,
      "grid_column": null,
      "grid_gap": null,
      "grid_row": null,
      "grid_template_areas": null,
      "grid_template_columns": null,
      "grid_template_rows": null,
      "height": null,
      "justify_content": null,
      "justify_items": null,
      "left": null,
      "margin": null,
      "max_height": null,
      "max_width": null,
      "min_height": null,
      "min_width": null,
      "object_fit": null,
      "object_position": null,
      "order": null,
      "overflow": null,
      "overflow_x": null,
      "overflow_y": null,
      "padding": null,
      "right": null,
      "top": null,
      "visibility": null,
      "width": null
     }
    },
    "9999f4a8d615419a9590b7c67d47ecb6": {
     "model_module": "@jupyter-widgets/controls",
     "model_module_version": "1.5.0",
     "model_name": "DescriptionStyleModel",
     "state": {
      "_model_module": "@jupyter-widgets/controls",
      "_model_module_version": "1.5.0",
      "_model_name": "DescriptionStyleModel",
      "_view_count": null,
      "_view_module": "@jupyter-widgets/base",
      "_view_module_version": "1.2.0",
      "_view_name": "StyleView",
      "description_width": ""
     }
    },
    "9a009d9c20d04505a4b2898f931effea": {
     "model_module": "@jupyter-widgets/base",
     "model_module_version": "1.2.0",
     "model_name": "LayoutModel",
     "state": {
      "_model_module": "@jupyter-widgets/base",
      "_model_module_version": "1.2.0",
      "_model_name": "LayoutModel",
      "_view_count": null,
      "_view_module": "@jupyter-widgets/base",
      "_view_module_version": "1.2.0",
      "_view_name": "LayoutView",
      "align_content": null,
      "align_items": null,
      "align_self": null,
      "border": null,
      "bottom": null,
      "display": null,
      "flex": null,
      "flex_flow": null,
      "grid_area": null,
      "grid_auto_columns": null,
      "grid_auto_flow": null,
      "grid_auto_rows": null,
      "grid_column": null,
      "grid_gap": null,
      "grid_row": null,
      "grid_template_areas": null,
      "grid_template_columns": null,
      "grid_template_rows": null,
      "height": null,
      "justify_content": null,
      "justify_items": null,
      "left": null,
      "margin": null,
      "max_height": null,
      "max_width": null,
      "min_height": null,
      "min_width": null,
      "object_fit": null,
      "object_position": null,
      "order": null,
      "overflow": null,
      "overflow_x": null,
      "overflow_y": null,
      "padding": null,
      "right": null,
      "top": null,
      "visibility": null,
      "width": null
     }
    },
    "9a05a4bf815349578c253e8d6ef2ffbb": {
     "model_module": "@jupyter-widgets/base",
     "model_module_version": "1.2.0",
     "model_name": "LayoutModel",
     "state": {
      "_model_module": "@jupyter-widgets/base",
      "_model_module_version": "1.2.0",
      "_model_name": "LayoutModel",
      "_view_count": null,
      "_view_module": "@jupyter-widgets/base",
      "_view_module_version": "1.2.0",
      "_view_name": "LayoutView",
      "align_content": null,
      "align_items": null,
      "align_self": null,
      "border": null,
      "bottom": null,
      "display": null,
      "flex": null,
      "flex_flow": null,
      "grid_area": null,
      "grid_auto_columns": null,
      "grid_auto_flow": null,
      "grid_auto_rows": null,
      "grid_column": null,
      "grid_gap": null,
      "grid_row": null,
      "grid_template_areas": null,
      "grid_template_columns": null,
      "grid_template_rows": null,
      "height": null,
      "justify_content": null,
      "justify_items": null,
      "left": null,
      "margin": null,
      "max_height": null,
      "max_width": null,
      "min_height": null,
      "min_width": null,
      "object_fit": null,
      "object_position": null,
      "order": null,
      "overflow": null,
      "overflow_x": null,
      "overflow_y": null,
      "padding": null,
      "right": null,
      "top": null,
      "visibility": null,
      "width": null
     }
    },
    "9d54b474ad564553b515c57217d8438c": {
     "model_module": "@jupyter-widgets/base",
     "model_module_version": "1.2.0",
     "model_name": "LayoutModel",
     "state": {
      "_model_module": "@jupyter-widgets/base",
      "_model_module_version": "1.2.0",
      "_model_name": "LayoutModel",
      "_view_count": null,
      "_view_module": "@jupyter-widgets/base",
      "_view_module_version": "1.2.0",
      "_view_name": "LayoutView",
      "align_content": null,
      "align_items": null,
      "align_self": null,
      "border": null,
      "bottom": null,
      "display": null,
      "flex": null,
      "flex_flow": null,
      "grid_area": null,
      "grid_auto_columns": null,
      "grid_auto_flow": null,
      "grid_auto_rows": null,
      "grid_column": null,
      "grid_gap": null,
      "grid_row": null,
      "grid_template_areas": null,
      "grid_template_columns": null,
      "grid_template_rows": null,
      "height": null,
      "justify_content": null,
      "justify_items": null,
      "left": null,
      "margin": null,
      "max_height": null,
      "max_width": null,
      "min_height": null,
      "min_width": null,
      "object_fit": null,
      "object_position": null,
      "order": null,
      "overflow": null,
      "overflow_x": null,
      "overflow_y": null,
      "padding": null,
      "right": null,
      "top": null,
      "visibility": null,
      "width": null
     }
    },
    "a67ee830e4d445d7b2abb47f91e8d40c": {
     "model_module": "@jupyter-widgets/controls",
     "model_module_version": "1.5.0",
     "model_name": "ProgressStyleModel",
     "state": {
      "_model_module": "@jupyter-widgets/controls",
      "_model_module_version": "1.5.0",
      "_model_name": "ProgressStyleModel",
      "_view_count": null,
      "_view_module": "@jupyter-widgets/base",
      "_view_module_version": "1.2.0",
      "_view_name": "StyleView",
      "bar_color": null,
      "description_width": ""
     }
    },
    "a749ce76042c4084a84a6d6b2793ff34": {
     "model_module": "@jupyter-widgets/base",
     "model_module_version": "1.2.0",
     "model_name": "LayoutModel",
     "state": {
      "_model_module": "@jupyter-widgets/base",
      "_model_module_version": "1.2.0",
      "_model_name": "LayoutModel",
      "_view_count": null,
      "_view_module": "@jupyter-widgets/base",
      "_view_module_version": "1.2.0",
      "_view_name": "LayoutView",
      "align_content": null,
      "align_items": null,
      "align_self": null,
      "border": null,
      "bottom": null,
      "display": null,
      "flex": null,
      "flex_flow": null,
      "grid_area": null,
      "grid_auto_columns": null,
      "grid_auto_flow": null,
      "grid_auto_rows": null,
      "grid_column": null,
      "grid_gap": null,
      "grid_row": null,
      "grid_template_areas": null,
      "grid_template_columns": null,
      "grid_template_rows": null,
      "height": null,
      "justify_content": null,
      "justify_items": null,
      "left": null,
      "margin": null,
      "max_height": null,
      "max_width": null,
      "min_height": null,
      "min_width": null,
      "object_fit": null,
      "object_position": null,
      "order": null,
      "overflow": null,
      "overflow_x": null,
      "overflow_y": null,
      "padding": null,
      "right": null,
      "top": null,
      "visibility": null,
      "width": null
     }
    },
    "a7e6a2b63770482f96d62d4aed15a1cc": {
     "model_module": "@jupyter-widgets/base",
     "model_module_version": "1.2.0",
     "model_name": "LayoutModel",
     "state": {
      "_model_module": "@jupyter-widgets/base",
      "_model_module_version": "1.2.0",
      "_model_name": "LayoutModel",
      "_view_count": null,
      "_view_module": "@jupyter-widgets/base",
      "_view_module_version": "1.2.0",
      "_view_name": "LayoutView",
      "align_content": null,
      "align_items": null,
      "align_self": null,
      "border": null,
      "bottom": null,
      "display": null,
      "flex": null,
      "flex_flow": null,
      "grid_area": null,
      "grid_auto_columns": null,
      "grid_auto_flow": null,
      "grid_auto_rows": null,
      "grid_column": null,
      "grid_gap": null,
      "grid_row": null,
      "grid_template_areas": null,
      "grid_template_columns": null,
      "grid_template_rows": null,
      "height": null,
      "justify_content": null,
      "justify_items": null,
      "left": null,
      "margin": null,
      "max_height": null,
      "max_width": null,
      "min_height": null,
      "min_width": null,
      "object_fit": null,
      "object_position": null,
      "order": null,
      "overflow": null,
      "overflow_x": null,
      "overflow_y": null,
      "padding": null,
      "right": null,
      "top": null,
      "visibility": null,
      "width": null
     }
    },
    "a87c087af92a44768cb72ba49213dc94": {
     "model_module": "@jupyter-widgets/base",
     "model_module_version": "1.2.0",
     "model_name": "LayoutModel",
     "state": {
      "_model_module": "@jupyter-widgets/base",
      "_model_module_version": "1.2.0",
      "_model_name": "LayoutModel",
      "_view_count": null,
      "_view_module": "@jupyter-widgets/base",
      "_view_module_version": "1.2.0",
      "_view_name": "LayoutView",
      "align_content": null,
      "align_items": null,
      "align_self": null,
      "border": null,
      "bottom": null,
      "display": null,
      "flex": null,
      "flex_flow": null,
      "grid_area": null,
      "grid_auto_columns": null,
      "grid_auto_flow": null,
      "grid_auto_rows": null,
      "grid_column": null,
      "grid_gap": null,
      "grid_row": null,
      "grid_template_areas": null,
      "grid_template_columns": null,
      "grid_template_rows": null,
      "height": null,
      "justify_content": null,
      "justify_items": null,
      "left": null,
      "margin": null,
      "max_height": null,
      "max_width": null,
      "min_height": null,
      "min_width": null,
      "object_fit": null,
      "object_position": null,
      "order": null,
      "overflow": null,
      "overflow_x": null,
      "overflow_y": null,
      "padding": null,
      "right": null,
      "top": null,
      "visibility": null,
      "width": null
     }
    },
    "b14c80bc26ef4c43a359d0fe616a5f47": {
     "model_module": "@jupyter-widgets/controls",
     "model_module_version": "1.5.0",
     "model_name": "HBoxModel",
     "state": {
      "_dom_classes": [],
      "_model_module": "@jupyter-widgets/controls",
      "_model_module_version": "1.5.0",
      "_model_name": "HBoxModel",
      "_view_count": null,
      "_view_module": "@jupyter-widgets/controls",
      "_view_module_version": "1.5.0",
      "_view_name": "HBoxView",
      "box_style": "",
      "children": [
       "IPY_MODEL_2c1eb9b260524b5c88b63f1dae76030c",
       "IPY_MODEL_7b88177f435c401ebd97234aa6698ee8",
       "IPY_MODEL_6f3a2e1c9a8a4ee692bc81750ab72170"
      ],
      "layout": "IPY_MODEL_10e06e848f424eb3905bb5e23902be87"
     }
    },
    "b58c10ce254f46f086a3b73e8a6d8922": {
     "model_module": "@jupyter-widgets/controls",
     "model_module_version": "1.5.0",
     "model_name": "HTMLModel",
     "state": {
      "_dom_classes": [],
      "_model_module": "@jupyter-widgets/controls",
      "_model_module_version": "1.5.0",
      "_model_name": "HTMLModel",
      "_view_count": null,
      "_view_module": "@jupyter-widgets/controls",
      "_view_module_version": "1.5.0",
      "_view_name": "HTMLView",
      "description": "",
      "description_tooltip": null,
      "layout": "IPY_MODEL_32b8e58716794cef901720c0aef37347",
      "placeholder": "​",
      "style": "IPY_MODEL_7620edd16156458d9609810fcd197900",
      "value": " 28.0/28.0 [00:00&lt;00:00, 501B/s]"
     }
    },
    "b8471904b1c64c78b794238a1a5373c2": {
     "model_module": "@jupyter-widgets/base",
     "model_module_version": "1.2.0",
     "model_name": "LayoutModel",
     "state": {
      "_model_module": "@jupyter-widgets/base",
      "_model_module_version": "1.2.0",
      "_model_name": "LayoutModel",
      "_view_count": null,
      "_view_module": "@jupyter-widgets/base",
      "_view_module_version": "1.2.0",
      "_view_name": "LayoutView",
      "align_content": null,
      "align_items": null,
      "align_self": null,
      "border": null,
      "bottom": null,
      "display": null,
      "flex": null,
      "flex_flow": null,
      "grid_area": null,
      "grid_auto_columns": null,
      "grid_auto_flow": null,
      "grid_auto_rows": null,
      "grid_column": null,
      "grid_gap": null,
      "grid_row": null,
      "grid_template_areas": null,
      "grid_template_columns": null,
      "grid_template_rows": null,
      "height": null,
      "justify_content": null,
      "justify_items": null,
      "left": null,
      "margin": null,
      "max_height": null,
      "max_width": null,
      "min_height": null,
      "min_width": null,
      "object_fit": null,
      "object_position": null,
      "order": null,
      "overflow": null,
      "overflow_x": null,
      "overflow_y": null,
      "padding": null,
      "right": null,
      "top": null,
      "visibility": null,
      "width": null
     }
    },
    "bb535af350ae442f996f43ba846b4cbb": {
     "model_module": "@jupyter-widgets/base",
     "model_module_version": "1.2.0",
     "model_name": "LayoutModel",
     "state": {
      "_model_module": "@jupyter-widgets/base",
      "_model_module_version": "1.2.0",
      "_model_name": "LayoutModel",
      "_view_count": null,
      "_view_module": "@jupyter-widgets/base",
      "_view_module_version": "1.2.0",
      "_view_name": "LayoutView",
      "align_content": null,
      "align_items": null,
      "align_self": null,
      "border": null,
      "bottom": null,
      "display": null,
      "flex": null,
      "flex_flow": null,
      "grid_area": null,
      "grid_auto_columns": null,
      "grid_auto_flow": null,
      "grid_auto_rows": null,
      "grid_column": null,
      "grid_gap": null,
      "grid_row": null,
      "grid_template_areas": null,
      "grid_template_columns": null,
      "grid_template_rows": null,
      "height": null,
      "justify_content": null,
      "justify_items": null,
      "left": null,
      "margin": null,
      "max_height": null,
      "max_width": null,
      "min_height": null,
      "min_width": null,
      "object_fit": null,
      "object_position": null,
      "order": null,
      "overflow": null,
      "overflow_x": null,
      "overflow_y": null,
      "padding": null,
      "right": null,
      "top": null,
      "visibility": null,
      "width": null
     }
    },
    "bd77205e5b6e4cc08c041b2f2bd35ed1": {
     "model_module": "@jupyter-widgets/base",
     "model_module_version": "1.2.0",
     "model_name": "LayoutModel",
     "state": {
      "_model_module": "@jupyter-widgets/base",
      "_model_module_version": "1.2.0",
      "_model_name": "LayoutModel",
      "_view_count": null,
      "_view_module": "@jupyter-widgets/base",
      "_view_module_version": "1.2.0",
      "_view_name": "LayoutView",
      "align_content": null,
      "align_items": null,
      "align_self": null,
      "border": null,
      "bottom": null,
      "display": null,
      "flex": null,
      "flex_flow": null,
      "grid_area": null,
      "grid_auto_columns": null,
      "grid_auto_flow": null,
      "grid_auto_rows": null,
      "grid_column": null,
      "grid_gap": null,
      "grid_row": null,
      "grid_template_areas": null,
      "grid_template_columns": null,
      "grid_template_rows": null,
      "height": null,
      "justify_content": null,
      "justify_items": null,
      "left": null,
      "margin": null,
      "max_height": null,
      "max_width": null,
      "min_height": null,
      "min_width": null,
      "object_fit": null,
      "object_position": null,
      "order": null,
      "overflow": null,
      "overflow_x": null,
      "overflow_y": null,
      "padding": null,
      "right": null,
      "top": null,
      "visibility": null,
      "width": null
     }
    },
    "c04e1d83626e433a9fd398911d63b652": {
     "model_module": "@jupyter-widgets/controls",
     "model_module_version": "1.5.0",
     "model_name": "DescriptionStyleModel",
     "state": {
      "_model_module": "@jupyter-widgets/controls",
      "_model_module_version": "1.5.0",
      "_model_name": "DescriptionStyleModel",
      "_view_count": null,
      "_view_module": "@jupyter-widgets/base",
      "_view_module_version": "1.2.0",
      "_view_name": "StyleView",
      "description_width": ""
     }
    },
    "c0a1644a71164de89b1d9c770e5231aa": {
     "model_module": "@jupyter-widgets/controls",
     "model_module_version": "1.5.0",
     "model_name": "DescriptionStyleModel",
     "state": {
      "_model_module": "@jupyter-widgets/controls",
      "_model_module_version": "1.5.0",
      "_model_name": "DescriptionStyleModel",
      "_view_count": null,
      "_view_module": "@jupyter-widgets/base",
      "_view_module_version": "1.2.0",
      "_view_name": "StyleView",
      "description_width": ""
     }
    },
    "c0f8f4847a2f43b89acfaaced9c5a154": {
     "model_module": "@jupyter-widgets/controls",
     "model_module_version": "1.5.0",
     "model_name": "FloatProgressModel",
     "state": {
      "_dom_classes": [],
      "_model_module": "@jupyter-widgets/controls",
      "_model_module_version": "1.5.0",
      "_model_name": "FloatProgressModel",
      "_view_count": null,
      "_view_module": "@jupyter-widgets/controls",
      "_view_module_version": "1.5.0",
      "_view_name": "ProgressView",
      "bar_style": "success",
      "description": "",
      "description_tooltip": null,
      "layout": "IPY_MODEL_f9d07ebf1f0545d3929a1c34fb00828c",
      "max": 1,
      "min": 0,
      "orientation": "horizontal",
      "style": "IPY_MODEL_6bfd0bc63c1d4df48df6fe5cdaffed57",
      "value": 1
     }
    },
    "c2f4b679ec66433782348a678cd368fa": {
     "model_module": "@jupyter-widgets/controls",
     "model_module_version": "1.5.0",
     "model_name": "HTMLModel",
     "state": {
      "_dom_classes": [],
      "_model_module": "@jupyter-widgets/controls",
      "_model_module_version": "1.5.0",
      "_model_name": "HTMLModel",
      "_view_count": null,
      "_view_module": "@jupyter-widgets/controls",
      "_view_module_version": "1.5.0",
      "_view_name": "HTMLView",
      "description": "",
      "description_tooltip": null,
      "layout": "IPY_MODEL_66f5b53a886045b3a9c30abe19a88ee1",
      "placeholder": "​",
      "style": "IPY_MODEL_d09e0bc349b046999ac96911edde9f36",
      "value": "Downloading (…)solve/main/vocab.txt: "
     }
    },
    "c4928c205a9446c8a5592f57034b0b71": {
     "model_module": "@jupyter-widgets/controls",
     "model_module_version": "1.5.0",
     "model_name": "DescriptionStyleModel",
     "state": {
      "_model_module": "@jupyter-widgets/controls",
      "_model_module_version": "1.5.0",
      "_model_name": "DescriptionStyleModel",
      "_view_count": null,
      "_view_module": "@jupyter-widgets/base",
      "_view_module_version": "1.2.0",
      "_view_name": "StyleView",
      "description_width": ""
     }
    },
    "c62305c919b44ed094a65ea8fab1b7d9": {
     "model_module": "@jupyter-widgets/controls",
     "model_module_version": "1.5.0",
     "model_name": "DescriptionStyleModel",
     "state": {
      "_model_module": "@jupyter-widgets/controls",
      "_model_module_version": "1.5.0",
      "_model_name": "DescriptionStyleModel",
      "_view_count": null,
      "_view_module": "@jupyter-widgets/base",
      "_view_module_version": "1.2.0",
      "_view_name": "StyleView",
      "description_width": ""
     }
    },
    "c88e15c3f5214641a9c71a570d7a6d43": {
     "model_module": "@jupyter-widgets/controls",
     "model_module_version": "1.5.0",
     "model_name": "HTMLModel",
     "state": {
      "_dom_classes": [],
      "_model_module": "@jupyter-widgets/controls",
      "_model_module_version": "1.5.0",
      "_model_name": "HTMLModel",
      "_view_count": null,
      "_view_module": "@jupyter-widgets/controls",
      "_view_module_version": "1.5.0",
      "_view_name": "HTMLView",
      "description": "",
      "description_tooltip": null,
      "layout": "IPY_MODEL_59b20046d10040da97cd32cf93a30e79",
      "placeholder": "​",
      "style": "IPY_MODEL_eb64ff00360b42cd9e18e0dd2c24f074",
      "value": "Downloading (…)lve/main/config.json: 100%"
     }
    },
    "cba608aaab1b4ab5be8365a6b73447de": {
     "model_module": "@jupyter-widgets/controls",
     "model_module_version": "1.5.0",
     "model_name": "HBoxModel",
     "state": {
      "_dom_classes": [],
      "_model_module": "@jupyter-widgets/controls",
      "_model_module_version": "1.5.0",
      "_model_name": "HBoxModel",
      "_view_count": null,
      "_view_module": "@jupyter-widgets/controls",
      "_view_module_version": "1.5.0",
      "_view_name": "HBoxView",
      "box_style": "",
      "children": [
       "IPY_MODEL_56d4d3e0f74b420c97a0fd6b55694a03",
       "IPY_MODEL_4071b8170eb94088b43f54ff9912e0e7",
       "IPY_MODEL_3ff6b3d880114b579ffc911d124a95c9"
      ],
      "layout": "IPY_MODEL_a749ce76042c4084a84a6d6b2793ff34"
     }
    },
    "cc40caae010348919642fcfb45fb816f": {
     "model_module": "@jupyter-widgets/base",
     "model_module_version": "1.2.0",
     "model_name": "LayoutModel",
     "state": {
      "_model_module": "@jupyter-widgets/base",
      "_model_module_version": "1.2.0",
      "_model_name": "LayoutModel",
      "_view_count": null,
      "_view_module": "@jupyter-widgets/base",
      "_view_module_version": "1.2.0",
      "_view_name": "LayoutView",
      "align_content": null,
      "align_items": null,
      "align_self": null,
      "border": null,
      "bottom": null,
      "display": null,
      "flex": null,
      "flex_flow": null,
      "grid_area": null,
      "grid_auto_columns": null,
      "grid_auto_flow": null,
      "grid_auto_rows": null,
      "grid_column": null,
      "grid_gap": null,
      "grid_row": null,
      "grid_template_areas": null,
      "grid_template_columns": null,
      "grid_template_rows": null,
      "height": null,
      "justify_content": null,
      "justify_items": null,
      "left": null,
      "margin": null,
      "max_height": null,
      "max_width": null,
      "min_height": null,
      "min_width": null,
      "object_fit": null,
      "object_position": null,
      "order": null,
      "overflow": null,
      "overflow_x": null,
      "overflow_y": null,
      "padding": null,
      "right": null,
      "top": null,
      "visibility": null,
      "width": null
     }
    },
    "cef3be96825749e7bbb19f0573d646b8": {
     "model_module": "@jupyter-widgets/controls",
     "model_module_version": "1.5.0",
     "model_name": "FloatProgressModel",
     "state": {
      "_dom_classes": [],
      "_model_module": "@jupyter-widgets/controls",
      "_model_module_version": "1.5.0",
      "_model_name": "FloatProgressModel",
      "_view_count": null,
      "_view_module": "@jupyter-widgets/controls",
      "_view_module_version": "1.5.0",
      "_view_name": "ProgressView",
      "bar_style": "success",
      "description": "",
      "description_tooltip": null,
      "layout": "IPY_MODEL_4320efeed9a04e26b688388d4fafd3d9",
      "max": 570,
      "min": 0,
      "orientation": "horizontal",
      "style": "IPY_MODEL_a67ee830e4d445d7b2abb47f91e8d40c",
      "value": 570
     }
    },
    "cfa88dc71ee04ee3a1505bd25ef1e31d": {
     "model_module": "@jupyter-widgets/controls",
     "model_module_version": "1.5.0",
     "model_name": "HBoxModel",
     "state": {
      "_dom_classes": [],
      "_model_module": "@jupyter-widgets/controls",
      "_model_module_version": "1.5.0",
      "_model_name": "HBoxModel",
      "_view_count": null,
      "_view_module": "@jupyter-widgets/controls",
      "_view_module_version": "1.5.0",
      "_view_name": "HBoxView",
      "box_style": "",
      "children": [
       "IPY_MODEL_6b1cc6721a144d62a431cb2d440f6a0f",
       "IPY_MODEL_92386998a9844a8993ef54aff00a80f4",
       "IPY_MODEL_496e826396844df89d653f05a69dd916"
      ],
      "layout": "IPY_MODEL_e97d8c94cdb44d4bb97b94c20cfb242e"
     }
    },
    "d09e0bc349b046999ac96911edde9f36": {
     "model_module": "@jupyter-widgets/controls",
     "model_module_version": "1.5.0",
     "model_name": "DescriptionStyleModel",
     "state": {
      "_model_module": "@jupyter-widgets/controls",
      "_model_module_version": "1.5.0",
      "_model_name": "DescriptionStyleModel",
      "_view_count": null,
      "_view_module": "@jupyter-widgets/base",
      "_view_module_version": "1.2.0",
      "_view_name": "StyleView",
      "description_width": ""
     }
    },
    "d330aa040a6545d28ff5603180190e90": {
     "model_module": "@jupyter-widgets/controls",
     "model_module_version": "1.5.0",
     "model_name": "ProgressStyleModel",
     "state": {
      "_model_module": "@jupyter-widgets/controls",
      "_model_module_version": "1.5.0",
      "_model_name": "ProgressStyleModel",
      "_view_count": null,
      "_view_module": "@jupyter-widgets/base",
      "_view_module_version": "1.2.0",
      "_view_name": "StyleView",
      "bar_color": null,
      "description_width": ""
     }
    },
    "d6985bb1700d456cb734207e0c8c9f7a": {
     "model_module": "@jupyter-widgets/base",
     "model_module_version": "1.2.0",
     "model_name": "LayoutModel",
     "state": {
      "_model_module": "@jupyter-widgets/base",
      "_model_module_version": "1.2.0",
      "_model_name": "LayoutModel",
      "_view_count": null,
      "_view_module": "@jupyter-widgets/base",
      "_view_module_version": "1.2.0",
      "_view_name": "LayoutView",
      "align_content": null,
      "align_items": null,
      "align_self": null,
      "border": null,
      "bottom": null,
      "display": null,
      "flex": null,
      "flex_flow": null,
      "grid_area": null,
      "grid_auto_columns": null,
      "grid_auto_flow": null,
      "grid_auto_rows": null,
      "grid_column": null,
      "grid_gap": null,
      "grid_row": null,
      "grid_template_areas": null,
      "grid_template_columns": null,
      "grid_template_rows": null,
      "height": null,
      "justify_content": null,
      "justify_items": null,
      "left": null,
      "margin": null,
      "max_height": null,
      "max_width": null,
      "min_height": null,
      "min_width": null,
      "object_fit": null,
      "object_position": null,
      "order": null,
      "overflow": null,
      "overflow_x": null,
      "overflow_y": null,
      "padding": null,
      "right": null,
      "top": null,
      "visibility": null,
      "width": null
     }
    },
    "d98a5d984db24548aeb37e2402656b3d": {
     "model_module": "@jupyter-widgets/base",
     "model_module_version": "1.2.0",
     "model_name": "LayoutModel",
     "state": {
      "_model_module": "@jupyter-widgets/base",
      "_model_module_version": "1.2.0",
      "_model_name": "LayoutModel",
      "_view_count": null,
      "_view_module": "@jupyter-widgets/base",
      "_view_module_version": "1.2.0",
      "_view_name": "LayoutView",
      "align_content": null,
      "align_items": null,
      "align_self": null,
      "border": null,
      "bottom": null,
      "display": null,
      "flex": null,
      "flex_flow": null,
      "grid_area": null,
      "grid_auto_columns": null,
      "grid_auto_flow": null,
      "grid_auto_rows": null,
      "grid_column": null,
      "grid_gap": null,
      "grid_row": null,
      "grid_template_areas": null,
      "grid_template_columns": null,
      "grid_template_rows": null,
      "height": null,
      "justify_content": null,
      "justify_items": null,
      "left": null,
      "margin": null,
      "max_height": null,
      "max_width": null,
      "min_height": null,
      "min_width": null,
      "object_fit": null,
      "object_position": null,
      "order": null,
      "overflow": null,
      "overflow_x": null,
      "overflow_y": null,
      "padding": null,
      "right": null,
      "top": null,
      "visibility": null,
      "width": null
     }
    },
    "db9d081b980e4546bddd2ac6daa827f6": {
     "model_module": "@jupyter-widgets/controls",
     "model_module_version": "1.5.0",
     "model_name": "HBoxModel",
     "state": {
      "_dom_classes": [],
      "_model_module": "@jupyter-widgets/controls",
      "_model_module_version": "1.5.0",
      "_model_name": "HBoxModel",
      "_view_count": null,
      "_view_module": "@jupyter-widgets/controls",
      "_view_module_version": "1.5.0",
      "_view_name": "HBoxView",
      "box_style": "",
      "children": [
       "IPY_MODEL_78c0d24dee154f87af2426fbcbeedf68",
       "IPY_MODEL_cef3be96825749e7bbb19f0573d646b8",
       "IPY_MODEL_799e7e2544504a97a5490f49d1550234"
      ],
      "layout": "IPY_MODEL_bd77205e5b6e4cc08c041b2f2bd35ed1"
     }
    },
    "de0d3875807648b09bb7884c6c4d7c4e": {
     "model_module": "@jupyter-widgets/controls",
     "model_module_version": "1.5.0",
     "model_name": "DescriptionStyleModel",
     "state": {
      "_model_module": "@jupyter-widgets/controls",
      "_model_module_version": "1.5.0",
      "_model_name": "DescriptionStyleModel",
      "_view_count": null,
      "_view_module": "@jupyter-widgets/base",
      "_view_module_version": "1.2.0",
      "_view_name": "StyleView",
      "description_width": ""
     }
    },
    "de755fd2b241437584fcddc78cd6b6ae": {
     "model_module": "@jupyter-widgets/controls",
     "model_module_version": "1.5.0",
     "model_name": "HTMLModel",
     "state": {
      "_dom_classes": [],
      "_model_module": "@jupyter-widgets/controls",
      "_model_module_version": "1.5.0",
      "_model_name": "HTMLModel",
      "_view_count": null,
      "_view_module": "@jupyter-widgets/controls",
      "_view_module_version": "1.5.0",
      "_view_name": "HTMLView",
      "description": "",
      "description_tooltip": null,
      "layout": "IPY_MODEL_b8471904b1c64c78b794238a1a5373c2",
      "placeholder": "​",
      "style": "IPY_MODEL_c4928c205a9446c8a5592f57034b0b71",
      "value": "Downloading model.safetensors: 100%"
     }
    },
    "e29dd501d8c2441a86028d71a88bac97": {
     "model_module": "@jupyter-widgets/controls",
     "model_module_version": "1.5.0",
     "model_name": "DescriptionStyleModel",
     "state": {
      "_model_module": "@jupyter-widgets/controls",
      "_model_module_version": "1.5.0",
      "_model_name": "DescriptionStyleModel",
      "_view_count": null,
      "_view_module": "@jupyter-widgets/base",
      "_view_module_version": "1.2.0",
      "_view_name": "StyleView",
      "description_width": ""
     }
    },
    "e3b2d522bddb4c91ae2b0a12b1b07010": {
     "model_module": "@jupyter-widgets/base",
     "model_module_version": "1.2.0",
     "model_name": "LayoutModel",
     "state": {
      "_model_module": "@jupyter-widgets/base",
      "_model_module_version": "1.2.0",
      "_model_name": "LayoutModel",
      "_view_count": null,
      "_view_module": "@jupyter-widgets/base",
      "_view_module_version": "1.2.0",
      "_view_name": "LayoutView",
      "align_content": null,
      "align_items": null,
      "align_self": null,
      "border": null,
      "bottom": null,
      "display": null,
      "flex": null,
      "flex_flow": null,
      "grid_area": null,
      "grid_auto_columns": null,
      "grid_auto_flow": null,
      "grid_auto_rows": null,
      "grid_column": null,
      "grid_gap": null,
      "grid_row": null,
      "grid_template_areas": null,
      "grid_template_columns": null,
      "grid_template_rows": null,
      "height": null,
      "justify_content": null,
      "justify_items": null,
      "left": null,
      "margin": null,
      "max_height": null,
      "max_width": null,
      "min_height": null,
      "min_width": null,
      "object_fit": null,
      "object_position": null,
      "order": null,
      "overflow": null,
      "overflow_x": null,
      "overflow_y": null,
      "padding": null,
      "right": null,
      "top": null,
      "visibility": null,
      "width": null
     }
    },
    "e46cad7dcba641a4a279badd6309cdd1": {
     "model_module": "@jupyter-widgets/controls",
     "model_module_version": "1.5.0",
     "model_name": "DescriptionStyleModel",
     "state": {
      "_model_module": "@jupyter-widgets/controls",
      "_model_module_version": "1.5.0",
      "_model_name": "DescriptionStyleModel",
      "_view_count": null,
      "_view_module": "@jupyter-widgets/base",
      "_view_module_version": "1.2.0",
      "_view_name": "StyleView",
      "description_width": ""
     }
    },
    "e6e596653d25482490c041771e5256ab": {
     "model_module": "@jupyter-widgets/controls",
     "model_module_version": "1.5.0",
     "model_name": "FloatProgressModel",
     "state": {
      "_dom_classes": [],
      "_model_module": "@jupyter-widgets/controls",
      "_model_module_version": "1.5.0",
      "_model_name": "FloatProgressModel",
      "_view_count": null,
      "_view_module": "@jupyter-widgets/controls",
      "_view_module_version": "1.5.0",
      "_view_name": "ProgressView",
      "bar_style": "",
      "description": "",
      "description_tooltip": null,
      "layout": "IPY_MODEL_24b1d8b6bc314470bfd496c89ad72c19",
      "max": 1797,
      "min": 0,
      "orientation": "horizontal",
      "style": "IPY_MODEL_824504c950ca411396483a37362adad1",
      "value": 1797
     }
    },
    "e88b62af3a984a769585180080e8ceac": {
     "model_module": "@jupyter-widgets/base",
     "model_module_version": "1.2.0",
     "model_name": "LayoutModel",
     "state": {
      "_model_module": "@jupyter-widgets/base",
      "_model_module_version": "1.2.0",
      "_model_name": "LayoutModel",
      "_view_count": null,
      "_view_module": "@jupyter-widgets/base",
      "_view_module_version": "1.2.0",
      "_view_name": "LayoutView",
      "align_content": null,
      "align_items": null,
      "align_self": null,
      "border": null,
      "bottom": null,
      "display": null,
      "flex": null,
      "flex_flow": null,
      "grid_area": null,
      "grid_auto_columns": null,
      "grid_auto_flow": null,
      "grid_auto_rows": null,
      "grid_column": null,
      "grid_gap": null,
      "grid_row": null,
      "grid_template_areas": null,
      "grid_template_columns": null,
      "grid_template_rows": null,
      "height": null,
      "justify_content": null,
      "justify_items": null,
      "left": null,
      "margin": null,
      "max_height": null,
      "max_width": null,
      "min_height": null,
      "min_width": null,
      "object_fit": null,
      "object_position": null,
      "order": null,
      "overflow": null,
      "overflow_x": null,
      "overflow_y": null,
      "padding": null,
      "right": null,
      "top": null,
      "visibility": null,
      "width": null
     }
    },
    "e97d8c94cdb44d4bb97b94c20cfb242e": {
     "model_module": "@jupyter-widgets/base",
     "model_module_version": "1.2.0",
     "model_name": "LayoutModel",
     "state": {
      "_model_module": "@jupyter-widgets/base",
      "_model_module_version": "1.2.0",
      "_model_name": "LayoutModel",
      "_view_count": null,
      "_view_module": "@jupyter-widgets/base",
      "_view_module_version": "1.2.0",
      "_view_name": "LayoutView",
      "align_content": null,
      "align_items": null,
      "align_self": null,
      "border": null,
      "bottom": null,
      "display": null,
      "flex": null,
      "flex_flow": null,
      "grid_area": null,
      "grid_auto_columns": null,
      "grid_auto_flow": null,
      "grid_auto_rows": null,
      "grid_column": null,
      "grid_gap": null,
      "grid_row": null,
      "grid_template_areas": null,
      "grid_template_columns": null,
      "grid_template_rows": null,
      "height": null,
      "justify_content": null,
      "justify_items": null,
      "left": null,
      "margin": null,
      "max_height": null,
      "max_width": null,
      "min_height": null,
      "min_width": null,
      "object_fit": null,
      "object_position": null,
      "order": null,
      "overflow": null,
      "overflow_x": null,
      "overflow_y": null,
      "padding": null,
      "right": null,
      "top": null,
      "visibility": "hidden",
      "width": null
     }
    },
    "ea50aace82194f20955f9ee7997f0492": {
     "model_module": "@jupyter-widgets/base",
     "model_module_version": "1.2.0",
     "model_name": "LayoutModel",
     "state": {
      "_model_module": "@jupyter-widgets/base",
      "_model_module_version": "1.2.0",
      "_model_name": "LayoutModel",
      "_view_count": null,
      "_view_module": "@jupyter-widgets/base",
      "_view_module_version": "1.2.0",
      "_view_name": "LayoutView",
      "align_content": null,
      "align_items": null,
      "align_self": null,
      "border": null,
      "bottom": null,
      "display": null,
      "flex": null,
      "flex_flow": null,
      "grid_area": null,
      "grid_auto_columns": null,
      "grid_auto_flow": null,
      "grid_auto_rows": null,
      "grid_column": null,
      "grid_gap": null,
      "grid_row": null,
      "grid_template_areas": null,
      "grid_template_columns": null,
      "grid_template_rows": null,
      "height": null,
      "justify_content": null,
      "justify_items": null,
      "left": null,
      "margin": null,
      "max_height": null,
      "max_width": null,
      "min_height": null,
      "min_width": null,
      "object_fit": null,
      "object_position": null,
      "order": null,
      "overflow": null,
      "overflow_x": null,
      "overflow_y": null,
      "padding": null,
      "right": null,
      "top": null,
      "visibility": null,
      "width": null
     }
    },
    "ea8e9cf23bd64c2db87fddf870200e5a": {
     "model_module": "@jupyter-widgets/base",
     "model_module_version": "1.2.0",
     "model_name": "LayoutModel",
     "state": {
      "_model_module": "@jupyter-widgets/base",
      "_model_module_version": "1.2.0",
      "_model_name": "LayoutModel",
      "_view_count": null,
      "_view_module": "@jupyter-widgets/base",
      "_view_module_version": "1.2.0",
      "_view_name": "LayoutView",
      "align_content": null,
      "align_items": null,
      "align_self": null,
      "border": null,
      "bottom": null,
      "display": null,
      "flex": null,
      "flex_flow": null,
      "grid_area": null,
      "grid_auto_columns": null,
      "grid_auto_flow": null,
      "grid_auto_rows": null,
      "grid_column": null,
      "grid_gap": null,
      "grid_row": null,
      "grid_template_areas": null,
      "grid_template_columns": null,
      "grid_template_rows": null,
      "height": null,
      "justify_content": null,
      "justify_items": null,
      "left": null,
      "margin": null,
      "max_height": null,
      "max_width": null,
      "min_height": null,
      "min_width": null,
      "object_fit": null,
      "object_position": null,
      "order": null,
      "overflow": null,
      "overflow_x": null,
      "overflow_y": null,
      "padding": null,
      "right": null,
      "top": null,
      "visibility": null,
      "width": "20px"
     }
    },
    "eb59e2b2e38a49009ab74afea3719a25": {
     "model_module": "@jupyter-widgets/base",
     "model_module_version": "1.2.0",
     "model_name": "LayoutModel",
     "state": {
      "_model_module": "@jupyter-widgets/base",
      "_model_module_version": "1.2.0",
      "_model_name": "LayoutModel",
      "_view_count": null,
      "_view_module": "@jupyter-widgets/base",
      "_view_module_version": "1.2.0",
      "_view_name": "LayoutView",
      "align_content": null,
      "align_items": null,
      "align_self": null,
      "border": null,
      "bottom": null,
      "display": null,
      "flex": null,
      "flex_flow": null,
      "grid_area": null,
      "grid_auto_columns": null,
      "grid_auto_flow": null,
      "grid_auto_rows": null,
      "grid_column": null,
      "grid_gap": null,
      "grid_row": null,
      "grid_template_areas": null,
      "grid_template_columns": null,
      "grid_template_rows": null,
      "height": null,
      "justify_content": null,
      "justify_items": null,
      "left": null,
      "margin": null,
      "max_height": null,
      "max_width": null,
      "min_height": null,
      "min_width": null,
      "object_fit": null,
      "object_position": null,
      "order": null,
      "overflow": null,
      "overflow_x": null,
      "overflow_y": null,
      "padding": null,
      "right": null,
      "top": null,
      "visibility": null,
      "width": null
     }
    },
    "eb64ff00360b42cd9e18e0dd2c24f074": {
     "model_module": "@jupyter-widgets/controls",
     "model_module_version": "1.5.0",
     "model_name": "DescriptionStyleModel",
     "state": {
      "_model_module": "@jupyter-widgets/controls",
      "_model_module_version": "1.5.0",
      "_model_name": "DescriptionStyleModel",
      "_view_count": null,
      "_view_module": "@jupyter-widgets/base",
      "_view_module_version": "1.2.0",
      "_view_name": "StyleView",
      "description_width": ""
     }
    },
    "f0723e0cf3f64d93a9d48e9a8a0d4497": {
     "model_module": "@jupyter-widgets/base",
     "model_module_version": "1.2.0",
     "model_name": "LayoutModel",
     "state": {
      "_model_module": "@jupyter-widgets/base",
      "_model_module_version": "1.2.0",
      "_model_name": "LayoutModel",
      "_view_count": null,
      "_view_module": "@jupyter-widgets/base",
      "_view_module_version": "1.2.0",
      "_view_name": "LayoutView",
      "align_content": null,
      "align_items": null,
      "align_self": null,
      "border": null,
      "bottom": null,
      "display": null,
      "flex": null,
      "flex_flow": null,
      "grid_area": null,
      "grid_auto_columns": null,
      "grid_auto_flow": null,
      "grid_auto_rows": null,
      "grid_column": null,
      "grid_gap": null,
      "grid_row": null,
      "grid_template_areas": null,
      "grid_template_columns": null,
      "grid_template_rows": null,
      "height": null,
      "justify_content": null,
      "justify_items": null,
      "left": null,
      "margin": null,
      "max_height": null,
      "max_width": null,
      "min_height": null,
      "min_width": null,
      "object_fit": null,
      "object_position": null,
      "order": null,
      "overflow": null,
      "overflow_x": null,
      "overflow_y": null,
      "padding": null,
      "right": null,
      "top": null,
      "visibility": null,
      "width": null
     }
    },
    "f54076dcc0d64cb3af04b32bc8c006bb": {
     "model_module": "@jupyter-widgets/controls",
     "model_module_version": "1.5.0",
     "model_name": "FloatProgressModel",
     "state": {
      "_dom_classes": [],
      "_model_module": "@jupyter-widgets/controls",
      "_model_module_version": "1.5.0",
      "_model_name": "FloatProgressModel",
      "_view_count": null,
      "_view_module": "@jupyter-widgets/controls",
      "_view_module_version": "1.5.0",
      "_view_name": "ProgressView",
      "bar_style": "success",
      "description": "",
      "description_tooltip": null,
      "layout": "IPY_MODEL_cc40caae010348919642fcfb45fb816f",
      "max": 502,
      "min": 0,
      "orientation": "horizontal",
      "style": "IPY_MODEL_0013f78632f74ff9b7e969d28969e1f4",
      "value": 502
     }
    },
    "f7ce56ae76424487814f0ad488667852": {
     "model_module": "@jupyter-widgets/controls",
     "model_module_version": "1.5.0",
     "model_name": "DescriptionStyleModel",
     "state": {
      "_model_module": "@jupyter-widgets/controls",
      "_model_module_version": "1.5.0",
      "_model_name": "DescriptionStyleModel",
      "_view_count": null,
      "_view_module": "@jupyter-widgets/base",
      "_view_module_version": "1.2.0",
      "_view_name": "StyleView",
      "description_width": ""
     }
    },
    "f9d07ebf1f0545d3929a1c34fb00828c": {
     "model_module": "@jupyter-widgets/base",
     "model_module_version": "1.2.0",
     "model_name": "LayoutModel",
     "state": {
      "_model_module": "@jupyter-widgets/base",
      "_model_module_version": "1.2.0",
      "_model_name": "LayoutModel",
      "_view_count": null,
      "_view_module": "@jupyter-widgets/base",
      "_view_module_version": "1.2.0",
      "_view_name": "LayoutView",
      "align_content": null,
      "align_items": null,
      "align_self": null,
      "border": null,
      "bottom": null,
      "display": null,
      "flex": null,
      "flex_flow": null,
      "grid_area": null,
      "grid_auto_columns": null,
      "grid_auto_flow": null,
      "grid_auto_rows": null,
      "grid_column": null,
      "grid_gap": null,
      "grid_row": null,
      "grid_template_areas": null,
      "grid_template_columns": null,
      "grid_template_rows": null,
      "height": null,
      "justify_content": null,
      "justify_items": null,
      "left": null,
      "margin": null,
      "max_height": null,
      "max_width": null,
      "min_height": null,
      "min_width": null,
      "object_fit": null,
      "object_position": null,
      "order": null,
      "overflow": null,
      "overflow_x": null,
      "overflow_y": null,
      "padding": null,
      "right": null,
      "top": null,
      "visibility": null,
      "width": "20px"
     }
    },
    "fe9db109853c4514b658cc60d83c78de": {
     "model_module": "@jupyter-widgets/base",
     "model_module_version": "1.2.0",
     "model_name": "LayoutModel",
     "state": {
      "_model_module": "@jupyter-widgets/base",
      "_model_module_version": "1.2.0",
      "_model_name": "LayoutModel",
      "_view_count": null,
      "_view_module": "@jupyter-widgets/base",
      "_view_module_version": "1.2.0",
      "_view_name": "LayoutView",
      "align_content": null,
      "align_items": null,
      "align_self": null,
      "border": null,
      "bottom": null,
      "display": null,
      "flex": null,
      "flex_flow": null,
      "grid_area": null,
      "grid_auto_columns": null,
      "grid_auto_flow": null,
      "grid_auto_rows": null,
      "grid_column": null,
      "grid_gap": null,
      "grid_row": null,
      "grid_template_areas": null,
      "grid_template_columns": null,
      "grid_template_rows": null,
      "height": null,
      "justify_content": null,
      "justify_items": null,
      "left": null,
      "margin": null,
      "max_height": null,
      "max_width": null,
      "min_height": null,
      "min_width": null,
      "object_fit": null,
      "object_position": null,
      "order": null,
      "overflow": null,
      "overflow_x": null,
      "overflow_y": null,
      "padding": null,
      "right": null,
      "top": null,
      "visibility": null,
      "width": null
     }
    }
   }
  }
 },
 "nbformat": 4,
 "nbformat_minor": 4
}
